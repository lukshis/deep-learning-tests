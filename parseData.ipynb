{
 "cells": [
  {
   "cell_type": "code",
   "execution_count": 1,
   "metadata": {},
   "outputs": [],
   "source": [
    "import json\n",
    "import os"
   ]
  },
  {
   "cell_type": "code",
   "execution_count": 6,
   "metadata": {},
   "outputs": [],
   "source": [
    "path = \"./data/\"\n",
    "\n",
    "def read_data(path):\n",
    "\n",
    "    label_data = []\n",
    "    hand_data = []\n",
    "    all_data = []\n",
    "    for file in os.listdir(path):\n",
    "        #data_point = {}\n",
    "        with open(os.path.join(path, file), 'r') as f:\n",
    "            data = json.load(f)\n",
    "            hand = 0\n",
    "            match data['class']:\n",
    "                case \"thumbs_up\":\n",
    "                    label = 0\n",
    "                case \"thumbs_down\":\n",
    "                    label = 1\n",
    "                case \"ok\":\n",
    "                    label = 2\n",
    "                case \"victory\":\n",
    "                    label = 3   \n",
    "            if data['hand'] == \"left\":\n",
    "                hand = 1 \n",
    "            #data_point['label'] = label\n",
    "            #data_point['hand'] = hand\n",
    "            label_data.append(label)\n",
    "            hand_data.append(hand)\n",
    "            bones = []\n",
    "            for bone_data in data['pose']:\n",
    "                bone = [bone_data['comp']['rot']['roll'], bone_data['comp']['rot']['pitch'], bone_data['comp']['rot']['yaw']]\n",
    "                bone = [(item / 360) + 0.5 for item in bone]\n",
    "                bones.append(bone)\n",
    "            #data_point['rot'] = bones\n",
    "            all_data.append(bones)\n",
    "    return label_data, hand_data, all_data"
   ]
  }
 ],
 "metadata": {
  "kernelspec": {
   "display_name": ".venv",
   "language": "python",
   "name": "python3"
  },
  "language_info": {
   "codemirror_mode": {
    "name": "ipython",
    "version": 3
   },
   "file_extension": ".py",
   "mimetype": "text/x-python",
   "name": "python",
   "nbconvert_exporter": "python",
   "pygments_lexer": "ipython3",
   "version": "3.11.3"
  },
  "orig_nbformat": 4
 },
 "nbformat": 4,
 "nbformat_minor": 2
}
