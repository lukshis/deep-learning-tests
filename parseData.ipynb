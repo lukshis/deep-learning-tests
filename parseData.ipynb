{
 "cells": [
  {
   "cell_type": "code",
   "execution_count": 1,
   "metadata": {},
   "outputs": [],
   "source": [
    "import json\n",
    "import os, glob"
   ]
  },
  {
   "cell_type": "code",
   "execution_count": 40,
   "metadata": {},
   "outputs": [],
   "source": [
    "path = \"./data/\"\n",
    "\n",
    "def read_data(path):\n",
    "\n",
    "    label_data = []\n",
    "    all_data = []\n",
    "    for file in os.listdir(path):\n",
    "        data_point = {}\n",
    "        with open(os.path.join(path, file), 'r') as f:\n",
    "            data = json.load(f)\n",
    "            print(len(data['pose']))\n",
    "            bones = []\n",
    "            for bone in data['pose']:\n",
    "                bones.append(bone)\n",
    "            print(bones)\n",
    "            #print(data['class'])\n",
    "            #print(data['hand'])\n",
    "            #print(data['pose'][0]['world']['loc'])\n",
    "            #for bone_transform in data['pose']:\n",
    "\n",
    "            #print(data)\n",
    "            return\n",
    "    return all_data, pose_data"
   ]
  },
  {
   "cell_type": "code",
   "execution_count": 41,
   "metadata": {},
   "outputs": [
    {
     "name": "stdout",
     "output_type": "stream",
     "text": [
      "24\n",
      "[{'bone': 'Wrist_Root', 'world': {'loc': {'x': 41.585298, 'y': -15.506023, 'z': 101.534438}, 'rot': {'roll': 178.013061, 'pitch': 14.202583, 'yaw': 57.426152}}, 'comp': {'loc': {'x': 0.0, 'y': -0.0, 'z': 0.0}, 'rot': {'roll': 90.0, 'pitch': 0.0, 'yaw': 90.0}}}, {'bone': 'Forearm_Stub', 'world': {'loc': {'x': 41.585298, 'y': -15.506023, 'z': 101.534438}, 'rot': {'roll': 178.013061, 'pitch': 14.202583, 'yaw': 57.426152}}, 'comp': {'loc': {'x': 0.0, 'y': 0.0, 'z': 0.0}, 'rot': {'roll': 90.0, 'pitch': 0.0, 'yaw': 90.0}}}, {'bone': 'Thumb_0', 'world': {'loc': {'x': 41.546506, 'y': -13.489566, 'z': 103.082633}, 'rot': {'roll': -137.939873, 'pitch': 71.586537, 'yaw': 68.097725}}, 'comp': {'loc': {'x': 1.049652, 'y': 2.00693, 'z': 1.15541}, 'rot': {'roll': 122.989521, 'pitch': 5.031775, 'yaw': 32.396511}}}, {'bone': 'Thumb_1', 'world': {'loc': {'x': 41.839339, 'y': -12.761205, 'z': 105.440649}, 'rot': {'roll': -114.197159, 'pitch': 56.141337, 'yaw': 60.23625}}, 'comp': {'loc': {'x': 3.140017, 'y': 3.333338, 'z': 1.373387}, 'rot': {'roll': 154.947733, 'pitch': 2.893299, 'yaw': 48.086895}}}, {'bone': 'Thumb_2', 'world': {'loc': {'x': 42.738585, 'y': -11.188727, 'z': 108.140568}, 'rot': {'roll': -140.624248, 'pitch': 56.529402, 'yaw': 40.029001}}, 'comp': {'loc': {'x': 5.30912, 'y': 5.74973, 'z': 1.5375}, 'rot': {'roll': 145.477856, 'pitch': -8.119449, 'yaw': 46.227878}}}, {'bone': 'Thumb_3', 'world': {'loc': {'x': 44.165671, 'y': -9.990029, 'z': 110.959483}, 'rot': {'roll': -165.573127, 'pitch': 74.885432, 'yaw': 2.403062}}, 'comp': {'loc': {'x': 7.623464, 'y': 8.165459, 'z': 1.060215}, 'rot': {'roll': 159.286507, 'pitch': -10.506557, 'yaw': 22.847427}}}, {'bone': 'Index_1', 'world': {'loc': {'x': 45.734, 'y': -7.80587, 'z': 106.196019}, 'rot': {'roll': -164.319966, 'pitch': 1.568187, 'yaw': 130.494509}}, 'comp': {'loc': {'x': 2.355068, 'y': 9.599624, 'z': 0.731646}, 'rot': {'roll': 107.116474, 'pitch': 72.585185, 'yaw': 105.111988}}}, {'bone': 'Index_2', 'world': {'loc': {'x': 43.272018, 'y': -4.9227, 'z': 106.299813}, 'rot': {'roll': 176.586581, 'pitch': -12.402875, 'yaw': -120.127202}}, 'comp': {'loc': {'x': 2.059136, 'y': 10.695486, 'z': 4.350528}, 'rot': {'roll': -94.875222, 'pitch': -2.326066, 'yaw': -88.129481}}}, {'bone': 'Index_3', 'world': {'loc': {'x': 42.080635, 'y': -6.975696, 'z': 105.777809}, 'rot': {'roll': 164.935348, 'pitch': 0.095705, 'yaw': -45.851564}}, 'comp': {'loc': {'x': 2.1384, 'y': 8.268418, 'z': 4.251889}, 'rot': {'roll': -113.492061, 'pitch': -76.089359, 'yaw': -67.582787}}}, {'bone': 'Middle_1', 'world': {'loc': {'x': 46.344293, 'y': -7.596133, 'z': 104.056901}, 'rot': {'roll': -174.324936, 'pitch': 3.059261, 'yaw': 140.216187}}, 'comp': {'loc': {'x': 0.172591, 'y': 9.564661, 'z': 0.254315}, 'rot': {'roll': 87.473782, 'pitch': 82.226748, 'yaw': 95.674189}}}, {'bone': 'Middle_2', 'world': {'loc': {'x': 43.050207, 'y': -4.853181, 'z': 104.285997}, 'rot': {'roll': -178.502804, 'pitch': -4.670577, 'yaw': -118.145088}}, 'comp': {'loc': {'x': 0.115186, 'y': 10.142417, 'z': 4.50757}, 'rot': {'roll': -90.106033, 'pitch': -4.082945, 'yaw': -80.336366}}}, {'bone': 'Middle_3', 'world': {'loc': {'x': 41.754993, 'y': -7.274315, 'z': 104.06167}, 'rot': {'roll': 169.072624, 'pitch': 5.457319, 'yaw': -48.040271}}, 'comp': {'loc': {'x': 0.576469, 'y': 7.433445, 'z': 4.311416}, 'rot': {'roll': -125.367848, 'pitch': -72.437172, 'yaw': -50.852973}}}, {'bone': 'Ring_1', 'world': {'loc': {'x': 45.841147, 'y': -7.520139, 'z': 102.040374}, 'rot': {'roll': -176.836177, 'pitch': 7.205888, 'yaw': 145.039581}}, 'comp': {'loc': {'x': -1.746524, 'y': 8.86938, 'z': 0.652931}, 'rot': {'roll': 31.77922, 'pitch': 83.993478, 'yaw': 42.597073}}}, {'bone': 'Ring_2', 'world': {'loc': {'x': 42.67047, 'y': -5.303271, 'z': 102.529522}, 'rot': {'roll': -174.375514, 'pitch': 1.043658, 'yaw': -115.636995}}, 'comp': {'loc': {'x': -1.446137, 'y': 9.145572, 'z': 4.531132}, 'rot': {'roll': -86.431457, 'pitch': -6.409138, 'yaw': -74.52191}}}, {'bone': 'Ring_3', 'world': {'loc': {'x': 41.520916, 'y': -7.698606, 'z': 102.577923}, 'rot': {'roll': -178.512748, 'pitch': -0.504247, 'yaw': -42.221862}}, 'comp': {'loc': {'x': -0.741406, 'y': 6.600613, 'z': 4.2345}, 'rot': {'roll': -96.587422, 'pitch': -79.767569, 'yaw': -67.930081}}}, {'bone': 'Pinky_0', 'world': {'loc': {'x': 42.802471, 'y': -11.704166, 'z': 100.173878}, 'rot': {'roll': 154.553745, 'pitch': -0.98778, 'yaw': 63.319794}}, 'comp': {'loc': {'x': -2.299858, 'y': 3.407356, 'z': 0.941984}, 'rot': {'roll': 66.581601, 'pitch': 5.368745, 'yaw': 105.384593}}}, {'bone': 'Pinky_1', 'world': {'loc': {'x': 44.851929, 'y': -7.625773, 'z': 100.095421}, 'rot': {'roll': -175.830053, 'pitch': 18.219212, 'yaw': 147.348686}}, 'comp': {'loc': {'x': -3.505407, 'y': 7.789585, 'z': 1.369118}, 'rot': {'roll': 6.182485, 'pitch': 73.697544, 'yaw': 16.123467}}}, {'bone': 'Pinky_2', 'world': {'loc': {'x': 42.395035, 'y': -6.051422, 'z': 101.055906}, 'rot': {'roll': -169.21373, 'pitch': 2.246669, 'yaw': -119.075601}}, 'comp': {'loc': {'x': -2.676981, 'y': 8.029065, 'z': 4.317643}, 'rot': {'roll': -81.259079, 'pitch': -2.93095, 'yaw': -73.439597}}}, {'bone': 'Pinky_3', 'world': {'loc': {'x': 41.408735, 'y': -7.825229, 'z': 101.13553}, 'rot': {'roll': -171.119875, 'pitch': -5.570104, 'yaw': -50.779879}}, 'comp': {'loc': {'x': -2.098811, 'y': 6.084726, 'z': 4.213786}, 'rot': {'roll': -70.781021, 'pitch': -70.997175, 'yaw': -87.361629}}}, {'bone': 'Thumb_Tip', 'world': {'loc': {'x': 44.849124, 'y': -10.07761, 'z': 113.323234}, 'rot': {'roll': -165.573127, 'pitch': 74.885432, 'yaw': 2.403062}}, 'comp': {'loc': {'x': 9.863064, 'y': 9.030574, 'z': 0.51444}, 'rot': {'roll': 159.286507, 'pitch': -10.506557, 'yaw': 22.847427}}}, {'bone': 'Index_Tip', 'world': {'loc': {'x': 43.572839, 'y': -8.644009, 'z': 105.726357}, 'rot': {'roll': 164.935348, 'pitch': 0.095705, 'yaw': -45.851564}}, 'comp': {'loc': {'x': 2.311027, 'y': 7.671707, 'z': 2.100907}, 'rot': {'roll': -113.492061, 'pitch': -76.089359, 'yaw': -67.582787}}}, {'bone': 'Middle_Tip', 'world': {'loc': {'x': 43.341213, 'y': -9.196747, 'z': 104.247467}, 'rot': {'roll': 169.072624, 'pitch': 5.457319, 'yaw': -48.040271}}, 'comp': {'loc': {'x': 1.026544, 'y': 6.736413, 'z': 1.953887}, 'rot': {'roll': -125.367848, 'pitch': -72.437172, 'yaw': -50.852973}}}, {'bone': 'Ring_Tip', 'world': {'loc': {'x': 43.213689, 'y': -9.452687, 'z': 102.534908}, 'rot': {'roll': -178.512748, 'pitch': -0.504247, 'yaw': -42.221862}}, 'comp': {'loc': {'x': -0.561899, 'y': 6.040589, 'z': 1.868432}, 'rot': {'roll': -96.587422, 'pitch': -79.76757, 'yaw': -67.930081}}}, {'bone': 'Pinky_Tip', 'world': {'loc': {'x': 42.700856, 'y': -9.592395, 'z': 100.965665}, 'rot': {'roll': -171.119875, 'pitch': -5.570104, 'yaw': -50.779879}}, 'comp': {'loc': {'x': -1.998069, 'y': 5.273777, 'z': 2.175768}, 'rot': {'roll': -70.781021, 'pitch': -70.997175, 'yaw': -87.361629}}}]\n"
     ]
    }
   ],
   "source": [
    "read_data(path)"
   ]
  }
 ],
 "metadata": {
  "kernelspec": {
   "display_name": ".venv",
   "language": "python",
   "name": "python3"
  },
  "language_info": {
   "codemirror_mode": {
    "name": "ipython",
    "version": 3
   },
   "file_extension": ".py",
   "mimetype": "text/x-python",
   "name": "python",
   "nbconvert_exporter": "python",
   "pygments_lexer": "ipython3",
   "version": "3.10.11"
  },
  "orig_nbformat": 4
 },
 "nbformat": 4,
 "nbformat_minor": 2
}
