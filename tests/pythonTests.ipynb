{
 "cells": [
  {
   "cell_type": "code",
   "execution_count": 2,
   "metadata": {},
   "outputs": [
    {
     "name": "stdout",
     "output_type": "stream",
     "text": [
      "0.8444218515250481\n",
      "0.8444218515250481\n",
      "---------------------\n",
      "0.13436424411240122\n",
      "0.13436424411240122\n",
      "---------------------\n",
      "0.9560342718892494\n",
      "0.9560342718892494\n",
      "---------------------\n",
      "0.23796462709189137\n",
      "0.23796462709189137\n",
      "---------------------\n",
      "0.23604808973743452\n",
      "0.23604808973743452\n",
      "---------------------\n",
      "0.6229016948897019\n",
      "0.6229016948897019\n",
      "---------------------\n",
      "0.793340083761663\n",
      "0.793340083761663\n",
      "---------------------\n",
      "0.32383276483316237\n",
      "0.32383276483316237\n",
      "---------------------\n",
      "0.2267058593810488\n",
      "0.2267058593810488\n",
      "---------------------\n",
      "0.46300735781502145\n",
      "0.46300735781502145\n",
      "---------------------\n"
     ]
    }
   ],
   "source": [
    "import random\n",
    "\n",
    "#seed = 1.0\n",
    "\n",
    "# old_state = random.getstate()\n",
    "# print(old_state[1])\n",
    "# print(random.random())\n",
    "\n",
    "# random.setstate(old_state)\n",
    "# print(random.random())\n",
    "\n",
    "# random.setstate(seed)\n",
    "# print(random.random())\n",
    "for i in range(10):\n",
    "    random.seed(i)\n",
    "    print(random.random())\n",
    "\n",
    "    random.seed(i)\n",
    "    print(random.random())\n",
    "\n",
    "    print('---------------------')"
   ]
  }
 ],
 "metadata": {
  "kernelspec": {
   "display_name": ".venv",
   "language": "python",
   "name": "python3"
  },
  "language_info": {
   "codemirror_mode": {
    "name": "ipython",
    "version": 3
   },
   "file_extension": ".py",
   "mimetype": "text/x-python",
   "name": "python",
   "nbconvert_exporter": "python",
   "pygments_lexer": "ipython3",
   "version": "3.10.11"
  },
  "orig_nbformat": 4
 },
 "nbformat": 4,
 "nbformat_minor": 2
}
