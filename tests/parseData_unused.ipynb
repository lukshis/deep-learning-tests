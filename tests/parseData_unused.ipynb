{
 "cells": [
  {
   "cell_type": "code",
   "execution_count": 31,
   "metadata": {},
   "outputs": [],
   "source": [
    "import json\n",
    "import os\n",
    "import numpy as np\n",
    "from classMatch import ClassToNumber as CTN"
   ]
  },
  {
   "cell_type": "code",
   "execution_count": 40,
   "metadata": {},
   "outputs": [],
   "source": [
    "path = \"./data/\"\n",
    "\n",
    "def read_data(path, edit='none',loc=False):\n",
    "\n",
    "    all_data = []\n",
    "    for file in os.listdir(path):\n",
    "        with open(os.path.join(path, file), 'r') as f:\n",
    "            data = json.load(f)\n",
    "            hand = 0\n",
    "            label = CTN(data['class'])\n",
    "            if data['hand'] == \"left\":\n",
    "                hand = 1\n",
    "            bones_rot = []\n",
    "            if loc:\n",
    "                bones_loc = []\n",
    "            for bone_data in data['pose']:\n",
    "                rotation = [bone_data['comp']['rot']['roll'], bone_data['comp']['rot']['pitch'], bone_data['comp']['rot']['yaw']]\n",
    "                match edit:\n",
    "                    case 'none':\n",
    "                        None\n",
    "                    case 'nor':\n",
    "                        bone = [(item / 360) + 0.5 for item in bone]\n",
    "                    case 'stan':\n",
    "                        bone = [(item / 180) for item in bone]\n",
    "                bones_rot.append(rotation)\n",
    "                if loc:\n",
    "                    location = [bone_data['comp']['loc']['x'], bone_data['comp']['loc']['y'], bone_data['comp']['loc']['z']]\n",
    "                    bones_loc.append(location)\n",
    "            array = np.array(bones_rot)\n",
    "            array = np.insert(array, 0, hand)\n",
    "            array = np.insert(array, 0, label)\n",
    "            array = array.flatten()\n",
    "            all_data.append(array)\n",
    "    return  np.array(all_data)"
   ]
  }
 ],
 "metadata": {
  "kernelspec": {
   "display_name": ".venv",
   "language": "python",
   "name": "python3"
  },
  "language_info": {
   "codemirror_mode": {
    "name": "ipython",
    "version": 3
   },
   "file_extension": ".py",
   "mimetype": "text/x-python",
   "name": "python",
   "nbconvert_exporter": "python",
   "pygments_lexer": "ipython3",
   "version": "3.10.11"
  },
  "orig_nbformat": 4
 },
 "nbformat": 4,
 "nbformat_minor": 2
}
