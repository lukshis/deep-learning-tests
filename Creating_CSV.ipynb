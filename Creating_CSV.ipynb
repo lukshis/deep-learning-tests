{
 "cells": [
  {
   "cell_type": "code",
   "execution_count": 35,
   "id": "1052719c",
   "metadata": {},
   "outputs": [],
   "source": [
    "import os\n",
    "import json\n",
    "import numpy as np\n",
    "from csv import writer"
   ]
  },
  {
   "cell_type": "code",
   "execution_count": 36,
   "id": "ee28768c",
   "metadata": {},
   "outputs": [],
   "source": [
    "data_dir = r\"C:\\Users\\PC\\Desktop\\Lukutis\\data\""
   ]
  },
  {
   "cell_type": "code",
   "execution_count": 37,
   "id": "e747b1a8",
   "metadata": {},
   "outputs": [],
   "source": [
    "#returns hand from one json file\n",
    "def whathand(handclass):\n",
    "    if handclass == 'left':\n",
    "        hand = 0\n",
    "    if handclass == 'right':\n",
    "        hand = 1\n",
    "    return hand"
   ]
  },
  {
   "cell_type": "code",
   "execution_count": 38,
   "id": "e9196974",
   "metadata": {},
   "outputs": [],
   "source": [
    "#returns class from one json file\n",
    "def whatclass(movementclass):\n",
    "    if movementclass == 'thumbs_up':\n",
    "        clss = 0\n",
    "    if movementclass == 'thumbs_down':\n",
    "        clss = 1\n",
    "    if movementclass == 'ok':\n",
    "        clss = 2\n",
    "    if movementclass == 'victory':\n",
    "        clss = 3\n",
    "    return clss"
   ]
  },
  {
   "cell_type": "code",
   "execution_count": 39,
   "id": "f76f1bc1",
   "metadata": {
    "scrolled": false
   },
   "outputs": [],
   "source": [
    "#returns bones data from one json file\n",
    "def whatposedata(poseclass):\n",
    "    data_line = []\n",
    "    for x in poseclass:    \n",
    "        bone_data = x['comp']['rot']\n",
    "\n",
    "        bone_rot = []\n",
    "        for k, v in bone_data.items():\n",
    "            bone_rot.append(v)\n",
    "\n",
    "        data_line.append(bone_rot)\n",
    "        \n",
    "    return data_line"
   ]
  },
  {
   "cell_type": "code",
   "execution_count": 40,
   "id": "ee9aba28",
   "metadata": {},
   "outputs": [],
   "source": [
    "for idx, x in enumerate(os.listdir(data_dir)):\n",
    "    f = open(data_dir + \"/\" + x)\n",
    "    data = json.load(f)\n",
    "    \n",
    "    pose = whatposedata(data['pose'])\n",
    "    np_arr = np.array([np.array(x) for x in pose])\n",
    "    \n",
    "    clss = whatclass(data['class'])\n",
    "    hand = whathand(data['hand'])\n",
    "    \n",
    "    np_arr = np.insert(np_arr,0 , hand)\n",
    "    np_arr = np.insert(np_arr,0 , clss)\n",
    "    np_arr = np_arr.flatten()\n",
    "    \n",
    "    with open(data_dir + \"/\" +'hand-pose-data.csv', 'a', newline='') as f_object:\n",
    "        writer_object = writer(f_object)\n",
    "        writer_object.writerow(np_arr)\n",
    "        f_object.close()\n"
   ]
  }
 ],
 "metadata": {
  "kernelspec": {
   "display_name": "Python 3 (ipykernel)",
   "language": "python",
   "name": "python3"
  },
  "language_info": {
   "codemirror_mode": {
    "name": "ipython",
    "version": 3
   },
   "file_extension": ".py",
   "mimetype": "text/x-python",
   "name": "python",
   "nbconvert_exporter": "python",
   "pygments_lexer": "ipython3",
   "version": "3.10.5"
  }
 },
 "nbformat": 4,
 "nbformat_minor": 5
}
