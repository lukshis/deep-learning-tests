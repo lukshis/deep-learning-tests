{
  "nbformat": 4,
  "nbformat_minor": 0,
  "metadata": {
    "colab": {
      "provenance": [],
      "machine_shape": "hm",
      "collapsed_sections": [
        "Di3bXlrt_2D7",
        "WLGuNvTetTsb",
        "3M6Y1qJxwevi",
        "5ZkFPdpzvufG",
        "RhPMGvdqL-66",
        "tamGRqsuV__t",
        "w1u2BW-8X__U",
        "IybSGAD-2iUh",
        "bh_mMRWype95"
      ],
      "gpuClass": "premium"
    },
    "kernelspec": {
      "name": "python3",
      "display_name": "Python 3"
    },
    "language_info": {
      "name": "python"
    },
    "accelerator": "GPU",
    "gpuClass": "premium"
  },
  "cells": [
    {
      "cell_type": "markdown",
      "source": [
        "#1. Data Preparation"
      ],
      "metadata": {
        "id": "x40eFfHeGdJO"
      }
    },
    {
      "cell_type": "code",
      "source": [
        "# Seed value\n",
        "seed_value= 1\n",
        "\n",
        "# 1. Set `PYTHONHASHSEED` environment variable at a fixed value\n",
        "import os\n",
        "os.environ['PYTHONHASHSEED']=str(seed_value)\n",
        "seed_value += 1\n",
        "\n",
        "# 2. Set `python` built-in pseudo-random generator at a fixed value\n",
        "import random\n",
        "random.seed(seed_value)\n",
        "seed_value += 1\n",
        "\n",
        "# 3. Set `numpy` pseudo-random generator at a fixed value\n",
        "import numpy as np\n",
        "np.random.seed(seed_value)\n",
        "seed_value += 1\n",
        "\n",
        "# 4. Set `tensorflow` pseudo-random generator at a fixed value\n",
        "import tensorflow as tf\n",
        "tf.random.set_seed(seed_value)"
      ],
      "metadata": {
        "id": "20xJTw8d0EJB"
      },
      "execution_count": 43,
      "outputs": []
    },
    {
      "cell_type": "code",
      "source": [
        "import pandas as pd # data processing, CSV file I/O\n",
        "import matplotlib.pyplot as plt #ploting graphs\n",
        "import seaborn as sns #ploting histogram\n",
        "from keras.utils import to_categorical\n",
        "from sklearn import preprocessing"
      ],
      "metadata": {
        "id": "uPuRX3RTMQ3R"
      },
      "execution_count": 44,
      "outputs": []
    },
    {
      "cell_type": "code",
      "source": [
        "from google.colab import drive\n",
        "drive.mount('/content/gdrive/', force_remount=True)"
      ],
      "metadata": {
        "id": "37qIMPkvIE2_",
        "colab": {
          "base_uri": "https://localhost:8080/"
        },
        "outputId": "c18dea29-00ae-4bae-d2bd-6524a4a6107c"
      },
      "execution_count": 45,
      "outputs": [
        {
          "output_type": "stream",
          "name": "stdout",
          "text": [
            "Mounted at /content/gdrive/\n"
          ]
        }
      ]
    },
    {
      "cell_type": "code",
      "execution_count": 62,
      "metadata": {
        "id": "Dsw9FHRvHoxO"
      },
      "outputs": [],
      "source": [
        "df = pd.read_csv(\"/content/gdrive/MyDrive/Colab Notebooks/HandPoseDetection/hand-pose-data.csv\")"
      ]
    },
    {
      "cell_type": "code",
      "source": [
        "df.head()"
      ],
      "metadata": {
        "colab": {
          "base_uri": "https://localhost:8080/",
          "height": 236
        },
        "id": "R7NmBptKR0nE",
        "outputId": "b0bdc2d1-a027-49fe-8ac0-4dd957d34c15"
      },
      "execution_count": 63,
      "outputs": [
        {
          "output_type": "execute_result",
          "data": {
            "text/plain": [
              "   0.0  0.0.1  90.0  0.0.2  90.0.1  90.0.2  0.0.3  90.0.3  122.989521  \\\n",
              "0  2.0    1.0  90.0    0.0    90.0    90.0    0.0    90.0  135.335277   \n",
              "1  2.0    1.0  90.0    0.0    90.0    90.0    0.0    90.0  141.891296   \n",
              "2  2.0    0.0  90.0    0.0    90.0    90.0    0.0    90.0  141.153613   \n",
              "3  0.0    0.0  90.0    0.0    90.0    90.0    0.0    90.0  123.134389   \n",
              "4  0.0    1.0  90.0    0.0    90.0    90.0    0.0    90.0  123.769590   \n",
              "\n",
              "    5.031775  ...  -67.582787.1  -125.367848.1  -72.437172.1  -50.852973.1  \\\n",
              "0  22.762292  ...   -102.868148      83.136421     15.529929     90.343455   \n",
              "1  28.615349  ...   -109.162265      82.213256     36.904574     89.425871   \n",
              "2  28.042486  ...   -105.087837      83.791429      7.936759     89.145902   \n",
              "3   5.315064  ...    -66.555146    -124.152353    -72.004125    -51.785051   \n",
              "4   6.529529  ...    -75.231125    -112.589115    -62.403363    -63.756582   \n",
              "\n",
              "   -96.587422.1  -79.76757  -67.930081.1  -70.781021.1  -70.997175.1  \\\n",
              "0     78.789987   5.173831     90.525847     72.386893     -4.364089   \n",
              "1     76.610167  22.542002     89.209393     73.080910     -3.183434   \n",
              "2     79.618323  -2.325866     93.411176     73.203217    -12.320351   \n",
              "3    -94.026793 -73.783497    -70.421552    -73.377815    -68.075547   \n",
              "4    -92.894409 -73.613791    -70.500902    -71.581979    -68.463486   \n",
              "\n",
              "   -87.361629.1  \n",
              "0    104.625646  \n",
              "1    110.232384  \n",
              "2    108.900585  \n",
              "3    -86.260239  \n",
              "4    -84.695577  \n",
              "\n",
              "[5 rows x 74 columns]"
            ],
            "text/html": [
              "\n",
              "  <div id=\"df-b9d4d839-ee38-4836-8aa6-3c4a8d2b7626\">\n",
              "    <div class=\"colab-df-container\">\n",
              "      <div>\n",
              "<style scoped>\n",
              "    .dataframe tbody tr th:only-of-type {\n",
              "        vertical-align: middle;\n",
              "    }\n",
              "\n",
              "    .dataframe tbody tr th {\n",
              "        vertical-align: top;\n",
              "    }\n",
              "\n",
              "    .dataframe thead th {\n",
              "        text-align: right;\n",
              "    }\n",
              "</style>\n",
              "<table border=\"1\" class=\"dataframe\">\n",
              "  <thead>\n",
              "    <tr style=\"text-align: right;\">\n",
              "      <th></th>\n",
              "      <th>0.0</th>\n",
              "      <th>0.0.1</th>\n",
              "      <th>90.0</th>\n",
              "      <th>0.0.2</th>\n",
              "      <th>90.0.1</th>\n",
              "      <th>90.0.2</th>\n",
              "      <th>0.0.3</th>\n",
              "      <th>90.0.3</th>\n",
              "      <th>122.989521</th>\n",
              "      <th>5.031775</th>\n",
              "      <th>...</th>\n",
              "      <th>-67.582787.1</th>\n",
              "      <th>-125.367848.1</th>\n",
              "      <th>-72.437172.1</th>\n",
              "      <th>-50.852973.1</th>\n",
              "      <th>-96.587422.1</th>\n",
              "      <th>-79.76757</th>\n",
              "      <th>-67.930081.1</th>\n",
              "      <th>-70.781021.1</th>\n",
              "      <th>-70.997175.1</th>\n",
              "      <th>-87.361629.1</th>\n",
              "    </tr>\n",
              "  </thead>\n",
              "  <tbody>\n",
              "    <tr>\n",
              "      <th>0</th>\n",
              "      <td>2.0</td>\n",
              "      <td>1.0</td>\n",
              "      <td>90.0</td>\n",
              "      <td>0.0</td>\n",
              "      <td>90.0</td>\n",
              "      <td>90.0</td>\n",
              "      <td>0.0</td>\n",
              "      <td>90.0</td>\n",
              "      <td>135.335277</td>\n",
              "      <td>22.762292</td>\n",
              "      <td>...</td>\n",
              "      <td>-102.868148</td>\n",
              "      <td>83.136421</td>\n",
              "      <td>15.529929</td>\n",
              "      <td>90.343455</td>\n",
              "      <td>78.789987</td>\n",
              "      <td>5.173831</td>\n",
              "      <td>90.525847</td>\n",
              "      <td>72.386893</td>\n",
              "      <td>-4.364089</td>\n",
              "      <td>104.625646</td>\n",
              "    </tr>\n",
              "    <tr>\n",
              "      <th>1</th>\n",
              "      <td>2.0</td>\n",
              "      <td>1.0</td>\n",
              "      <td>90.0</td>\n",
              "      <td>0.0</td>\n",
              "      <td>90.0</td>\n",
              "      <td>90.0</td>\n",
              "      <td>0.0</td>\n",
              "      <td>90.0</td>\n",
              "      <td>141.891296</td>\n",
              "      <td>28.615349</td>\n",
              "      <td>...</td>\n",
              "      <td>-109.162265</td>\n",
              "      <td>82.213256</td>\n",
              "      <td>36.904574</td>\n",
              "      <td>89.425871</td>\n",
              "      <td>76.610167</td>\n",
              "      <td>22.542002</td>\n",
              "      <td>89.209393</td>\n",
              "      <td>73.080910</td>\n",
              "      <td>-3.183434</td>\n",
              "      <td>110.232384</td>\n",
              "    </tr>\n",
              "    <tr>\n",
              "      <th>2</th>\n",
              "      <td>2.0</td>\n",
              "      <td>0.0</td>\n",
              "      <td>90.0</td>\n",
              "      <td>0.0</td>\n",
              "      <td>90.0</td>\n",
              "      <td>90.0</td>\n",
              "      <td>0.0</td>\n",
              "      <td>90.0</td>\n",
              "      <td>141.153613</td>\n",
              "      <td>28.042486</td>\n",
              "      <td>...</td>\n",
              "      <td>-105.087837</td>\n",
              "      <td>83.791429</td>\n",
              "      <td>7.936759</td>\n",
              "      <td>89.145902</td>\n",
              "      <td>79.618323</td>\n",
              "      <td>-2.325866</td>\n",
              "      <td>93.411176</td>\n",
              "      <td>73.203217</td>\n",
              "      <td>-12.320351</td>\n",
              "      <td>108.900585</td>\n",
              "    </tr>\n",
              "    <tr>\n",
              "      <th>3</th>\n",
              "      <td>0.0</td>\n",
              "      <td>0.0</td>\n",
              "      <td>90.0</td>\n",
              "      <td>0.0</td>\n",
              "      <td>90.0</td>\n",
              "      <td>90.0</td>\n",
              "      <td>0.0</td>\n",
              "      <td>90.0</td>\n",
              "      <td>123.134389</td>\n",
              "      <td>5.315064</td>\n",
              "      <td>...</td>\n",
              "      <td>-66.555146</td>\n",
              "      <td>-124.152353</td>\n",
              "      <td>-72.004125</td>\n",
              "      <td>-51.785051</td>\n",
              "      <td>-94.026793</td>\n",
              "      <td>-73.783497</td>\n",
              "      <td>-70.421552</td>\n",
              "      <td>-73.377815</td>\n",
              "      <td>-68.075547</td>\n",
              "      <td>-86.260239</td>\n",
              "    </tr>\n",
              "    <tr>\n",
              "      <th>4</th>\n",
              "      <td>0.0</td>\n",
              "      <td>1.0</td>\n",
              "      <td>90.0</td>\n",
              "      <td>0.0</td>\n",
              "      <td>90.0</td>\n",
              "      <td>90.0</td>\n",
              "      <td>0.0</td>\n",
              "      <td>90.0</td>\n",
              "      <td>123.769590</td>\n",
              "      <td>6.529529</td>\n",
              "      <td>...</td>\n",
              "      <td>-75.231125</td>\n",
              "      <td>-112.589115</td>\n",
              "      <td>-62.403363</td>\n",
              "      <td>-63.756582</td>\n",
              "      <td>-92.894409</td>\n",
              "      <td>-73.613791</td>\n",
              "      <td>-70.500902</td>\n",
              "      <td>-71.581979</td>\n",
              "      <td>-68.463486</td>\n",
              "      <td>-84.695577</td>\n",
              "    </tr>\n",
              "  </tbody>\n",
              "</table>\n",
              "<p>5 rows × 74 columns</p>\n",
              "</div>\n",
              "      <button class=\"colab-df-convert\" onclick=\"convertToInteractive('df-b9d4d839-ee38-4836-8aa6-3c4a8d2b7626')\"\n",
              "              title=\"Convert this dataframe to an interactive table.\"\n",
              "              style=\"display:none;\">\n",
              "        \n",
              "  <svg xmlns=\"http://www.w3.org/2000/svg\" height=\"24px\"viewBox=\"0 0 24 24\"\n",
              "       width=\"24px\">\n",
              "    <path d=\"M0 0h24v24H0V0z\" fill=\"none\"/>\n",
              "    <path d=\"M18.56 5.44l.94 2.06.94-2.06 2.06-.94-2.06-.94-.94-2.06-.94 2.06-2.06.94zm-11 1L8.5 8.5l.94-2.06 2.06-.94-2.06-.94L8.5 2.5l-.94 2.06-2.06.94zm10 10l.94 2.06.94-2.06 2.06-.94-2.06-.94-.94-2.06-.94 2.06-2.06.94z\"/><path d=\"M17.41 7.96l-1.37-1.37c-.4-.4-.92-.59-1.43-.59-.52 0-1.04.2-1.43.59L10.3 9.45l-7.72 7.72c-.78.78-.78 2.05 0 2.83L4 21.41c.39.39.9.59 1.41.59.51 0 1.02-.2 1.41-.59l7.78-7.78 2.81-2.81c.8-.78.8-2.07 0-2.86zM5.41 20L4 18.59l7.72-7.72 1.47 1.35L5.41 20z\"/>\n",
              "  </svg>\n",
              "      </button>\n",
              "      \n",
              "  <style>\n",
              "    .colab-df-container {\n",
              "      display:flex;\n",
              "      flex-wrap:wrap;\n",
              "      gap: 12px;\n",
              "    }\n",
              "\n",
              "    .colab-df-convert {\n",
              "      background-color: #E8F0FE;\n",
              "      border: none;\n",
              "      border-radius: 50%;\n",
              "      cursor: pointer;\n",
              "      display: none;\n",
              "      fill: #1967D2;\n",
              "      height: 32px;\n",
              "      padding: 0 0 0 0;\n",
              "      width: 32px;\n",
              "    }\n",
              "\n",
              "    .colab-df-convert:hover {\n",
              "      background-color: #E2EBFA;\n",
              "      box-shadow: 0px 1px 2px rgba(60, 64, 67, 0.3), 0px 1px 3px 1px rgba(60, 64, 67, 0.15);\n",
              "      fill: #174EA6;\n",
              "    }\n",
              "\n",
              "    [theme=dark] .colab-df-convert {\n",
              "      background-color: #3B4455;\n",
              "      fill: #D2E3FC;\n",
              "    }\n",
              "\n",
              "    [theme=dark] .colab-df-convert:hover {\n",
              "      background-color: #434B5C;\n",
              "      box-shadow: 0px 1px 3px 1px rgba(0, 0, 0, 0.15);\n",
              "      filter: drop-shadow(0px 1px 2px rgba(0, 0, 0, 0.3));\n",
              "      fill: #FFFFFF;\n",
              "    }\n",
              "  </style>\n",
              "\n",
              "      <script>\n",
              "        const buttonEl =\n",
              "          document.querySelector('#df-b9d4d839-ee38-4836-8aa6-3c4a8d2b7626 button.colab-df-convert');\n",
              "        buttonEl.style.display =\n",
              "          google.colab.kernel.accessAllowed ? 'block' : 'none';\n",
              "\n",
              "        async function convertToInteractive(key) {\n",
              "          const element = document.querySelector('#df-b9d4d839-ee38-4836-8aa6-3c4a8d2b7626');\n",
              "          const dataTable =\n",
              "            await google.colab.kernel.invokeFunction('convertToInteractive',\n",
              "                                                     [key], {});\n",
              "          if (!dataTable) return;\n",
              "\n",
              "          const docLinkHtml = 'Like what you see? Visit the ' +\n",
              "            '<a target=\"_blank\" href=https://colab.research.google.com/notebooks/data_table.ipynb>data table notebook</a>'\n",
              "            + ' to learn more about interactive tables.';\n",
              "          element.innerHTML = '';\n",
              "          dataTable['output_type'] = 'display_data';\n",
              "          await google.colab.output.renderOutput(dataTable, element);\n",
              "          const docLink = document.createElement('div');\n",
              "          docLink.innerHTML = docLinkHtml;\n",
              "          element.appendChild(docLink);\n",
              "        }\n",
              "      </script>\n",
              "    </div>\n",
              "  </div>\n",
              "  "
            ]
          },
          "metadata": {},
          "execution_count": 63
        }
      ]
    },
    {
      "cell_type": "code",
      "source": [
        "data_temp = np.array(df)\n",
        "labels = data_temp[:, :1]"
      ],
      "metadata": {
        "id": "V3J2tnj9SDNO"
      },
      "execution_count": 64,
      "outputs": []
    },
    {
      "cell_type": "code",
      "source": [
        "data = df.reindex(columns=df.columns[1:]) "
      ],
      "metadata": {
        "id": "BebBCqrfTozz"
      },
      "execution_count": 65,
      "outputs": []
    },
    {
      "cell_type": "code",
      "source": [
        "from sklearn.model_selection import train_test_split\n",
        "X_train, X_test, y_train, y_test = train_test_split(data, labels, test_size=0.2, random_state= 2, stratify=labels)"
      ],
      "metadata": {
        "id": "KAPMKNRsYO77"
      },
      "execution_count": 66,
      "outputs": []
    },
    {
      "cell_type": "code",
      "source": [
        "sns.set(rc={'figure.figsize':(20,8.27)})\n",
        "sns.set_style(\"ticks\")\n",
        "_ = sns.countplot(x=y_train.reshape(-1))"
      ],
      "metadata": {
        "colab": {
          "base_uri": "https://localhost:8080/",
          "height": 701
        },
        "id": "W6LNY3Rb3adE",
        "outputId": "45a4d9de-331f-4878-dd93-fa8bb8378cbe"
      },
      "execution_count": 67,
      "outputs": [
        {
          "output_type": "display_data",
          "data": {
            "text/plain": [
              "<Figure size 2000x827 with 1 Axes>"
            ],
            "image/png": "[encoded data removed]"
          },
          "metadata": {}
        }
      ]
    },
    {
      "cell_type": "code",
      "source": [
        "print(\"X_train shape: {}\".format(X_train.shape))\n",
        "print(\"y_train shape: {}\".format(y_train.shape))\n",
        "print(\"\")\n",
        "print(\"X_test shape: {}\".format(X_test.shape))\n",
        "print(\"y_test shape: {}\".format(y_test.shape))"
      ],
      "metadata": {
        "colab": {
          "base_uri": "https://localhost:8080/"
        },
        "id": "lBUN-OaGcCrK",
        "outputId": "af9b0390-e77c-4788-9df2-0e7192acad5c"
      },
      "execution_count": 68,
      "outputs": [
        {
          "output_type": "stream",
          "name": "stdout",
          "text": [
            "X_train shape: (36, 73)\n",
            "y_train shape: (36, 1)\n",
            "\n",
            "X_test shape: (9, 73)\n",
            "y_test shape: (9, 1)\n"
          ]
        }
      ]
    },
    {
      "cell_type": "markdown",
      "source": [
        "Changing labels shape to categorical: "
      ],
      "metadata": {
        "id": "qtvRGoAqq-45"
      }
    },
    {
      "cell_type": "code",
      "source": [
        "y_train[0]"
      ],
      "metadata": {
        "id": "mjHK2Ye-Lv6w",
        "colab": {
          "base_uri": "https://localhost:8080/"
        },
        "outputId": "7c68aac4-8468-4e50-e1ac-2ed2abfcf5ab"
      },
      "execution_count": 69,
      "outputs": [
        {
          "output_type": "execute_result",
          "data": {
            "text/plain": [
              "array([3.])"
            ]
          },
          "metadata": {},
          "execution_count": 69
        }
      ]
    },
    {
      "cell_type": "code",
      "source": [
        "y_train = to_categorical(y_train)\n",
        "y_test = to_categorical(y_test)"
      ],
      "metadata": {
        "id": "sBdIbjiHLlIl"
      },
      "execution_count": 70,
      "outputs": []
    },
    {
      "cell_type": "code",
      "source": [
        "y_train[0]"
      ],
      "metadata": {
        "colab": {
          "base_uri": "https://localhost:8080/"
        },
        "id": "l08iFFEaMVFc",
        "outputId": "4966db94-f6e9-4d06-8b3d-d59887c0c5f4"
      },
      "execution_count": 71,
      "outputs": [
        {
          "output_type": "execute_result",
          "data": {
            "text/plain": [
              "array([0., 0., 0., 1.], dtype=float32)"
            ]
          },
          "metadata": {},
          "execution_count": 71
        }
      ]
    },
    {
      "cell_type": "code",
      "source": [
        "print(\"y_train shape: {}\".format(y_train.shape))\n",
        "print(\"y_test shape: {}\".format(y_test.shape))"
      ],
      "metadata": {
        "colab": {
          "base_uri": "https://localhost:8080/"
        },
        "id": "kNdMwcxOcF75",
        "outputId": "7df00c38-1cb8-48ea-e6b2-a23680b2feb1"
      },
      "execution_count": 72,
      "outputs": [
        {
          "output_type": "stream",
          "name": "stdout",
          "text": [
            "y_train shape: (36, 4)\n",
            "y_test shape: (9, 4)\n"
          ]
        }
      ]
    },
    {
      "cell_type": "code",
      "source": [
        "X_train = X_train.to_numpy()\n",
        "X_test = X_test.to_numpy()"
      ],
      "metadata": {
        "id": "1op6d_AGnREx"
      },
      "execution_count": 73,
      "outputs": []
    },
    {
      "cell_type": "code",
      "source": [
        "X_train = np.expand_dims(X_train, -1)\n",
        "X_test = np.expand_dims(X_test, -1)"
      ],
      "metadata": {
        "id": "4-NqVgArxZpV"
      },
      "execution_count": 102,
      "outputs": []
    },
    {
      "cell_type": "code",
      "source": [
        "print(\"X_train shape: {}\".format(X_train.shape))\n",
        "print(\"X_test shape: {}\".format(X_test.shape))"
      ],
      "metadata": {
        "colab": {
          "base_uri": "https://localhost:8080/"
        },
        "id": "qrDuwyqcxjcN",
        "outputId": "84ad19a3-772c-4944-d561-2920d6076ba7"
      },
      "execution_count": 103,
      "outputs": [
        {
          "output_type": "stream",
          "name": "stdout",
          "text": [
            "X_train shape: (36, 73, 1)\n",
            "X_test shape: (9, 73, 1)\n"
          ]
        }
      ]
    },
    {
      "cell_type": "code",
      "source": [
        "class_mapping = ['thumbs_up','thumbs_down','ok','victory']\n",
        "num_classes = 4"
      ],
      "metadata": {
        "id": "DrdJlXc_6vYp"
      },
      "execution_count": 74,
      "outputs": []
    },
    {
      "cell_type": "markdown",
      "source": [
        "#2. Creating and training CNN"
      ],
      "metadata": {
        "id": "pPltiJu5uwk5"
      }
    },
    {
      "cell_type": "code",
      "source": [
        "import keras\n",
        "from keras import layers  \n",
        "from keras import models\n",
        "from keras import callbacks\n",
        "from sklearn.metrics import confusion_matrix\n",
        "from sklearn.metrics import classification_report"
      ],
      "metadata": {
        "id": "kQQ_E9BDu22d"
      },
      "execution_count": 80,
      "outputs": []
    },
    {
      "cell_type": "code",
      "source": [
        "def create_1D_model():\n",
        "  model = models.Sequential()\n",
        "\n",
        "  model.add(layers.Conv1D(32, 3, input_shape=X_train_temp.shape[1:3], activation='relu', ))\n",
        "  model.add(layers.Conv1D(16, 1, activation='relu', ))\n",
        "  model.add(layers.Dropout(0.2))\n",
        "  model.add(layers.MaxPooling1D(pool_size=2))\n",
        "\n",
        "  model.add(layers.Flatten())\n",
        "\n",
        "  model.add(layers.Dense(64, activation='relu'))\n",
        "  model.add(layers.Dense(num_classes, activation='softmax'))\n",
        "\n",
        "  return model"
      ],
      "metadata": {
        "id": "XB26lE4Cs2J6"
      },
      "execution_count": 100,
      "outputs": []
    },
    {
      "cell_type": "code",
      "source": [
        "model = create_1D_model()\n",
        "model.compile(optimizer=keras.optimizers.SGD(),loss='categorical_crossentropy',metrics=['accuracy', 'Precision', 'Recall'])"
      ],
      "metadata": {
        "id": "Z3we38y4uVO2"
      },
      "execution_count": 107,
      "outputs": []
    },
    {
      "cell_type": "code",
      "source": [
        "MCP = keras.callbacks.ModelCheckpoint('/content/gdrive/MyDrive/Colab Notebooks/HandPoseDetection/' + 'Best_model.h5',verbose=1,save_best_only=True,monitor='val_accuracy',mode='max')\n",
        "ES = keras.callbacks.EarlyStopping(monitor='val_accuracy',min_delta=0,verbose=0,restore_best_weights = True,patience=3,mode='max')\n",
        "RLP = keras.callbacks.ReduceLROnPlateau(monitor='val_loss',patience=3,factor=0.2,min_lr=0.0001)"
      ],
      "metadata": {
        "id": "-RqVuh2jxv6h"
      },
      "execution_count": 108,
      "outputs": []
    },
    {
      "cell_type": "code",
      "source": [
        "history = model.fit(X_train, y_train, batch_size=32,epochs=100, validation_data=(X_test, y_test),callbacks=[MCP,ES,RLP],verbose=1)"
      ],
      "metadata": {
        "colab": {
          "base_uri": "https://localhost:8080/"
        },
        "id": "QFM4H7pfyDnq",
        "outputId": "b0bfb17a-ed85-43eb-d6bc-1deef3b0ceda"
      },
      "execution_count": 109,
      "outputs": [
        {
          "output_type": "stream",
          "name": "stdout",
          "text": [
            "Epoch 1/100\n",
            "1/2 [==============>...............] - ETA: 0s - loss: 18.9005 - accuracy: 0.2188 - precision: 0.2188 - recall: 0.2188\n",
            "Epoch 1: val_accuracy improved from -inf to 0.11111, saving model to /content/gdrive/MyDrive/Colab Notebooks/HandPoseDetection/Best_model.h5\n",
            "2/2 [==============================] - 1s 483ms/step - loss: 32.0113 - accuracy: 0.2500 - precision: 0.2500 - recall: 0.2500 - val_loss: 28.4314 - val_accuracy: 0.1111 - val_precision: 0.1111 - val_recall: 0.1111 - lr: 0.0100\n",
            "Epoch 2/100\n",
            "1/2 [==============>...............] - ETA: 0s - loss: 27.4448 - accuracy: 0.1250 - precision: 0.1250 - recall: 0.1250\n",
            "Epoch 2: val_accuracy improved from 0.11111 to 0.55556, saving model to /content/gdrive/MyDrive/Colab Notebooks/HandPoseDetection/Best_model.h5\n",
            "2/2 [==============================] - 0s 61ms/step - loss: 24.9033 - accuracy: 0.1389 - precision: 0.1389 - recall: 0.1389 - val_loss: 11.2246 - val_accuracy: 0.5556 - val_precision: 0.5556 - val_recall: 0.5556 - lr: 0.0100\n",
            "Epoch 3/100\n",
            "1/2 [==============>...............] - ETA: 0s - loss: 12.7627 - accuracy: 0.3750 - precision: 0.3750 - recall: 0.3750\n",
            "Epoch 3: val_accuracy did not improve from 0.55556\n",
            "2/2 [==============================] - 0s 41ms/step - loss: 17.1698 - accuracy: 0.3611 - precision: 0.3611 - recall: 0.3611 - val_loss: 11.0953 - val_accuracy: 0.5556 - val_precision: 0.5556 - val_recall: 0.5556 - lr: 0.0100\n",
            "Epoch 4/100\n",
            "1/2 [==============>...............] - ETA: 0s - loss: 15.8175 - accuracy: 0.4375 - precision: 0.4375 - recall: 0.4375\n",
            "Epoch 4: val_accuracy improved from 0.55556 to 0.66667, saving model to /content/gdrive/MyDrive/Colab Notebooks/HandPoseDetection/Best_model.h5\n",
            "2/2 [==============================] - 0s 62ms/step - loss: 14.7204 - accuracy: 0.4444 - precision: 0.4444 - recall: 0.4444 - val_loss: 0.5005 - val_accuracy: 0.6667 - val_precision: 0.6667 - val_recall: 0.6667 - lr: 0.0100\n",
            "Epoch 5/100\n",
            "1/2 [==============>...............] - ETA: 0s - loss: 0.7323 - accuracy: 0.6562 - precision: 0.6562 - recall: 0.6562\n",
            "Epoch 5: val_accuracy did not improve from 0.66667\n",
            "2/2 [==============================] - 0s 39ms/step - loss: 0.9385 - accuracy: 0.6667 - precision: 0.6667 - recall: 0.6667 - val_loss: 1.5668 - val_accuracy: 0.6667 - val_precision: 0.6667 - val_recall: 0.6667 - lr: 0.0100\n",
            "Epoch 6/100\n",
            "1/2 [==============>...............] - ETA: 0s - loss: 1.4286 - accuracy: 0.7500 - precision: 0.7500 - recall: 0.7500\n",
            "Epoch 6: val_accuracy improved from 0.66667 to 0.88889, saving model to /content/gdrive/MyDrive/Colab Notebooks/HandPoseDetection/Best_model.h5\n",
            "2/2 [==============================] - 0s 59ms/step - loss: 1.2877 - accuracy: 0.7778 - precision: 0.7778 - recall: 0.7778 - val_loss: 0.2925 - val_accuracy: 0.8889 - val_precision: 0.8889 - val_recall: 0.8889 - lr: 0.0100\n",
            "Epoch 7/100\n",
            "1/2 [==============>...............] - ETA: 0s - loss: 0.2623 - accuracy: 0.8750 - precision: 0.9032 - recall: 0.8750\n",
            "Epoch 7: val_accuracy did not improve from 0.88889\n",
            "2/2 [==============================] - 0s 40ms/step - loss: 0.3467 - accuracy: 0.8333 - precision: 0.8571 - recall: 0.8333 - val_loss: 0.8966 - val_accuracy: 0.6667 - val_precision: 0.6667 - val_recall: 0.6667 - lr: 0.0100\n",
            "Epoch 8/100\n",
            "1/2 [==============>...............] - ETA: 0s - loss: 0.6593 - accuracy: 0.7812 - precision: 0.7812 - recall: 0.7812\n",
            "Epoch 8: val_accuracy did not improve from 0.88889\n",
            "2/2 [==============================] - 0s 43ms/step - loss: 0.7002 - accuracy: 0.7500 - precision: 0.7429 - recall: 0.7222 - val_loss: 0.4610 - val_accuracy: 0.8889 - val_precision: 0.8889 - val_recall: 0.8889 - lr: 0.0100\n",
            "Epoch 9/100\n",
            "1/2 [==============>...............] - ETA: 0s - loss: 0.7220 - accuracy: 0.8438 - precision: 0.8438 - recall: 0.8438\n",
            "Epoch 9: val_accuracy did not improve from 0.88889\n",
            "2/2 [==============================] - 0s 44ms/step - loss: 0.6434 - accuracy: 0.8611 - precision: 0.8611 - recall: 0.8611 - val_loss: 0.2350 - val_accuracy: 0.8889 - val_precision: 0.8889 - val_recall: 0.8889 - lr: 0.0100\n"
          ]
        }
      ]
    },
    {
      "cell_type": "markdown",
      "source": [
        "#3. CNN evaluation"
      ],
      "metadata": {
        "id": "-Dw9vP9R0rBC"
      }
    },
    {
      "cell_type": "code",
      "source": [
        "model.evaluate(X_test, y_test, verbose=2)"
      ],
      "metadata": {
        "colab": {
          "base_uri": "https://localhost:8080/"
        },
        "id": "MOBo5Kk8yt2S",
        "outputId": "98671496-5e1c-4f1b-84bb-2006251d8f1a"
      },
      "execution_count": 115,
      "outputs": [
        {
          "output_type": "stream",
          "name": "stdout",
          "text": [
            "1/1 - 0s - loss: 0.2925 - accuracy: 0.8889 - precision: 0.8889 - recall: 0.8889 - 28ms/epoch - 28ms/step\n"
          ]
        },
        {
          "output_type": "execute_result",
          "data": {
            "text/plain": [
              "[0.29252874851226807,\n",
              " 0.8888888955116272,\n",
              " 0.8888888955116272,\n",
              " 0.8888888955116272]"
            ]
          },
          "metadata": {},
          "execution_count": 115
        }
      ]
    },
    {
      "cell_type": "code",
      "source": [
        "acc = history.history['accuracy']\n",
        "val_acc = history.history['val_accuracy']\n",
        "loss = history.history['loss']\n",
        "val_loss = history.history['val_loss']\n",
        "epochs = range(1, len(acc) + 1)\n",
        "\n",
        "plt.figure(figsize=(10, 4))\n",
        "plt.plot(epochs, acc, 'b', label='Training accuracy')\n",
        "plt.plot(epochs, val_acc, 'r', label='Validation accuracy')\n",
        "plt.title('Training and validation accuracy')\n",
        "plt.legend() \n",
        "plt.savefig('Training and validation accuracy.png',dpi=200)\n",
        "plt.figure()\n",
        "\n",
        "plt.figure(figsize=(10, 4))\n",
        "plt.plot(epochs, loss, 'b', label='Training loss')\n",
        "plt.plot(epochs, val_loss, 'r', label='Validation loss')\n",
        "plt.title('Training and validation loss')\n",
        "plt.legend()\n",
        "plt.show()"
      ],
      "metadata": {
        "colab": {
          "base_uri": "https://localhost:8080/",
          "height": 790
        },
        "id": "ruqORYd_zRVD",
        "outputId": "f05c927e-6b9e-4591-eedd-f6741810cb0d"
      },
      "execution_count": 117,
      "outputs": [
        {
          "output_type": "display_data",
          "data": {
            "text/plain": [
              "<Figure size 1000x400 with 1 Axes>"
            ],
            "image/png": "[encoded data removed]"
          },
          "metadata": {}
        },
        {
          "output_type": "display_data",
          "data": {
            "text/plain": [
              "<Figure size 2000x827 with 0 Axes>"
            ]
          },
          "metadata": {}
        },
        {
          "output_type": "display_data",
          "data": {
            "text/plain": [
              "<Figure size 1000x400 with 1 Axes>"
            ],
            "image/png": "[encoded data removed]"
          },
          "metadata": {}
        }
      ]
    },
    {
      "cell_type": "code",
      "source": [
        "predictions = np.argmax(model.predict(X_test), axis=1)\n",
        "actual = np.argmax(y_test, axis=1)"
      ],
      "metadata": {
        "colab": {
          "base_uri": "https://localhost:8080/"
        },
        "id": "EItlVQkF0RhD",
        "outputId": "dbac0ee1-f107-4894-b170-3da40e99a363"
      },
      "execution_count": 123,
      "outputs": [
        {
          "output_type": "stream",
          "name": "stdout",
          "text": [
            "1/1 [==============================] - 0s 21ms/step\n"
          ]
        }
      ]
    },
    {
      "cell_type": "code",
      "source": [
        "plt.figure(figsize=(8, 8))\n",
        "cm = confusion_matrix(actual, predictions)\n",
        "g = sns.heatmap(cm, annot=True, fmt='.0f')\n",
        "g.set_xticklabels(class_mapping)\n",
        "g.set_yticklabels(class_mapping)\n",
        "plt.show()"
      ],
      "metadata": {
        "colab": {
          "base_uri": "https://localhost:8080/",
          "height": 688
        },
        "id": "4zGv7Y__z6ha",
        "outputId": "982279ea-2384-4c0e-ead8-dbba1469ec49"
      },
      "execution_count": 124,
      "outputs": [
        {
          "output_type": "display_data",
          "data": {
            "text/plain": [
              "<Figure size 800x800 with 2 Axes>"
            ],
            "image/png": "[encoded data removed]"
          },
          "metadata": {}
        }
      ]
    },
    {
      "cell_type": "code",
      "source": [
        "y_test_temp = np.argmax(y_test, axis=1)\n",
        "print(classification_report(y_test_temp, predictions))"
      ],
      "metadata": {
        "colab": {
          "base_uri": "https://localhost:8080/"
        },
        "id": "v8KlCwfc0RNT",
        "outputId": "bf2af898-550b-4ba2-b3d0-614ec0e2c8b7"
      },
      "execution_count": 125,
      "outputs": [
        {
          "output_type": "stream",
          "name": "stdout",
          "text": [
            "              precision    recall  f1-score   support\n",
            "\n",
            "           0       0.75      1.00      0.86         3\n",
            "           1       0.00      0.00      0.00         1\n",
            "           2       1.00      1.00      1.00         3\n",
            "           3       1.00      1.00      1.00         2\n",
            "\n",
            "    accuracy                           0.89         9\n",
            "   macro avg       0.69      0.75      0.71         9\n",
            "weighted avg       0.81      0.89      0.84         9\n",
            "\n"
          ]
        },
        {
          "output_type": "stream",
          "name": "stderr",
          "text": [
            "/usr/local/lib/python3.10/dist-packages/sklearn/metrics/_classification.py:1344: UndefinedMetricWarning: Precision and F-score are ill-defined and being set to 0.0 in labels with no predicted samples. Use `zero_division` parameter to control this behavior.\n",
            "  _warn_prf(average, modifier, msg_start, len(result))\n",
            "/usr/local/lib/python3.10/dist-packages/sklearn/metrics/_classification.py:1344: UndefinedMetricWarning: Precision and F-score are ill-defined and being set to 0.0 in labels with no predicted samples. Use `zero_division` parameter to control this behavior.\n",
            "  _warn_prf(average, modifier, msg_start, len(result))\n",
            "/usr/local/lib/python3.10/dist-packages/sklearn/metrics/_classification.py:1344: UndefinedMetricWarning: Precision and F-score are ill-defined and being set to 0.0 in labels with no predicted samples. Use `zero_division` parameter to control this behavior.\n",
            "  _warn_prf(average, modifier, msg_start, len(result))\n"
          ]
        }
      ]
    }
  ]
}