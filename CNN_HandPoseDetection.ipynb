{
  "cells": [
    {
      "attachments": {},
      "cell_type": "markdown",
      "metadata": {
        "id": "x40eFfHeGdJO"
      },
      "source": [
        "#1. Data Preparation"
      ]
    },
    {
      "cell_type": "code",
      "execution_count": 1,
      "metadata": {
        "id": "20xJTw8d0EJB"
      },
      "outputs": [],
      "source": [
        "# Seed value\n",
        "seed_value= 1\n",
        "\n",
        "# 1. Set `PYTHONHASHSEED` environment variable at a fixed value\n",
        "import os\n",
        "os.environ['PYTHONHASHSEED']=str(seed_value)\n",
        "seed_value += 1\n",
        "\n",
        "# 2. Set `python` built-in pseudo-random generator at a fixed value\n",
        "import random\n",
        "random.seed(seed_value)\n",
        "seed_value += 1\n",
        "\n",
        "# 3. Set `numpy` pseudo-random generator at a fixed value\n",
        "import numpy as np\n",
        "np.random.seed(seed_value)\n",
        "seed_value += 1\n",
        "\n",
        "# 4. Set `tensorflow` pseudo-random generator at a fixed value\n",
        "import tensorflow as tf\n",
        "tf.random.set_seed(seed_value)"
      ]
    },
    {
      "cell_type": "code",
      "execution_count": 2,
      "metadata": {
        "id": "uPuRX3RTMQ3R"
      },
      "outputs": [],
      "source": [
        "%run parseData.ipynb\n",
        "import pandas as pd # data processing, CSV file I/O\n",
        "import matplotlib.pyplot as plt #ploting graphs\n",
        "import seaborn as sns #ploting histogram\n",
        "from keras.utils import to_categorical\n",
        "from sklearn import preprocessing"
      ]
    },
    {
      "cell_type": "code",
      "execution_count": 3,
      "metadata": {},
      "outputs": [
        {
          "data": {
            "text/html": [
              "<div>\n",
              "<style scoped>\n",
              "    .dataframe tbody tr th:only-of-type {\n",
              "        vertical-align: middle;\n",
              "    }\n",
              "\n",
              "    .dataframe tbody tr th {\n",
              "        vertical-align: top;\n",
              "    }\n",
              "\n",
              "    .dataframe thead th {\n",
              "        text-align: right;\n",
              "    }\n",
              "</style>\n",
              "<table border=\"1\" class=\"dataframe\">\n",
              "  <thead>\n",
              "    <tr style=\"text-align: right;\">\n",
              "      <th></th>\n",
              "      <th>0</th>\n",
              "      <th>1</th>\n",
              "      <th>2</th>\n",
              "      <th>3</th>\n",
              "      <th>4</th>\n",
              "      <th>5</th>\n",
              "      <th>6</th>\n",
              "      <th>7</th>\n",
              "      <th>8</th>\n",
              "      <th>9</th>\n",
              "      <th>...</th>\n",
              "      <th>64</th>\n",
              "      <th>65</th>\n",
              "      <th>66</th>\n",
              "      <th>67</th>\n",
              "      <th>68</th>\n",
              "      <th>69</th>\n",
              "      <th>70</th>\n",
              "      <th>71</th>\n",
              "      <th>72</th>\n",
              "      <th>73</th>\n",
              "    </tr>\n",
              "  </thead>\n",
              "  <tbody>\n",
              "    <tr>\n",
              "      <th>0</th>\n",
              "      <td>0.0</td>\n",
              "      <td>1.0</td>\n",
              "      <td>90.0</td>\n",
              "      <td>0.0</td>\n",
              "      <td>90.0</td>\n",
              "      <td>90.0</td>\n",
              "      <td>0.0</td>\n",
              "      <td>90.0</td>\n",
              "      <td>122.989521</td>\n",
              "      <td>5.031775</td>\n",
              "      <td>...</td>\n",
              "      <td>-67.582787</td>\n",
              "      <td>-125.367848</td>\n",
              "      <td>-72.437172</td>\n",
              "      <td>-50.852973</td>\n",
              "      <td>-96.587422</td>\n",
              "      <td>-79.767570</td>\n",
              "      <td>-67.930081</td>\n",
              "      <td>-70.781021</td>\n",
              "      <td>-70.997175</td>\n",
              "      <td>-87.361629</td>\n",
              "    </tr>\n",
              "    <tr>\n",
              "      <th>1</th>\n",
              "      <td>2.0</td>\n",
              "      <td>0.0</td>\n",
              "      <td>90.0</td>\n",
              "      <td>0.0</td>\n",
              "      <td>90.0</td>\n",
              "      <td>90.0</td>\n",
              "      <td>0.0</td>\n",
              "      <td>90.0</td>\n",
              "      <td>135.335277</td>\n",
              "      <td>22.762292</td>\n",
              "      <td>...</td>\n",
              "      <td>-102.868148</td>\n",
              "      <td>83.136421</td>\n",
              "      <td>15.529929</td>\n",
              "      <td>90.343455</td>\n",
              "      <td>78.789987</td>\n",
              "      <td>5.173831</td>\n",
              "      <td>90.525847</td>\n",
              "      <td>72.386893</td>\n",
              "      <td>-4.364089</td>\n",
              "      <td>104.625646</td>\n",
              "    </tr>\n",
              "    <tr>\n",
              "      <th>2</th>\n",
              "      <td>2.0</td>\n",
              "      <td>0.0</td>\n",
              "      <td>90.0</td>\n",
              "      <td>0.0</td>\n",
              "      <td>90.0</td>\n",
              "      <td>90.0</td>\n",
              "      <td>0.0</td>\n",
              "      <td>90.0</td>\n",
              "      <td>141.891296</td>\n",
              "      <td>28.615349</td>\n",
              "      <td>...</td>\n",
              "      <td>-109.162265</td>\n",
              "      <td>82.213256</td>\n",
              "      <td>36.904574</td>\n",
              "      <td>89.425871</td>\n",
              "      <td>76.610167</td>\n",
              "      <td>22.542002</td>\n",
              "      <td>89.209393</td>\n",
              "      <td>73.080910</td>\n",
              "      <td>-3.183434</td>\n",
              "      <td>110.232384</td>\n",
              "    </tr>\n",
              "    <tr>\n",
              "      <th>3</th>\n",
              "      <td>2.0</td>\n",
              "      <td>1.0</td>\n",
              "      <td>90.0</td>\n",
              "      <td>0.0</td>\n",
              "      <td>90.0</td>\n",
              "      <td>90.0</td>\n",
              "      <td>0.0</td>\n",
              "      <td>90.0</td>\n",
              "      <td>141.153613</td>\n",
              "      <td>28.042486</td>\n",
              "      <td>...</td>\n",
              "      <td>-105.087837</td>\n",
              "      <td>83.791429</td>\n",
              "      <td>7.936759</td>\n",
              "      <td>89.145902</td>\n",
              "      <td>79.618323</td>\n",
              "      <td>-2.325866</td>\n",
              "      <td>93.411176</td>\n",
              "      <td>73.203217</td>\n",
              "      <td>-12.320351</td>\n",
              "      <td>108.900585</td>\n",
              "    </tr>\n",
              "    <tr>\n",
              "      <th>4</th>\n",
              "      <td>0.0</td>\n",
              "      <td>1.0</td>\n",
              "      <td>90.0</td>\n",
              "      <td>0.0</td>\n",
              "      <td>90.0</td>\n",
              "      <td>90.0</td>\n",
              "      <td>0.0</td>\n",
              "      <td>90.0</td>\n",
              "      <td>123.134389</td>\n",
              "      <td>5.315064</td>\n",
              "      <td>...</td>\n",
              "      <td>-66.555146</td>\n",
              "      <td>-124.152353</td>\n",
              "      <td>-72.004125</td>\n",
              "      <td>-51.785051</td>\n",
              "      <td>-94.026793</td>\n",
              "      <td>-73.783497</td>\n",
              "      <td>-70.421552</td>\n",
              "      <td>-73.377815</td>\n",
              "      <td>-68.075547</td>\n",
              "      <td>-86.260239</td>\n",
              "    </tr>\n",
              "    <tr>\n",
              "      <th>...</th>\n",
              "      <td>...</td>\n",
              "      <td>...</td>\n",
              "      <td>...</td>\n",
              "      <td>...</td>\n",
              "      <td>...</td>\n",
              "      <td>...</td>\n",
              "      <td>...</td>\n",
              "      <td>...</td>\n",
              "      <td>...</td>\n",
              "      <td>...</td>\n",
              "      <td>...</td>\n",
              "      <td>...</td>\n",
              "      <td>...</td>\n",
              "      <td>...</td>\n",
              "      <td>...</td>\n",
              "      <td>...</td>\n",
              "      <td>...</td>\n",
              "      <td>...</td>\n",
              "      <td>...</td>\n",
              "      <td>...</td>\n",
              "      <td>...</td>\n",
              "    </tr>\n",
              "    <tr>\n",
              "      <th>267</th>\n",
              "      <td>2.0</td>\n",
              "      <td>1.0</td>\n",
              "      <td>90.0</td>\n",
              "      <td>0.0</td>\n",
              "      <td>90.0</td>\n",
              "      <td>90.0</td>\n",
              "      <td>0.0</td>\n",
              "      <td>90.0</td>\n",
              "      <td>136.117148</td>\n",
              "      <td>23.558528</td>\n",
              "      <td>...</td>\n",
              "      <td>-98.328479</td>\n",
              "      <td>83.881257</td>\n",
              "      <td>8.030162</td>\n",
              "      <td>91.208625</td>\n",
              "      <td>80.051306</td>\n",
              "      <td>-6.781338</td>\n",
              "      <td>95.508604</td>\n",
              "      <td>74.032483</td>\n",
              "      <td>-20.728024</td>\n",
              "      <td>115.463379</td>\n",
              "    </tr>\n",
              "    <tr>\n",
              "      <th>268</th>\n",
              "      <td>1.0</td>\n",
              "      <td>0.0</td>\n",
              "      <td>90.0</td>\n",
              "      <td>0.0</td>\n",
              "      <td>90.0</td>\n",
              "      <td>90.0</td>\n",
              "      <td>0.0</td>\n",
              "      <td>90.0</td>\n",
              "      <td>127.991088</td>\n",
              "      <td>13.598609</td>\n",
              "      <td>...</td>\n",
              "      <td>-84.058191</td>\n",
              "      <td>-105.174249</td>\n",
              "      <td>-47.854197</td>\n",
              "      <td>-70.212570</td>\n",
              "      <td>-90.002308</td>\n",
              "      <td>-53.102226</td>\n",
              "      <td>-71.775582</td>\n",
              "      <td>-78.800412</td>\n",
              "      <td>-47.744039</td>\n",
              "      <td>-73.490989</td>\n",
              "    </tr>\n",
              "    <tr>\n",
              "      <th>269</th>\n",
              "      <td>1.0</td>\n",
              "      <td>0.0</td>\n",
              "      <td>90.0</td>\n",
              "      <td>0.0</td>\n",
              "      <td>90.0</td>\n",
              "      <td>90.0</td>\n",
              "      <td>0.0</td>\n",
              "      <td>90.0</td>\n",
              "      <td>128.619080</td>\n",
              "      <td>14.520708</td>\n",
              "      <td>...</td>\n",
              "      <td>-85.925970</td>\n",
              "      <td>-103.907414</td>\n",
              "      <td>-44.440241</td>\n",
              "      <td>-72.821098</td>\n",
              "      <td>-89.280597</td>\n",
              "      <td>-49.272736</td>\n",
              "      <td>-72.529674</td>\n",
              "      <td>-77.843477</td>\n",
              "      <td>-45.906435</td>\n",
              "      <td>-73.415761</td>\n",
              "    </tr>\n",
              "    <tr>\n",
              "      <th>270</th>\n",
              "      <td>2.0</td>\n",
              "      <td>0.0</td>\n",
              "      <td>90.0</td>\n",
              "      <td>0.0</td>\n",
              "      <td>90.0</td>\n",
              "      <td>90.0</td>\n",
              "      <td>0.0</td>\n",
              "      <td>90.0</td>\n",
              "      <td>136.420157</td>\n",
              "      <td>23.859257</td>\n",
              "      <td>...</td>\n",
              "      <td>-98.127984</td>\n",
              "      <td>84.143438</td>\n",
              "      <td>10.057336</td>\n",
              "      <td>89.546770</td>\n",
              "      <td>79.712891</td>\n",
              "      <td>-3.979332</td>\n",
              "      <td>91.587358</td>\n",
              "      <td>73.134629</td>\n",
              "      <td>-14.307162</td>\n",
              "      <td>108.203424</td>\n",
              "    </tr>\n",
              "    <tr>\n",
              "      <th>271</th>\n",
              "      <td>2.0</td>\n",
              "      <td>0.0</td>\n",
              "      <td>90.0</td>\n",
              "      <td>0.0</td>\n",
              "      <td>90.0</td>\n",
              "      <td>90.0</td>\n",
              "      <td>0.0</td>\n",
              "      <td>90.0</td>\n",
              "      <td>137.580395</td>\n",
              "      <td>24.971848</td>\n",
              "      <td>...</td>\n",
              "      <td>-97.372700</td>\n",
              "      <td>84.113670</td>\n",
              "      <td>14.930430</td>\n",
              "      <td>89.947659</td>\n",
              "      <td>79.466898</td>\n",
              "      <td>3.020946</td>\n",
              "      <td>93.270792</td>\n",
              "      <td>72.954307</td>\n",
              "      <td>-6.718046</td>\n",
              "      <td>107.772365</td>\n",
              "    </tr>\n",
              "  </tbody>\n",
              "</table>\n",
              "<p>272 rows × 74 columns</p>\n",
              "</div>"
            ],
            "text/plain": [
              "      0    1     2    3     4     5    6     7           8          9   ...  \\\n",
              "0    0.0  1.0  90.0  0.0  90.0  90.0  0.0  90.0  122.989521   5.031775  ...   \n",
              "1    2.0  0.0  90.0  0.0  90.0  90.0  0.0  90.0  135.335277  22.762292  ...   \n",
              "2    2.0  0.0  90.0  0.0  90.0  90.0  0.0  90.0  141.891296  28.615349  ...   \n",
              "3    2.0  1.0  90.0  0.0  90.0  90.0  0.0  90.0  141.153613  28.042486  ...   \n",
              "4    0.0  1.0  90.0  0.0  90.0  90.0  0.0  90.0  123.134389   5.315064  ...   \n",
              "..   ...  ...   ...  ...   ...   ...  ...   ...         ...        ...  ...   \n",
              "267  2.0  1.0  90.0  0.0  90.0  90.0  0.0  90.0  136.117148  23.558528  ...   \n",
              "268  1.0  0.0  90.0  0.0  90.0  90.0  0.0  90.0  127.991088  13.598609  ...   \n",
              "269  1.0  0.0  90.0  0.0  90.0  90.0  0.0  90.0  128.619080  14.520708  ...   \n",
              "270  2.0  0.0  90.0  0.0  90.0  90.0  0.0  90.0  136.420157  23.859257  ...   \n",
              "271  2.0  0.0  90.0  0.0  90.0  90.0  0.0  90.0  137.580395  24.971848  ...   \n",
              "\n",
              "             64          65         66         67         68         69  \\\n",
              "0    -67.582787 -125.367848 -72.437172 -50.852973 -96.587422 -79.767570   \n",
              "1   -102.868148   83.136421  15.529929  90.343455  78.789987   5.173831   \n",
              "2   -109.162265   82.213256  36.904574  89.425871  76.610167  22.542002   \n",
              "3   -105.087837   83.791429   7.936759  89.145902  79.618323  -2.325866   \n",
              "4    -66.555146 -124.152353 -72.004125 -51.785051 -94.026793 -73.783497   \n",
              "..          ...         ...        ...        ...        ...        ...   \n",
              "267  -98.328479   83.881257   8.030162  91.208625  80.051306  -6.781338   \n",
              "268  -84.058191 -105.174249 -47.854197 -70.212570 -90.002308 -53.102226   \n",
              "269  -85.925970 -103.907414 -44.440241 -72.821098 -89.280597 -49.272736   \n",
              "270  -98.127984   84.143438  10.057336  89.546770  79.712891  -3.979332   \n",
              "271  -97.372700   84.113670  14.930430  89.947659  79.466898   3.020946   \n",
              "\n",
              "            70         71         72          73  \n",
              "0   -67.930081 -70.781021 -70.997175  -87.361629  \n",
              "1    90.525847  72.386893  -4.364089  104.625646  \n",
              "2    89.209393  73.080910  -3.183434  110.232384  \n",
              "3    93.411176  73.203217 -12.320351  108.900585  \n",
              "4   -70.421552 -73.377815 -68.075547  -86.260239  \n",
              "..         ...        ...        ...         ...  \n",
              "267  95.508604  74.032483 -20.728024  115.463379  \n",
              "268 -71.775582 -78.800412 -47.744039  -73.490989  \n",
              "269 -72.529674 -77.843477 -45.906435  -73.415761  \n",
              "270  91.587358  73.134629 -14.307162  108.203424  \n",
              "271  93.270792  72.954307  -6.718046  107.772365  \n",
              "\n",
              "[272 rows x 74 columns]"
            ]
          },
          "execution_count": 3,
          "metadata": {},
          "output_type": "execute_result"
        }
      ],
      "source": [
        "path = \"./data/\"\n",
        "all_data = read_data(path)\n",
        "\n",
        "df = pd.DataFrame(all_data)\n",
        "\n",
        "df"
      ]
    },
    {
      "cell_type": "code",
      "execution_count": 118,
      "metadata": {},
      "outputs": [],
      "source": [
        "augmented_data = np.array(all_data)\n",
        "\n",
        "for i in range(augmented_data.shape[0]):\n",
        "    for j in range(7, 72):\n",
        "        random.seed(i * j)\n",
        "        random_v = random.random()\n",
        "        augmented_data[i][j] = augmented_data[i][j] + (-1.0 + (random.random() * (1.0 + 1.0)))\n",
        "        # print(augmented_data[i][j])\n",
        "        # print(all_data[i][j])\n",
        "\n",
        "#random_rot, random_rot.shape, augmented_data[:, 2:]\n",
        "#full_data = np.array(all_data)\n",
        "full_data = np.concatenate((all_data, augmented_data), axis=0)\n",
        "\n",
        "# for item in augmented_data:\n",
        "#     full_data = np.insert(full_data, 0, item)\n",
        "\n",
        "#full_data.shape"
      ]
    },
    {
      "cell_type": "code",
      "execution_count": 120,
      "metadata": {
        "id": "V3J2tnj9SDNO"
      },
      "outputs": [],
      "source": [
        "#data_temp = np.array(df)\n",
        "labels = full_data[:, :1]"
      ]
    },
    {
      "cell_type": "code",
      "execution_count": 121,
      "metadata": {
        "id": "BebBCqrfTozz"
      },
      "outputs": [
        {
          "data": {
            "text/plain": [
              "(544, 72)"
            ]
          },
          "execution_count": 121,
          "metadata": {},
          "output_type": "execute_result"
        }
      ],
      "source": [
        "data = full_data[:, 2:]\n",
        "\n",
        "data.shape\n",
        "#data = df.reindex(columns=df.columns[2:])\n",
        "\n",
        "#scaler = preprocessing.MinMaxScaler(feature_range=(0, 1))\n",
        "#scaled = scaler.fit_transform([[x] for x in data])\n",
        "\n",
        "#scaled\n"
      ]
    },
    {
      "cell_type": "code",
      "execution_count": 122,
      "metadata": {
        "id": "KAPMKNRsYO77"
      },
      "outputs": [],
      "source": [
        "from sklearn.model_selection import train_test_split\n",
        "X_train, X_test, y_train, y_test = train_test_split(data, labels, test_size=0.2, random_state= 2, stratify=labels)"
      ]
    },
    {
      "cell_type": "code",
      "execution_count": 123,
      "metadata": {
        "colab": {
          "base_uri": "https://localhost:8080/",
          "height": 701
        },
        "id": "W6LNY3Rb3adE",
        "outputId": "45a4d9de-331f-4878-dd93-fa8bb8378cbe"
      },
      "outputs": [
        {
          "data": {
            "image/png": "[encoded data removed]",
            "text/plain": [
              "<Figure size 2000x827 with 1 Axes>"
            ]
          },
          "metadata": {},
          "output_type": "display_data"
        }
      ],
      "source": [
        "sns.set(rc={'figure.figsize':(20,8.27)})\n",
        "sns.set_style(\"ticks\")\n",
        "_ = sns.countplot(x=y_train.reshape(-1))"
      ]
    },
    {
      "cell_type": "code",
      "execution_count": 124,
      "metadata": {
        "colab": {
          "base_uri": "https://localhost:8080/"
        },
        "id": "lBUN-OaGcCrK",
        "outputId": "af9b0390-e77c-4788-9df2-0e7192acad5c"
      },
      "outputs": [
        {
          "name": "stdout",
          "output_type": "stream",
          "text": [
            "X_train shape: (435, 72)\n",
            "y_train shape: (435, 1)\n",
            "\n",
            "X_test shape: (109, 72)\n",
            "y_test shape: (109, 1)\n"
          ]
        }
      ],
      "source": [
        "print(\"X_train shape: {}\".format(X_train.shape))\n",
        "print(\"y_train shape: {}\".format(y_train.shape))\n",
        "print(\"\")\n",
        "print(\"X_test shape: {}\".format(X_test.shape))\n",
        "print(\"y_test shape: {}\".format(y_test.shape))"
      ]
    },
    {
      "attachments": {},
      "cell_type": "markdown",
      "metadata": {
        "id": "qtvRGoAqq-45"
      },
      "source": [
        "Changing labels shape to categorical: "
      ]
    },
    {
      "cell_type": "code",
      "execution_count": 125,
      "metadata": {
        "colab": {
          "base_uri": "https://localhost:8080/"
        },
        "id": "mjHK2Ye-Lv6w",
        "outputId": "7c68aac4-8468-4e50-e1ac-2ed2abfcf5ab"
      },
      "outputs": [
        {
          "data": {
            "text/plain": [
              "array([0.])"
            ]
          },
          "execution_count": 125,
          "metadata": {},
          "output_type": "execute_result"
        }
      ],
      "source": [
        "y_train[0]"
      ]
    },
    {
      "cell_type": "code",
      "execution_count": 126,
      "metadata": {
        "id": "sBdIbjiHLlIl"
      },
      "outputs": [],
      "source": [
        "y_train = to_categorical(y_train)\n",
        "y_test = to_categorical(y_test)"
      ]
    },
    {
      "cell_type": "code",
      "execution_count": 127,
      "metadata": {
        "colab": {
          "base_uri": "https://localhost:8080/"
        },
        "id": "l08iFFEaMVFc",
        "outputId": "4966db94-f6e9-4d06-8b3d-d59887c0c5f4"
      },
      "outputs": [
        {
          "data": {
            "text/plain": [
              "array([1., 0., 0., 0.], dtype=float32)"
            ]
          },
          "execution_count": 127,
          "metadata": {},
          "output_type": "execute_result"
        }
      ],
      "source": [
        "y_train[0]"
      ]
    },
    {
      "cell_type": "code",
      "execution_count": 128,
      "metadata": {
        "colab": {
          "base_uri": "https://localhost:8080/"
        },
        "id": "kNdMwcxOcF75",
        "outputId": "7df00c38-1cb8-48ea-e6b2-a23680b2feb1"
      },
      "outputs": [
        {
          "name": "stdout",
          "output_type": "stream",
          "text": [
            "y_train shape: (435, 4)\n",
            "y_test shape: (109, 4)\n"
          ]
        }
      ],
      "source": [
        "print(\"y_train shape: {}\".format(y_train.shape))\n",
        "print(\"y_test shape: {}\".format(y_test.shape))"
      ]
    },
    {
      "cell_type": "code",
      "execution_count": 129,
      "metadata": {
        "id": "1op6d_AGnREx"
      },
      "outputs": [
        {
          "ename": "AttributeError",
          "evalue": "'numpy.ndarray' object has no attribute 'to_numpy'",
          "output_type": "error",
          "traceback": [
            "\u001b[1;31m---------------------------------------------------------------------------\u001b[0m",
            "\u001b[1;31mAttributeError\u001b[0m                            Traceback (most recent call last)",
            "Cell \u001b[1;32mIn[129], line 1\u001b[0m\n\u001b[1;32m----> 1\u001b[0m X_train \u001b[39m=\u001b[39m X_train\u001b[39m.\u001b[39;49mto_numpy()\n\u001b[0;32m      2\u001b[0m X_test \u001b[39m=\u001b[39m X_test\u001b[39m.\u001b[39mto_numpy()\n",
            "\u001b[1;31mAttributeError\u001b[0m: 'numpy.ndarray' object has no attribute 'to_numpy'"
          ]
        }
      ],
      "source": [
        "X_train = X_train.to_numpy()\n",
        "X_test = X_test.to_numpy()"
      ]
    },
    {
      "cell_type": "code",
      "execution_count": 130,
      "metadata": {
        "id": "4-NqVgArxZpV"
      },
      "outputs": [],
      "source": [
        "X_train = np.expand_dims(X_train, -1)\n",
        "X_test = np.expand_dims(X_test, -1)"
      ]
    },
    {
      "cell_type": "code",
      "execution_count": 131,
      "metadata": {
        "colab": {
          "base_uri": "https://localhost:8080/"
        },
        "id": "qrDuwyqcxjcN",
        "outputId": "84ad19a3-772c-4944-d561-2920d6076ba7"
      },
      "outputs": [
        {
          "name": "stdout",
          "output_type": "stream",
          "text": [
            "X_train shape: (435, 72, 1)\n",
            "X_test shape: (109, 72, 1)\n"
          ]
        }
      ],
      "source": [
        "print(\"X_train shape: {}\".format(X_train.shape))\n",
        "print(\"X_test shape: {}\".format(X_test.shape))"
      ]
    },
    {
      "cell_type": "code",
      "execution_count": 132,
      "metadata": {
        "id": "DrdJlXc_6vYp"
      },
      "outputs": [],
      "source": [
        "class_mapping = ['thumbs_up','thumbs_down','ok','victory']\n",
        "num_classes = 4"
      ]
    },
    {
      "attachments": {},
      "cell_type": "markdown",
      "metadata": {
        "id": "pPltiJu5uwk5"
      },
      "source": [
        "#2. Creating and training CNN"
      ]
    },
    {
      "cell_type": "code",
      "execution_count": 133,
      "metadata": {
        "id": "kQQ_E9BDu22d"
      },
      "outputs": [],
      "source": [
        "import keras\n",
        "from keras import layers  \n",
        "from keras import models\n",
        "from keras import callbacks\n",
        "from sklearn.metrics import confusion_matrix\n",
        "from sklearn.metrics import classification_report"
      ]
    },
    {
      "cell_type": "code",
      "execution_count": 134,
      "metadata": {
        "id": "XB26lE4Cs2J6"
      },
      "outputs": [],
      "source": [
        "def create_1D_model():\n",
        "  model = models.Sequential()\n",
        "\n",
        "  model.add(layers.Conv1D(32, 3, input_shape=X_train.shape[1:3], activation='relu', ))\n",
        "  model.add(layers.Conv1D(16, 1, activation='relu', ))\n",
        "  model.add(layers.Dropout(0.2))\n",
        "  model.add(layers.MaxPooling1D(pool_size=2))\n",
        "\n",
        "  model.add(layers.Flatten())\n",
        "\n",
        "  model.add(layers.Dense(64, activation='relu'))\n",
        "  model.add(layers.Dense(num_classes, activation='softmax'))\n",
        "\n",
        "  return model"
      ]
    },
    {
      "cell_type": "code",
      "execution_count": 135,
      "metadata": {
        "id": "Z3we38y4uVO2"
      },
      "outputs": [],
      "source": [
        "model = create_1D_model()\n",
        "model.compile(optimizer=keras.optimizers.SGD(),loss='categorical_crossentropy',metrics=['accuracy', 'Precision', 'Recall'])"
      ]
    },
    {
      "cell_type": "code",
      "execution_count": 136,
      "metadata": {
        "id": "-RqVuh2jxv6h"
      },
      "outputs": [],
      "source": [
        "MCP = keras.callbacks.ModelCheckpoint('./results/' + 'Best_model.h5',verbose=1,save_best_only=True,monitor='val_accuracy',mode='max')\n",
        "ES = keras.callbacks.EarlyStopping(monitor='val_accuracy',min_delta=0,verbose=0,restore_best_weights = True,patience=3,mode='max')\n",
        "RLP = keras.callbacks.ReduceLROnPlateau(monitor='val_loss',patience=3,factor=0.2,min_lr=0.0001)"
      ]
    },
    {
      "cell_type": "code",
      "execution_count": 137,
      "metadata": {
        "colab": {
          "base_uri": "https://localhost:8080/"
        },
        "id": "QFM4H7pfyDnq",
        "outputId": "b0bfb17a-ed85-43eb-d6bc-1deef3b0ceda"
      },
      "outputs": [
        {
          "name": "stdout",
          "output_type": "stream",
          "text": [
            "Epoch 1/100\n",
            " 1/14 [=>............................] - ETA: 5s - loss: 13.1223 - accuracy: 0.4062 - precision: 0.4062 - recall: 0.4062\n",
            "Epoch 1: val_accuracy improved from -inf to 0.54128, saving model to ./results\\Best_model.h5\n",
            "14/14 [==============================] - 1s 22ms/step - loss: 20.4216 - accuracy: 0.2989 - precision: 0.3631 - recall: 0.1494 - val_loss: 1.1534 - val_accuracy: 0.5413 - val_precision: 1.0000 - val_recall: 0.0183 - lr: 0.0100\n",
            "Epoch 2/100\n",
            " 1/14 [=>............................] - ETA: 0s - loss: 1.1193 - accuracy: 0.4062 - precision: 0.5385 - recall: 0.2188\n",
            "Epoch 2: val_accuracy improved from 0.54128 to 0.64220, saving model to ./results\\Best_model.h5\n",
            "14/14 [==============================] - 0s 7ms/step - loss: 1.1495 - accuracy: 0.5425 - precision: 0.5556 - recall: 0.1724 - val_loss: 1.0586 - val_accuracy: 0.6422 - val_precision: 0.6304 - val_recall: 0.2661 - lr: 0.0100\n",
            "Epoch 3/100\n",
            " 1/14 [=>............................] - ETA: 0s - loss: 1.0074 - accuracy: 0.5938 - precision: 0.6667 - recall: 0.3125\n",
            "Epoch 3: val_accuracy did not improve from 0.64220\n",
            "14/14 [==============================] - 0s 5ms/step - loss: 1.1080 - accuracy: 0.5333 - precision: 0.5481 - recall: 0.1701 - val_loss: 1.0236 - val_accuracy: 0.5688 - val_precision: 0.5750 - val_recall: 0.2110 - lr: 0.0100\n",
            "Epoch 4/100\n",
            " 1/14 [=>............................] - ETA: 0s - loss: 0.9195 - accuracy: 0.7500 - precision: 0.8667 - recall: 0.4062\n",
            "Epoch 4: val_accuracy improved from 0.64220 to 0.68807, saving model to ./results\\Best_model.h5\n",
            "14/14 [==============================] - 0s 7ms/step - loss: 1.0220 - accuracy: 0.5954 - precision: 0.6938 - recall: 0.2552 - val_loss: 0.9574 - val_accuracy: 0.6881 - val_precision: 0.7708 - val_recall: 0.3394 - lr: 0.0100\n",
            "Epoch 5/100\n",
            " 1/14 [=>............................] - ETA: 0s - loss: 0.9714 - accuracy: 0.7812 - precision: 0.9091 - recall: 0.3125\n",
            "Epoch 5: val_accuracy improved from 0.68807 to 0.77982, saving model to ./results\\Best_model.h5\n",
            "14/14 [==============================] - 0s 6ms/step - loss: 0.9785 - accuracy: 0.6598 - precision: 0.7457 - recall: 0.2966 - val_loss: 0.6405 - val_accuracy: 0.7798 - val_precision: 0.8621 - val_recall: 0.4587 - lr: 0.0100\n",
            "Epoch 6/100\n",
            " 1/14 [=>............................] - ETA: 0s - loss: 0.6071 - accuracy: 0.7500 - precision: 0.8500 - recall: 0.5312\n",
            "Epoch 6: val_accuracy improved from 0.77982 to 0.89908, saving model to ./results\\Best_model.h5\n",
            "14/14 [==============================] - 0s 7ms/step - loss: 0.2871 - accuracy: 0.8851 - precision: 0.9051 - recall: 0.8552 - val_loss: 0.1568 - val_accuracy: 0.8991 - val_precision: 0.8991 - val_recall: 0.8991 - lr: 0.0100\n",
            "Epoch 7/100\n",
            " 1/14 [=>............................] - ETA: 0s - loss: 0.2185 - accuracy: 0.8750 - precision: 0.8710 - recall: 0.8438\n",
            "Epoch 7: val_accuracy improved from 0.89908 to 0.90826, saving model to ./results\\Best_model.h5\n",
            "14/14 [==============================] - 0s 6ms/step - loss: 0.1398 - accuracy: 0.9425 - precision: 0.9466 - recall: 0.9379 - val_loss: 0.1419 - val_accuracy: 0.9083 - val_precision: 0.9083 - val_recall: 0.9083 - lr: 0.0100\n",
            "Epoch 8/100\n",
            " 1/14 [=>............................] - ETA: 0s - loss: 0.1225 - accuracy: 0.9375 - precision: 0.9375 - recall: 0.9375\n",
            "Epoch 8: val_accuracy improved from 0.90826 to 0.97248, saving model to ./results\\Best_model.h5\n",
            "14/14 [==============================] - 0s 7ms/step - loss: 0.1180 - accuracy: 0.9540 - precision: 0.9560 - recall: 0.9494 - val_loss: 0.1273 - val_accuracy: 0.9725 - val_precision: 0.9725 - val_recall: 0.9725 - lr: 0.0100\n",
            "Epoch 9/100\n",
            " 1/14 [=>............................] - ETA: 0s - loss: 0.0756 - accuracy: 0.9688 - precision: 0.9688 - recall: 0.9688\n",
            "Epoch 9: val_accuracy did not improve from 0.97248\n",
            "14/14 [==============================] - 0s 5ms/step - loss: 0.1015 - accuracy: 0.9678 - precision: 0.9678 - recall: 0.9678 - val_loss: 0.1316 - val_accuracy: 0.9725 - val_precision: 0.9725 - val_recall: 0.9725 - lr: 0.0100\n",
            "Epoch 10/100\n",
            " 1/14 [=>............................] - ETA: 0s - loss: 0.0491 - accuracy: 1.0000 - precision: 1.0000 - recall: 1.0000\n",
            "Epoch 10: val_accuracy did not improve from 0.97248\n",
            "14/14 [==============================] - 0s 5ms/step - loss: 0.1129 - accuracy: 0.9471 - precision: 0.9470 - recall: 0.9448 - val_loss: 0.1191 - val_accuracy: 0.9725 - val_precision: 0.9725 - val_recall: 0.9725 - lr: 0.0100\n",
            "Epoch 11/100\n",
            " 1/14 [=>............................] - ETA: 0s - loss: 0.2360 - accuracy: 0.9375 - precision: 0.9375 - recall: 0.9375\n",
            "Epoch 11: val_accuracy did not improve from 0.97248\n",
            "14/14 [==============================] - 0s 5ms/step - loss: 0.1025 - accuracy: 0.9678 - precision: 0.9678 - recall: 0.9678 - val_loss: 0.1850 - val_accuracy: 0.9541 - val_precision: 0.9541 - val_recall: 0.9541 - lr: 0.0100\n"
          ]
        }
      ],
      "source": [
        "history = model.fit(X_train, y_train, batch_size=32,epochs=100, validation_data=(X_test, y_test),callbacks=[MCP,ES,RLP],verbose=1)"
      ]
    },
    {
      "attachments": {},
      "cell_type": "markdown",
      "metadata": {
        "id": "-Dw9vP9R0rBC"
      },
      "source": [
        "#3. CNN evaluation"
      ]
    },
    {
      "cell_type": "code",
      "execution_count": 138,
      "metadata": {
        "colab": {
          "base_uri": "https://localhost:8080/"
        },
        "id": "MOBo5Kk8yt2S",
        "outputId": "98671496-5e1c-4f1b-84bb-2006251d8f1a"
      },
      "outputs": [
        {
          "name": "stdout",
          "output_type": "stream",
          "text": [
            "4/4 - 0s - loss: 0.1273 - accuracy: 0.9725 - precision: 0.9725 - recall: 0.9725 - 23ms/epoch - 6ms/step\n"
          ]
        },
        {
          "data": {
            "text/plain": [
              "[0.12730319797992706,\n",
              " 0.9724770784378052,\n",
              " 0.9724770784378052,\n",
              " 0.9724770784378052]"
            ]
          },
          "execution_count": 138,
          "metadata": {},
          "output_type": "execute_result"
        }
      ],
      "source": [
        "model.evaluate(X_test, y_test, verbose=2)"
      ]
    },
    {
      "cell_type": "code",
      "execution_count": 139,
      "metadata": {
        "colab": {
          "base_uri": "https://localhost:8080/",
          "height": 790
        },
        "id": "ruqORYd_zRVD",
        "outputId": "f05c927e-6b9e-4591-eedd-f6741810cb0d"
      },
      "outputs": [
        {
          "data": {
            "image/png": "[encoded data removed]",
            "text/plain": [
              "<Figure size 1000x400 with 1 Axes>"
            ]
          },
          "metadata": {},
          "output_type": "display_data"
        },
        {
          "data": {
            "text/plain": [
              "<Figure size 2000x827 with 0 Axes>"
            ]
          },
          "metadata": {},
          "output_type": "display_data"
        },
        {
          "data": {
            "image/png": "[encoded data removed]",
            "text/plain": [
              "<Figure size 1000x400 with 1 Axes>"
            ]
          },
          "metadata": {},
          "output_type": "display_data"
        }
      ],
      "source": [
        "acc = history.history['accuracy']\n",
        "val_acc = history.history['val_accuracy']\n",
        "loss = history.history['loss']\n",
        "val_loss = history.history['val_loss']\n",
        "epochs = range(1, len(acc) + 1)\n",
        "\n",
        "plt.figure(figsize=(10, 4))\n",
        "plt.plot(epochs, acc, 'b', label='Training accuracy')\n",
        "plt.plot(epochs, val_acc, 'r', label='Validation accuracy')\n",
        "plt.title('Training and validation accuracy')\n",
        "plt.legend() \n",
        "plt.savefig('Training and validation accuracy.png',dpi=200)\n",
        "plt.figure()\n",
        "\n",
        "plt.figure(figsize=(10, 4))\n",
        "plt.plot(epochs, loss, 'b', label='Training loss')\n",
        "plt.plot(epochs, val_loss, 'r', label='Validation loss')\n",
        "plt.title('Training and validation loss')\n",
        "plt.legend()\n",
        "plt.show()"
      ]
    },
    {
      "cell_type": "code",
      "execution_count": 140,
      "metadata": {
        "colab": {
          "base_uri": "https://localhost:8080/"
        },
        "id": "EItlVQkF0RhD",
        "outputId": "dbac0ee1-f107-4894-b170-3da40e99a363"
      },
      "outputs": [
        {
          "name": "stdout",
          "output_type": "stream",
          "text": [
            "4/4 [==============================] - 0s 2ms/step\n"
          ]
        }
      ],
      "source": [
        "predictions = np.argmax(model.predict(X_test), axis=1)\n",
        "actual = np.argmax(y_test, axis=1)"
      ]
    },
    {
      "cell_type": "code",
      "execution_count": 141,
      "metadata": {
        "colab": {
          "base_uri": "https://localhost:8080/",
          "height": 688
        },
        "id": "4zGv7Y__z6ha",
        "outputId": "982279ea-2384-4c0e-ead8-dbba1469ec49"
      },
      "outputs": [
        {
          "data": {
            "image/png": "[encoded data removed]",
            "text/plain": [
              "<Figure size 800x800 with 2 Axes>"
            ]
          },
          "metadata": {},
          "output_type": "display_data"
        }
      ],
      "source": [
        "plt.figure(figsize=(8, 8))\n",
        "cm = confusion_matrix(actual, predictions)\n",
        "g = sns.heatmap(cm, annot=True, fmt='.0f')\n",
        "g.set_xticklabels(class_mapping)\n",
        "g.set_yticklabels(class_mapping)\n",
        "plt.show()"
      ]
    },
    {
      "cell_type": "code",
      "execution_count": 142,
      "metadata": {
        "colab": {
          "base_uri": "https://localhost:8080/"
        },
        "id": "v8KlCwfc0RNT",
        "outputId": "bf2af898-550b-4ba2-b3d0-614ec0e2c8b7"
      },
      "outputs": [
        {
          "name": "stdout",
          "output_type": "stream",
          "text": [
            "              precision    recall  f1-score   support\n",
            "\n",
            "           0       1.00      0.88      0.94        25\n",
            "           1       0.88      1.00      0.94        22\n",
            "           2       1.00      1.00      1.00        33\n",
            "           3       1.00      1.00      1.00        29\n",
            "\n",
            "    accuracy                           0.97       109\n",
            "   macro avg       0.97      0.97      0.97       109\n",
            "weighted avg       0.98      0.97      0.97       109\n",
            "\n"
          ]
        }
      ],
      "source": [
        "y_test_temp = np.argmax(y_test, axis=1)\n",
        "print(classification_report(y_test_temp, predictions))"
      ]
    }
  ],
  "metadata": {
    "accelerator": "GPU",
    "colab": {
      "collapsed_sections": [
        "Di3bXlrt_2D7",
        "WLGuNvTetTsb",
        "3M6Y1qJxwevi",
        "5ZkFPdpzvufG",
        "RhPMGvdqL-66",
        "tamGRqsuV__t",
        "w1u2BW-8X__U",
        "IybSGAD-2iUh",
        "bh_mMRWype95"
      ],
      "gpuClass": "premium",
      "machine_shape": "hm",
      "provenance": []
    },
    "gpuClass": "premium",
    "kernelspec": {
      "display_name": "Python 3",
      "name": "python3"
    },
    "language_info": {
      "codemirror_mode": {
        "name": "ipython",
        "version": 3
      },
      "file_extension": ".py",
      "mimetype": "text/x-python",
      "name": "python",
      "nbconvert_exporter": "python",
      "pygments_lexer": "ipython3",
      "version": "3.10.11"
    }
  },
  "nbformat": 4,
  "nbformat_minor": 0
}
