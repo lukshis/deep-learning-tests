{
  "cells": [
    {
      "attachments": {},
      "cell_type": "markdown",
      "metadata": {
        "id": "x40eFfHeGdJO"
      },
      "source": [
        "CNN using finger component rotations"
      ]
    },
    {
      "cell_type": "code",
      "execution_count": 1,
      "metadata": {
        "id": "20xJTw8d0EJB"
      },
      "outputs": [],
      "source": [
        "# Seed value\n",
        "seed_value = 1\n",
        "\n",
        "# 1. Set `PYTHONHASHSEED` environment variable at a fixed value\n",
        "import os\n",
        "os.environ['PYTHONHASHSEED']=str(seed_value)\n",
        "seed_value += 1\n",
        "\n",
        "# 2. Set `python` built-in pseudo-random generator at a fixed value\n",
        "import random\n",
        "random.seed(seed_value)\n",
        "seed_value += 1\n",
        "\n",
        "# 3. Set `numpy` pseudo-random generator at a fixed value\n",
        "import numpy as np\n",
        "np.random.seed(seed_value)\n",
        "seed_value += 1\n",
        "\n",
        "# 4. Set `tensorflow` pseudo-random generator at a fixed value\n",
        "import tensorflow as tf\n",
        "tf.random.set_seed(seed_value)"
      ]
    },
    {
      "cell_type": "code",
      "execution_count": 3,
      "metadata": {
        "id": "uPuRX3RTMQ3R"
      },
      "outputs": [],
      "source": [
        "import pandas as pd\n",
        "import matplotlib.pyplot as plt\n",
        "import seaborn as sns\n",
        "from keras.utils import to_categorical\n",
        "from utils.parseData import ReadData"
      ]
    },
    {
      "cell_type": "code",
      "execution_count": 4,
      "metadata": {},
      "outputs": [],
      "source": [
        "def GetData(path=\"./data/\", augment=False):\n",
        "    all_data = ReadData(path)\n",
        "    \n",
        "    if augment:\n",
        "        all_data = AugmentData(all_data)\n",
        "    \n",
        "    labels = all_data[:, :1]\n",
        "    data = all_data[:, 8:]\n",
        "    \n",
        "    return labels, data"
      ]
    },
    {
      "cell_type": "code",
      "execution_count": 5,
      "metadata": {},
      "outputs": [],
      "source": [
        "def AugmentData(data):\n",
        "    augmented_data = np.array(data)\n",
        "    for i in range(augmented_data.shape[0]):\n",
        "        for j in range(7, 72):\n",
        "            random.seed(i * j)\n",
        "            random_v = random.random()\n",
        "            augmented_data[i][j] = augmented_data[i][j] + (-1.0 + (random_v * (1.0 + 1.0)))\n",
        "    full_data = np.concatenate((data, augmented_data), axis=0)\n",
        "    return full_data"
      ]
    },
    {
      "cell_type": "code",
      "execution_count": 6,
      "metadata": {},
      "outputs": [
        {
          "data": {
            "text/html": [
              "<div>\n",
              "<style scoped>\n",
              "    .dataframe tbody tr th:only-of-type {\n",
              "        vertical-align: middle;\n",
              "    }\n",
              "\n",
              "    .dataframe tbody tr th {\n",
              "        vertical-align: top;\n",
              "    }\n",
              "\n",
              "    .dataframe thead th {\n",
              "        text-align: right;\n",
              "    }\n",
              "</style>\n",
              "<table border=\"1\" class=\"dataframe\">\n",
              "  <thead>\n",
              "    <tr style=\"text-align: right;\">\n",
              "      <th></th>\n",
              "      <th>0</th>\n",
              "      <th>1</th>\n",
              "      <th>2</th>\n",
              "      <th>3</th>\n",
              "      <th>4</th>\n",
              "      <th>5</th>\n",
              "      <th>6</th>\n",
              "      <th>7</th>\n",
              "      <th>8</th>\n",
              "      <th>9</th>\n",
              "      <th>...</th>\n",
              "      <th>56</th>\n",
              "      <th>57</th>\n",
              "      <th>58</th>\n",
              "      <th>59</th>\n",
              "      <th>60</th>\n",
              "      <th>61</th>\n",
              "      <th>62</th>\n",
              "      <th>63</th>\n",
              "      <th>64</th>\n",
              "      <th>65</th>\n",
              "    </tr>\n",
              "  </thead>\n",
              "  <tbody>\n",
              "    <tr>\n",
              "      <th>0</th>\n",
              "      <td>122.989521</td>\n",
              "      <td>5.031775</td>\n",
              "      <td>32.396511</td>\n",
              "      <td>154.947733</td>\n",
              "      <td>2.893299</td>\n",
              "      <td>48.086895</td>\n",
              "      <td>145.477856</td>\n",
              "      <td>-8.119449</td>\n",
              "      <td>46.227878</td>\n",
              "      <td>159.286507</td>\n",
              "      <td>...</td>\n",
              "      <td>-67.582787</td>\n",
              "      <td>-125.367848</td>\n",
              "      <td>-72.437172</td>\n",
              "      <td>-50.852973</td>\n",
              "      <td>-96.587422</td>\n",
              "      <td>-79.767570</td>\n",
              "      <td>-67.930081</td>\n",
              "      <td>-70.781021</td>\n",
              "      <td>-70.997175</td>\n",
              "      <td>-87.361629</td>\n",
              "    </tr>\n",
              "    <tr>\n",
              "      <th>1</th>\n",
              "      <td>135.335277</td>\n",
              "      <td>22.762292</td>\n",
              "      <td>47.132208</td>\n",
              "      <td>171.382518</td>\n",
              "      <td>45.664967</td>\n",
              "      <td>57.643169</td>\n",
              "      <td>-179.805451</td>\n",
              "      <td>40.565404</td>\n",
              "      <td>84.301659</td>\n",
              "      <td>-141.818159</td>\n",
              "      <td>...</td>\n",
              "      <td>-102.868148</td>\n",
              "      <td>83.136421</td>\n",
              "      <td>15.529929</td>\n",
              "      <td>90.343455</td>\n",
              "      <td>78.789987</td>\n",
              "      <td>5.173831</td>\n",
              "      <td>90.525847</td>\n",
              "      <td>72.386893</td>\n",
              "      <td>-4.364089</td>\n",
              "      <td>104.625646</td>\n",
              "    </tr>\n",
              "    <tr>\n",
              "      <th>2</th>\n",
              "      <td>141.891296</td>\n",
              "      <td>28.615349</td>\n",
              "      <td>54.489470</td>\n",
              "      <td>-178.385441</td>\n",
              "      <td>47.452724</td>\n",
              "      <td>69.867222</td>\n",
              "      <td>-175.951196</td>\n",
              "      <td>39.809274</td>\n",
              "      <td>87.187351</td>\n",
              "      <td>-148.173224</td>\n",
              "      <td>...</td>\n",
              "      <td>-109.162265</td>\n",
              "      <td>82.213256</td>\n",
              "      <td>36.904574</td>\n",
              "      <td>89.425871</td>\n",
              "      <td>76.610167</td>\n",
              "      <td>22.542002</td>\n",
              "      <td>89.209393</td>\n",
              "      <td>73.080910</td>\n",
              "      <td>-3.183434</td>\n",
              "      <td>110.232384</td>\n",
              "    </tr>\n",
              "    <tr>\n",
              "      <th>3</th>\n",
              "      <td>141.153613</td>\n",
              "      <td>28.042486</td>\n",
              "      <td>53.670653</td>\n",
              "      <td>-179.465062</td>\n",
              "      <td>47.739280</td>\n",
              "      <td>68.566937</td>\n",
              "      <td>-177.858053</td>\n",
              "      <td>40.358214</td>\n",
              "      <td>84.582835</td>\n",
              "      <td>-146.893964</td>\n",
              "      <td>...</td>\n",
              "      <td>-105.087837</td>\n",
              "      <td>83.791429</td>\n",
              "      <td>7.936759</td>\n",
              "      <td>89.145902</td>\n",
              "      <td>79.618323</td>\n",
              "      <td>-2.325866</td>\n",
              "      <td>93.411176</td>\n",
              "      <td>73.203217</td>\n",
              "      <td>-12.320351</td>\n",
              "      <td>108.900585</td>\n",
              "    </tr>\n",
              "    <tr>\n",
              "      <th>4</th>\n",
              "      <td>123.134389</td>\n",
              "      <td>5.315064</td>\n",
              "      <td>32.581669</td>\n",
              "      <td>155.111402</td>\n",
              "      <td>2.412084</td>\n",
              "      <td>48.602000</td>\n",
              "      <td>145.787989</td>\n",
              "      <td>-9.715883</td>\n",
              "      <td>45.043492</td>\n",
              "      <td>160.383255</td>\n",
              "      <td>...</td>\n",
              "      <td>-66.555146</td>\n",
              "      <td>-124.152353</td>\n",
              "      <td>-72.004125</td>\n",
              "      <td>-51.785051</td>\n",
              "      <td>-94.026793</td>\n",
              "      <td>-73.783497</td>\n",
              "      <td>-70.421552</td>\n",
              "      <td>-73.377815</td>\n",
              "      <td>-68.075547</td>\n",
              "      <td>-86.260239</td>\n",
              "    </tr>\n",
              "    <tr>\n",
              "      <th>...</th>\n",
              "      <td>...</td>\n",
              "      <td>...</td>\n",
              "      <td>...</td>\n",
              "      <td>...</td>\n",
              "      <td>...</td>\n",
              "      <td>...</td>\n",
              "      <td>...</td>\n",
              "      <td>...</td>\n",
              "      <td>...</td>\n",
              "      <td>...</td>\n",
              "      <td>...</td>\n",
              "      <td>...</td>\n",
              "      <td>...</td>\n",
              "      <td>...</td>\n",
              "      <td>...</td>\n",
              "      <td>...</td>\n",
              "      <td>...</td>\n",
              "      <td>...</td>\n",
              "      <td>...</td>\n",
              "      <td>...</td>\n",
              "      <td>...</td>\n",
              "    </tr>\n",
              "    <tr>\n",
              "      <th>267</th>\n",
              "      <td>136.117148</td>\n",
              "      <td>23.558528</td>\n",
              "      <td>48.020448</td>\n",
              "      <td>172.695000</td>\n",
              "      <td>44.435549</td>\n",
              "      <td>59.453698</td>\n",
              "      <td>-177.507727</td>\n",
              "      <td>38.993889</td>\n",
              "      <td>88.241172</td>\n",
              "      <td>-140.443245</td>\n",
              "      <td>...</td>\n",
              "      <td>-98.328479</td>\n",
              "      <td>83.881257</td>\n",
              "      <td>8.030162</td>\n",
              "      <td>91.208625</td>\n",
              "      <td>80.051306</td>\n",
              "      <td>-6.781338</td>\n",
              "      <td>95.508604</td>\n",
              "      <td>74.032483</td>\n",
              "      <td>-20.728024</td>\n",
              "      <td>115.463379</td>\n",
              "    </tr>\n",
              "    <tr>\n",
              "      <th>268</th>\n",
              "      <td>127.991088</td>\n",
              "      <td>13.598609</td>\n",
              "      <td>38.574855</td>\n",
              "      <td>162.014599</td>\n",
              "      <td>22.607596</td>\n",
              "      <td>49.931739</td>\n",
              "      <td>150.069521</td>\n",
              "      <td>8.824411</td>\n",
              "      <td>41.146125</td>\n",
              "      <td>157.063120</td>\n",
              "      <td>...</td>\n",
              "      <td>-84.058191</td>\n",
              "      <td>-105.174249</td>\n",
              "      <td>-47.854197</td>\n",
              "      <td>-70.212570</td>\n",
              "      <td>-90.002308</td>\n",
              "      <td>-53.102226</td>\n",
              "      <td>-71.775582</td>\n",
              "      <td>-78.800412</td>\n",
              "      <td>-47.744039</td>\n",
              "      <td>-73.490989</td>\n",
              "    </tr>\n",
              "    <tr>\n",
              "      <th>269</th>\n",
              "      <td>128.619080</td>\n",
              "      <td>14.520708</td>\n",
              "      <td>39.325698</td>\n",
              "      <td>162.858402</td>\n",
              "      <td>23.474136</td>\n",
              "      <td>50.833004</td>\n",
              "      <td>150.898711</td>\n",
              "      <td>10.212237</td>\n",
              "      <td>42.568938</td>\n",
              "      <td>157.848300</td>\n",
              "      <td>...</td>\n",
              "      <td>-85.925970</td>\n",
              "      <td>-103.907414</td>\n",
              "      <td>-44.440241</td>\n",
              "      <td>-72.821098</td>\n",
              "      <td>-89.280597</td>\n",
              "      <td>-49.272736</td>\n",
              "      <td>-72.529674</td>\n",
              "      <td>-77.843477</td>\n",
              "      <td>-45.906435</td>\n",
              "      <td>-73.415761</td>\n",
              "    </tr>\n",
              "    <tr>\n",
              "      <th>270</th>\n",
              "      <td>136.420157</td>\n",
              "      <td>23.859257</td>\n",
              "      <td>48.363773</td>\n",
              "      <td>173.187056</td>\n",
              "      <td>43.784214</td>\n",
              "      <td>60.150805</td>\n",
              "      <td>-179.227073</td>\n",
              "      <td>38.309941</td>\n",
              "      <td>86.043975</td>\n",
              "      <td>-145.727409</td>\n",
              "      <td>...</td>\n",
              "      <td>-98.127984</td>\n",
              "      <td>84.143438</td>\n",
              "      <td>10.057336</td>\n",
              "      <td>89.546770</td>\n",
              "      <td>79.712891</td>\n",
              "      <td>-3.979332</td>\n",
              "      <td>91.587358</td>\n",
              "      <td>73.134629</td>\n",
              "      <td>-14.307162</td>\n",
              "      <td>108.203424</td>\n",
              "    </tr>\n",
              "    <tr>\n",
              "      <th>271</th>\n",
              "      <td>137.580395</td>\n",
              "      <td>24.971848</td>\n",
              "      <td>49.673994</td>\n",
              "      <td>174.947375</td>\n",
              "      <td>46.756288</td>\n",
              "      <td>61.947993</td>\n",
              "      <td>-177.620618</td>\n",
              "      <td>40.518668</td>\n",
              "      <td>86.396890</td>\n",
              "      <td>-141.610131</td>\n",
              "      <td>...</td>\n",
              "      <td>-97.372700</td>\n",
              "      <td>84.113670</td>\n",
              "      <td>14.930430</td>\n",
              "      <td>89.947659</td>\n",
              "      <td>79.466898</td>\n",
              "      <td>3.020946</td>\n",
              "      <td>93.270792</td>\n",
              "      <td>72.954307</td>\n",
              "      <td>-6.718046</td>\n",
              "      <td>107.772365</td>\n",
              "    </tr>\n",
              "  </tbody>\n",
              "</table>\n",
              "<p>272 rows × 66 columns</p>\n",
              "</div>"
            ],
            "text/plain": [
              "             0          1          2           3          4          5   \\\n",
              "0    122.989521   5.031775  32.396511  154.947733   2.893299  48.086895   \n",
              "1    135.335277  22.762292  47.132208  171.382518  45.664967  57.643169   \n",
              "2    141.891296  28.615349  54.489470 -178.385441  47.452724  69.867222   \n",
              "3    141.153613  28.042486  53.670653 -179.465062  47.739280  68.566937   \n",
              "4    123.134389   5.315064  32.581669  155.111402   2.412084  48.602000   \n",
              "..          ...        ...        ...         ...        ...        ...   \n",
              "267  136.117148  23.558528  48.020448  172.695000  44.435549  59.453698   \n",
              "268  127.991088  13.598609  38.574855  162.014599  22.607596  49.931739   \n",
              "269  128.619080  14.520708  39.325698  162.858402  23.474136  50.833004   \n",
              "270  136.420157  23.859257  48.363773  173.187056  43.784214  60.150805   \n",
              "271  137.580395  24.971848  49.673994  174.947375  46.756288  61.947993   \n",
              "\n",
              "             6          7          8           9   ...          56  \\\n",
              "0    145.477856  -8.119449  46.227878  159.286507  ...  -67.582787   \n",
              "1   -179.805451  40.565404  84.301659 -141.818159  ... -102.868148   \n",
              "2   -175.951196  39.809274  87.187351 -148.173224  ... -109.162265   \n",
              "3   -177.858053  40.358214  84.582835 -146.893964  ... -105.087837   \n",
              "4    145.787989  -9.715883  45.043492  160.383255  ...  -66.555146   \n",
              "..          ...        ...        ...         ...  ...         ...   \n",
              "267 -177.507727  38.993889  88.241172 -140.443245  ...  -98.328479   \n",
              "268  150.069521   8.824411  41.146125  157.063120  ...  -84.058191   \n",
              "269  150.898711  10.212237  42.568938  157.848300  ...  -85.925970   \n",
              "270 -179.227073  38.309941  86.043975 -145.727409  ...  -98.127984   \n",
              "271 -177.620618  40.518668  86.396890 -141.610131  ...  -97.372700   \n",
              "\n",
              "             57         58         59         60         61         62  \\\n",
              "0   -125.367848 -72.437172 -50.852973 -96.587422 -79.767570 -67.930081   \n",
              "1     83.136421  15.529929  90.343455  78.789987   5.173831  90.525847   \n",
              "2     82.213256  36.904574  89.425871  76.610167  22.542002  89.209393   \n",
              "3     83.791429   7.936759  89.145902  79.618323  -2.325866  93.411176   \n",
              "4   -124.152353 -72.004125 -51.785051 -94.026793 -73.783497 -70.421552   \n",
              "..          ...        ...        ...        ...        ...        ...   \n",
              "267   83.881257   8.030162  91.208625  80.051306  -6.781338  95.508604   \n",
              "268 -105.174249 -47.854197 -70.212570 -90.002308 -53.102226 -71.775582   \n",
              "269 -103.907414 -44.440241 -72.821098 -89.280597 -49.272736 -72.529674   \n",
              "270   84.143438  10.057336  89.546770  79.712891  -3.979332  91.587358   \n",
              "271   84.113670  14.930430  89.947659  79.466898   3.020946  93.270792   \n",
              "\n",
              "            63         64          65  \n",
              "0   -70.781021 -70.997175  -87.361629  \n",
              "1    72.386893  -4.364089  104.625646  \n",
              "2    73.080910  -3.183434  110.232384  \n",
              "3    73.203217 -12.320351  108.900585  \n",
              "4   -73.377815 -68.075547  -86.260239  \n",
              "..         ...        ...         ...  \n",
              "267  74.032483 -20.728024  115.463379  \n",
              "268 -78.800412 -47.744039  -73.490989  \n",
              "269 -77.843477 -45.906435  -73.415761  \n",
              "270  73.134629 -14.307162  108.203424  \n",
              "271  72.954307  -6.718046  107.772365  \n",
              "\n",
              "[272 rows x 66 columns]"
            ]
          },
          "execution_count": 6,
          "metadata": {},
          "output_type": "execute_result"
        }
      ],
      "source": [
        "path = \"./data/\"\n",
        "labels, data = GetData(path=path, augment=False)\n",
        "\n",
        "df = pd.DataFrame(data) # for visualising\n",
        "df"
      ]
    },
    {
      "cell_type": "code",
      "execution_count": 7,
      "metadata": {
        "id": "KAPMKNRsYO77"
      },
      "outputs": [],
      "source": [
        "from sklearn.model_selection import train_test_split\n",
        "X_train, X_test, y_train, y_test = train_test_split(data, labels, test_size=0.2, random_state=2, stratify=labels)"
      ]
    },
    {
      "cell_type": "code",
      "execution_count": 8,
      "metadata": {
        "colab": {
          "base_uri": "https://localhost:8080/",
          "height": 701
        },
        "id": "W6LNY3Rb3adE",
        "outputId": "45a4d9de-331f-4878-dd93-fa8bb8378cbe"
      },
      "outputs": [
        {
          "data": {
            "image/png": "[encoded data removed]",
            "text/plain": [
              "<Figure size 2000x827 with 1 Axes>"
            ]
          },
          "metadata": {},
          "output_type": "display_data"
        }
      ],
      "source": [
        "sns.set(rc={'figure.figsize':(20,8.27)})\n",
        "sns.set_style(\"ticks\")\n",
        "_ = sns.countplot(x=y_train.reshape(-1))"
      ]
    },
    {
      "cell_type": "code",
      "execution_count": 9,
      "metadata": {
        "colab": {
          "base_uri": "https://localhost:8080/"
        },
        "id": "lBUN-OaGcCrK",
        "outputId": "af9b0390-e77c-4788-9df2-0e7192acad5c"
      },
      "outputs": [
        {
          "name": "stdout",
          "output_type": "stream",
          "text": [
            "X_train shape: (217, 66)\n",
            "y_train shape: (217, 1)\n",
            "\n",
            "X_test shape: (55, 66)\n",
            "y_test shape: (55, 1)\n"
          ]
        }
      ],
      "source": [
        "print(\"X_train shape: {}\".format(X_train.shape))\n",
        "print(\"y_train shape: {}\".format(y_train.shape))\n",
        "print(\"\")\n",
        "print(\"X_test shape: {}\".format(X_test.shape))\n",
        "print(\"y_test shape: {}\".format(y_test.shape))"
      ]
    },
    {
      "attachments": {},
      "cell_type": "markdown",
      "metadata": {
        "id": "qtvRGoAqq-45"
      },
      "source": [
        "Changing labels shape to categorical: "
      ]
    },
    {
      "cell_type": "code",
      "execution_count": 10,
      "metadata": {
        "colab": {
          "base_uri": "https://localhost:8080/"
        },
        "id": "mjHK2Ye-Lv6w",
        "outputId": "7c68aac4-8468-4e50-e1ac-2ed2abfcf5ab"
      },
      "outputs": [
        {
          "data": {
            "text/plain": [
              "array([2.])"
            ]
          },
          "execution_count": 10,
          "metadata": {},
          "output_type": "execute_result"
        }
      ],
      "source": [
        "y_train[0]"
      ]
    },
    {
      "cell_type": "code",
      "execution_count": 11,
      "metadata": {
        "id": "sBdIbjiHLlIl"
      },
      "outputs": [],
      "source": [
        "y_train = to_categorical(y_train)\n",
        "y_test = to_categorical(y_test)"
      ]
    },
    {
      "cell_type": "code",
      "execution_count": 12,
      "metadata": {
        "colab": {
          "base_uri": "https://localhost:8080/"
        },
        "id": "l08iFFEaMVFc",
        "outputId": "4966db94-f6e9-4d06-8b3d-d59887c0c5f4"
      },
      "outputs": [
        {
          "data": {
            "text/plain": [
              "array([0., 0., 1., 0.], dtype=float32)"
            ]
          },
          "execution_count": 12,
          "metadata": {},
          "output_type": "execute_result"
        }
      ],
      "source": [
        "y_train[0]"
      ]
    },
    {
      "cell_type": "code",
      "execution_count": 13,
      "metadata": {
        "colab": {
          "base_uri": "https://localhost:8080/"
        },
        "id": "kNdMwcxOcF75",
        "outputId": "7df00c38-1cb8-48ea-e6b2-a23680b2feb1"
      },
      "outputs": [
        {
          "name": "stdout",
          "output_type": "stream",
          "text": [
            "y_train shape: (217, 4)\n",
            "y_test shape: (55, 4)\n"
          ]
        }
      ],
      "source": [
        "print(\"y_train shape: {}\".format(y_train.shape))\n",
        "print(\"y_test shape: {}\".format(y_test.shape))"
      ]
    },
    {
      "cell_type": "code",
      "execution_count": 14,
      "metadata": {
        "id": "4-NqVgArxZpV"
      },
      "outputs": [],
      "source": [
        "X_train = np.expand_dims(X_train, -1)\n",
        "X_test = np.expand_dims(X_test, -1)"
      ]
    },
    {
      "cell_type": "code",
      "execution_count": 15,
      "metadata": {
        "colab": {
          "base_uri": "https://localhost:8080/"
        },
        "id": "qrDuwyqcxjcN",
        "outputId": "84ad19a3-772c-4944-d561-2920d6076ba7"
      },
      "outputs": [
        {
          "name": "stdout",
          "output_type": "stream",
          "text": [
            "X_train shape: (217, 66, 1)\n",
            "X_test shape: (55, 66, 1)\n"
          ]
        }
      ],
      "source": [
        "print(\"X_train shape: {}\".format(X_train.shape))\n",
        "print(\"X_test shape: {}\".format(X_test.shape))"
      ]
    },
    {
      "cell_type": "code",
      "execution_count": 16,
      "metadata": {
        "id": "DrdJlXc_6vYp"
      },
      "outputs": [],
      "source": [
        "class_mapping = ['thumbs_up','thumbs_down','ok','victory']\n",
        "num_classes = 4"
      ]
    },
    {
      "attachments": {},
      "cell_type": "markdown",
      "metadata": {
        "id": "pPltiJu5uwk5"
      },
      "source": [
        "#2. Creating and training CNN"
      ]
    },
    {
      "cell_type": "code",
      "execution_count": 17,
      "metadata": {
        "id": "kQQ_E9BDu22d"
      },
      "outputs": [],
      "source": [
        "import keras\n",
        "from keras import layers  \n",
        "from keras import models\n",
        "from keras import callbacks\n",
        "from sklearn.metrics import confusion_matrix\n",
        "from sklearn.metrics import classification_report"
      ]
    },
    {
      "cell_type": "code",
      "execution_count": 18,
      "metadata": {
        "id": "XB26lE4Cs2J6"
      },
      "outputs": [],
      "source": [
        "def create_1D_model():\n",
        "  model = models.Sequential()\n",
        "\n",
        "  model.add(layers.Conv1D(32, 3, input_shape=X_train.shape[1:3], activation='relu', ))\n",
        "  model.add(layers.Conv1D(16, 1, activation='relu', ))\n",
        "  model.add(layers.Dropout(0.2))\n",
        "  model.add(layers.MaxPooling1D(pool_size=2))\n",
        "\n",
        "  model.add(layers.Flatten())\n",
        "\n",
        "  model.add(layers.Dense(64, activation='relu'))\n",
        "  model.add(layers.Dense(num_classes, activation='softmax'))\n",
        "\n",
        "  return model"
      ]
    },
    {
      "cell_type": "code",
      "execution_count": 19,
      "metadata": {
        "id": "Z3we38y4uVO2"
      },
      "outputs": [],
      "source": [
        "model = create_1D_model()\n",
        "model.compile(optimizer=keras.optimizers.SGD(),loss='categorical_crossentropy',metrics=['accuracy', 'Precision', 'Recall'])"
      ]
    },
    {
      "cell_type": "code",
      "execution_count": 20,
      "metadata": {
        "id": "-RqVuh2jxv6h"
      },
      "outputs": [],
      "source": [
        "MCP = keras.callbacks.ModelCheckpoint('./results/' + 'model_rot.h5',verbose=1,save_best_only=True,monitor='val_accuracy',mode='max')\n",
        "ES = keras.callbacks.EarlyStopping(monitor='val_accuracy',min_delta=0,verbose=0,restore_best_weights = True,patience=3,mode='max')\n",
        "RLP = keras.callbacks.ReduceLROnPlateau(monitor='val_loss',patience=3,factor=0.2,min_lr=0.0001)"
      ]
    },
    {
      "cell_type": "code",
      "execution_count": 21,
      "metadata": {
        "colab": {
          "base_uri": "https://localhost:8080/"
        },
        "id": "QFM4H7pfyDnq",
        "outputId": "b0bfb17a-ed85-43eb-d6bc-1deef3b0ceda"
      },
      "outputs": [
        {
          "name": "stdout",
          "output_type": "stream",
          "text": [
            "Epoch 1/100\n",
            "1/7 [===>..........................] - ETA: 8s - loss: 10.6074 - accuracy: 0.3750 - precision: 0.3871 - recall: 0.3750\n",
            "Epoch 1: val_accuracy improved from -inf to 0.72727, saving model to ./results\\model_rot.h5\n",
            "7/7 [==============================] - 2s 74ms/step - loss: 32.7397 - accuracy: 0.3364 - precision: 0.3395 - recall: 0.3364 - val_loss: 0.8548 - val_accuracy: 0.7273 - val_precision: 0.6750 - val_recall: 0.4909 - lr: 0.0100\n",
            "Epoch 2/100\n",
            "1/7 [===>..........................] - ETA: 0s - loss: 1.0540 - accuracy: 0.5938 - precision: 0.6296 - recall: 0.5312\n",
            "Epoch 2: val_accuracy improved from 0.72727 to 0.96364, saving model to ./results\\model_rot.h5\n",
            "7/7 [==============================] - 0s 14ms/step - loss: 0.5848 - accuracy: 0.7696 - precision: 0.7956 - recall: 0.6636 - val_loss: 0.2005 - val_accuracy: 0.9636 - val_precision: 0.9636 - val_recall: 0.9636 - lr: 0.0100\n",
            "Epoch 3/100\n",
            "1/7 [===>..........................] - ETA: 0s - loss: 0.3919 - accuracy: 0.8438 - precision: 0.8438 - recall: 0.8438\n",
            "Epoch 3: val_accuracy did not improve from 0.96364\n",
            "7/7 [==============================] - 0s 8ms/step - loss: 0.2982 - accuracy: 0.8894 - precision: 0.8889 - recall: 0.8848 - val_loss: 0.4266 - val_accuracy: 0.8182 - val_precision: 0.8333 - val_recall: 0.8182 - lr: 0.0100\n",
            "Epoch 4/100\n",
            "1/7 [===>..........................] - ETA: 0s - loss: 0.3851 - accuracy: 0.8125 - precision: 0.8125 - recall: 0.8125\n",
            "Epoch 4: val_accuracy did not improve from 0.96364\n",
            "7/7 [==============================] - 0s 7ms/step - loss: 0.2221 - accuracy: 0.9171 - precision: 0.9209 - recall: 0.9124 - val_loss: 0.1133 - val_accuracy: 0.9636 - val_precision: 0.9636 - val_recall: 0.9636 - lr: 0.0100\n",
            "Epoch 5/100\n",
            "1/7 [===>..........................] - ETA: 0s - loss: 0.1191 - accuracy: 0.9062 - precision: 0.9062 - recall: 0.9062\n",
            "Epoch 5: val_accuracy improved from 0.96364 to 0.98182, saving model to ./results\\model_rot.h5\n",
            "7/7 [==============================] - 0s 14ms/step - loss: 0.2233 - accuracy: 0.8986 - precision: 0.8986 - recall: 0.8986 - val_loss: 0.0815 - val_accuracy: 0.9818 - val_precision: 0.9818 - val_recall: 0.9818 - lr: 0.0100\n",
            "Epoch 6/100\n",
            "1/7 [===>..........................] - ETA: 0s - loss: 0.1036 - accuracy: 1.0000 - precision: 1.0000 - recall: 1.0000\n",
            "Epoch 6: val_accuracy did not improve from 0.98182\n",
            "7/7 [==============================] - 0s 8ms/step - loss: 0.1492 - accuracy: 0.9493 - precision: 0.9535 - recall: 0.9447 - val_loss: 0.1205 - val_accuracy: 0.9636 - val_precision: 0.9636 - val_recall: 0.9636 - lr: 0.0100\n",
            "Epoch 7/100\n",
            "1/7 [===>..........................] - ETA: 0s - loss: 0.1911 - accuracy: 0.9375 - precision: 0.9375 - recall: 0.9375\n",
            "Epoch 7: val_accuracy did not improve from 0.98182\n",
            "7/7 [==============================] - 0s 7ms/step - loss: 0.1444 - accuracy: 0.9539 - precision: 0.9539 - recall: 0.9539 - val_loss: 0.0652 - val_accuracy: 0.9818 - val_precision: 0.9815 - val_recall: 0.9636 - lr: 0.0100\n",
            "Epoch 8/100\n",
            "1/7 [===>..........................] - ETA: 0s - loss: 0.1321 - accuracy: 0.9375 - precision: 0.9375 - recall: 0.9375\n",
            "Epoch 8: val_accuracy improved from 0.98182 to 1.00000, saving model to ./results\\model_rot.h5\n",
            "7/7 [==============================] - 0s 13ms/step - loss: 0.1557 - accuracy: 0.9447 - precision: 0.9447 - recall: 0.9447 - val_loss: 0.0491 - val_accuracy: 1.0000 - val_precision: 1.0000 - val_recall: 1.0000 - lr: 0.0100\n",
            "Epoch 9/100\n",
            "1/7 [===>..........................] - ETA: 0s - loss: 0.0572 - accuracy: 1.0000 - precision: 1.0000 - recall: 0.9688\n",
            "Epoch 9: val_accuracy did not improve from 1.00000\n",
            "7/7 [==============================] - 0s 8ms/step - loss: 0.1479 - accuracy: 0.9401 - precision: 0.9442 - recall: 0.9355 - val_loss: 0.0501 - val_accuracy: 0.9818 - val_precision: 0.9818 - val_recall: 0.9818 - lr: 0.0100\n",
            "Epoch 10/100\n",
            "1/7 [===>..........................] - ETA: 0s - loss: 0.1119 - accuracy: 0.9688 - precision: 0.9688 - recall: 0.9688\n",
            "Epoch 10: val_accuracy did not improve from 1.00000\n",
            "7/7 [==============================] - 0s 7ms/step - loss: 0.1311 - accuracy: 0.9585 - precision: 0.9585 - recall: 0.9585 - val_loss: 0.1455 - val_accuracy: 0.9273 - val_precision: 0.9273 - val_recall: 0.9273 - lr: 0.0100\n",
            "Epoch 11/100\n",
            "1/7 [===>..........................] - ETA: 0s - loss: 0.1049 - accuracy: 0.9688 - precision: 0.9688 - recall: 0.9688\n",
            "Epoch 11: val_accuracy did not improve from 1.00000\n",
            "7/7 [==============================] - 0s 9ms/step - loss: 0.1476 - accuracy: 0.9263 - precision: 0.9263 - recall: 0.9263 - val_loss: 0.0461 - val_accuracy: 1.0000 - val_precision: 1.0000 - val_recall: 1.0000 - lr: 0.0100\n"
          ]
        }
      ],
      "source": [
        "history = model.fit(X_train, y_train, batch_size=32,epochs=100, validation_data=(X_test, y_test),callbacks=[MCP,ES,RLP],verbose=1)"
      ]
    },
    {
      "attachments": {},
      "cell_type": "markdown",
      "metadata": {
        "id": "-Dw9vP9R0rBC"
      },
      "source": [
        "#3. CNN evaluation"
      ]
    },
    {
      "cell_type": "code",
      "execution_count": 22,
      "metadata": {
        "colab": {
          "base_uri": "https://localhost:8080/"
        },
        "id": "MOBo5Kk8yt2S",
        "outputId": "98671496-5e1c-4f1b-84bb-2006251d8f1a"
      },
      "outputs": [
        {
          "name": "stdout",
          "output_type": "stream",
          "text": [
            "2/2 - 0s - loss: 0.0491 - accuracy: 1.0000 - precision: 1.0000 - recall: 1.0000 - 22ms/epoch - 11ms/step\n"
          ]
        },
        {
          "data": {
            "text/plain": [
              "[0.04906100779771805, 1.0, 1.0, 1.0]"
            ]
          },
          "execution_count": 22,
          "metadata": {},
          "output_type": "execute_result"
        }
      ],
      "source": [
        "model.evaluate(X_test, y_test, verbose=2)"
      ]
    },
    {
      "cell_type": "code",
      "execution_count": 23,
      "metadata": {
        "colab": {
          "base_uri": "https://localhost:8080/",
          "height": 790
        },
        "id": "ruqORYd_zRVD",
        "outputId": "f05c927e-6b9e-4591-eedd-f6741810cb0d"
      },
      "outputs": [
        {
          "data": {
            "image/png": "[encoded data removed]",
            "text/plain": [
              "<Figure size 1000x400 with 1 Axes>"
            ]
          },
          "metadata": {},
          "output_type": "display_data"
        },
        {
          "data": {
            "text/plain": [
              "<Figure size 2000x827 with 0 Axes>"
            ]
          },
          "metadata": {},
          "output_type": "display_data"
        },
        {
          "data": {
            "image/png": "[encoded data removed]",
            "text/plain": [
              "<Figure size 1000x400 with 1 Axes>"
            ]
          },
          "metadata": {},
          "output_type": "display_data"
        }
      ],
      "source": [
        "acc = history.history['accuracy']\n",
        "val_acc = history.history['val_accuracy']\n",
        "loss = history.history['loss']\n",
        "val_loss = history.history['val_loss']\n",
        "epochs = range(1, len(acc) + 1)\n",
        "\n",
        "plt.figure(figsize=(10, 4))\n",
        "plt.plot(epochs, acc, 'b', label='Training accuracy')\n",
        "plt.plot(epochs, val_acc, 'r', label='Validation accuracy')\n",
        "plt.title('Training and validation accuracy')\n",
        "plt.legend() \n",
        "plt.savefig('Training and validation accuracy partial rot.png',dpi=200)\n",
        "plt.figure()\n",
        "\n",
        "plt.figure(figsize=(10, 4))\n",
        "plt.plot(epochs, loss, 'b', label='Training loss')\n",
        "plt.plot(epochs, val_loss, 'r', label='Validation loss')\n",
        "plt.title('Training and validation loss')\n",
        "plt.legend()\n",
        "plt.show()"
      ]
    },
    {
      "cell_type": "code",
      "execution_count": 24,
      "metadata": {
        "colab": {
          "base_uri": "https://localhost:8080/"
        },
        "id": "EItlVQkF0RhD",
        "outputId": "dbac0ee1-f107-4894-b170-3da40e99a363"
      },
      "outputs": [
        {
          "name": "stdout",
          "output_type": "stream",
          "text": [
            "2/2 [==============================] - 0s 2ms/step\n"
          ]
        }
      ],
      "source": [
        "predictions = np.argmax(model.predict(X_test), axis=1)\n",
        "actual = np.argmax(y_test, axis=1)"
      ]
    },
    {
      "cell_type": "code",
      "execution_count": 25,
      "metadata": {
        "colab": {
          "base_uri": "https://localhost:8080/",
          "height": 688
        },
        "id": "4zGv7Y__z6ha",
        "outputId": "982279ea-2384-4c0e-ead8-dbba1469ec49"
      },
      "outputs": [
        {
          "data": {
            "image/png": "[encoded data removed]",
            "text/plain": [
              "<Figure size 800x800 with 2 Axes>"
            ]
          },
          "metadata": {},
          "output_type": "display_data"
        }
      ],
      "source": [
        "plt.figure(figsize=(8, 8))\n",
        "cm = confusion_matrix(actual, predictions)\n",
        "g = sns.heatmap(cm, annot=True, fmt='.0f')\n",
        "g.set_xticklabels(class_mapping)\n",
        "g.set_yticklabels(class_mapping)\n",
        "plt.show()"
      ]
    },
    {
      "cell_type": "code",
      "execution_count": 26,
      "metadata": {
        "colab": {
          "base_uri": "https://localhost:8080/"
        },
        "id": "v8KlCwfc0RNT",
        "outputId": "bf2af898-550b-4ba2-b3d0-614ec0e2c8b7"
      },
      "outputs": [
        {
          "name": "stdout",
          "output_type": "stream",
          "text": [
            "              precision    recall  f1-score   support\n",
            "\n",
            "           0       1.00      1.00      1.00        13\n",
            "           1       1.00      1.00      1.00        11\n",
            "           2       1.00      1.00      1.00        16\n",
            "           3       1.00      1.00      1.00        15\n",
            "\n",
            "    accuracy                           1.00        55\n",
            "   macro avg       1.00      1.00      1.00        55\n",
            "weighted avg       1.00      1.00      1.00        55\n",
            "\n"
          ]
        }
      ],
      "source": [
        "y_test_temp = np.argmax(y_test, axis=1)\n",
        "print(classification_report(y_test_temp, predictions))"
      ]
    }
  ],
  "metadata": {
    "accelerator": "GPU",
    "colab": {
      "collapsed_sections": [
        "Di3bXlrt_2D7",
        "WLGuNvTetTsb",
        "3M6Y1qJxwevi",
        "5ZkFPdpzvufG",
        "RhPMGvdqL-66",
        "tamGRqsuV__t",
        "w1u2BW-8X__U",
        "IybSGAD-2iUh",
        "bh_mMRWype95"
      ],
      "gpuClass": "premium",
      "machine_shape": "hm",
      "provenance": []
    },
    "gpuClass": "premium",
    "kernelspec": {
      "display_name": "Python 3",
      "name": "python3"
    },
    "language_info": {
      "codemirror_mode": {
        "name": "ipython",
        "version": 3
      },
      "file_extension": ".py",
      "mimetype": "text/x-python",
      "name": "python",
      "nbconvert_exporter": "python",
      "pygments_lexer": "ipython3",
      "version": "3.10.11"
    }
  },
  "nbformat": 4,
  "nbformat_minor": 0
}
