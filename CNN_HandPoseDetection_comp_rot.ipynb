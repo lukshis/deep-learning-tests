{
  "cells": [
    {
      "attachments": {},
      "cell_type": "markdown",
      "metadata": {
        "id": "x40eFfHeGdJO"
      },
      "source": [
        "CNN using finger component rotations"
      ]
    },
    {
      "cell_type": "code",
      "execution_count": 51,
      "metadata": {
        "id": "20xJTw8d0EJB"
      },
      "outputs": [],
      "source": [
        "# Seed value\n",
        "seed_value = 1\n",
        "\n",
        "# 1. Set `PYTHONHASHSEED` environment variable at a fixed value\n",
        "import os\n",
        "os.environ['PYTHONHASHSEED']=str(seed_value)\n",
        "seed_value += 1\n",
        "\n",
        "# 2. Set `python` built-in pseudo-random generator at a fixed value\n",
        "import random\n",
        "random.seed(seed_value)\n",
        "seed_value += 1\n",
        "\n",
        "# 3. Set `numpy` pseudo-random generator at a fixed value\n",
        "import numpy as np\n",
        "np.random.seed(seed_value)\n",
        "seed_value += 1\n",
        "\n",
        "# 4. Set `tensorflow` pseudo-random generator at a fixed value\n",
        "import tensorflow as tf\n",
        "tf.random.set_seed(seed_value)"
      ]
    },
    {
      "cell_type": "code",
      "execution_count": 52,
      "metadata": {
        "id": "uPuRX3RTMQ3R"
      },
      "outputs": [],
      "source": [
        "%run ./utils/parseData.ipynb\n",
        "import pandas as pd\n",
        "import matplotlib.pyplot as plt\n",
        "import seaborn as sns\n",
        "from keras.utils import to_categorical"
      ]
    },
    {
      "cell_type": "code",
      "execution_count": 53,
      "metadata": {},
      "outputs": [],
      "source": [
        "def GetData(path=\"./data/\", augment=False):\n",
        "    all_data = read_data(path)\n",
        "    \n",
        "    if augment:\n",
        "        all_data = AugmentData(all_data)\n",
        "    \n",
        "    labels = all_data[:, :1]\n",
        "    data = all_data[:, 8:]\n",
        "    \n",
        "    return labels, data"
      ]
    },
    {
      "cell_type": "code",
      "execution_count": 54,
      "metadata": {},
      "outputs": [],
      "source": [
        "def AugmentData(data):\n",
        "    augmented_data = np.array(data)\n",
        "    for i in range(augmented_data.shape[0]):\n",
        "        for j in range(7, 72):\n",
        "            random.seed(i * j)\n",
        "            random_v = random.random()\n",
        "            augmented_data[i][j] = augmented_data[i][j] + (-1.0 + (random_v * (1.0 + 1.0)))\n",
        "    full_data = np.concatenate((data, augmented_data), axis=0)\n",
        "    return full_data"
      ]
    },
    {
      "cell_type": "code",
      "execution_count": 55,
      "metadata": {},
      "outputs": [
        {
          "data": {
            "text/html": [
              "<div>\n",
              "<style scoped>\n",
              "    .dataframe tbody tr th:only-of-type {\n",
              "        vertical-align: middle;\n",
              "    }\n",
              "\n",
              "    .dataframe tbody tr th {\n",
              "        vertical-align: top;\n",
              "    }\n",
              "\n",
              "    .dataframe thead th {\n",
              "        text-align: right;\n",
              "    }\n",
              "</style>\n",
              "<table border=\"1\" class=\"dataframe\">\n",
              "  <thead>\n",
              "    <tr style=\"text-align: right;\">\n",
              "      <th></th>\n",
              "      <th>0</th>\n",
              "      <th>1</th>\n",
              "      <th>2</th>\n",
              "      <th>3</th>\n",
              "      <th>4</th>\n",
              "      <th>5</th>\n",
              "      <th>6</th>\n",
              "      <th>7</th>\n",
              "      <th>8</th>\n",
              "      <th>9</th>\n",
              "      <th>...</th>\n",
              "      <th>56</th>\n",
              "      <th>57</th>\n",
              "      <th>58</th>\n",
              "      <th>59</th>\n",
              "      <th>60</th>\n",
              "      <th>61</th>\n",
              "      <th>62</th>\n",
              "      <th>63</th>\n",
              "      <th>64</th>\n",
              "      <th>65</th>\n",
              "    </tr>\n",
              "  </thead>\n",
              "  <tbody>\n",
              "    <tr>\n",
              "      <th>0</th>\n",
              "      <td>122.989521</td>\n",
              "      <td>5.031775</td>\n",
              "      <td>32.396511</td>\n",
              "      <td>154.947733</td>\n",
              "      <td>2.893299</td>\n",
              "      <td>48.086895</td>\n",
              "      <td>145.477856</td>\n",
              "      <td>-8.119449</td>\n",
              "      <td>46.227878</td>\n",
              "      <td>159.286507</td>\n",
              "      <td>...</td>\n",
              "      <td>-67.582787</td>\n",
              "      <td>-125.367848</td>\n",
              "      <td>-72.437172</td>\n",
              "      <td>-50.852973</td>\n",
              "      <td>-96.587422</td>\n",
              "      <td>-79.767570</td>\n",
              "      <td>-67.930081</td>\n",
              "      <td>-70.781021</td>\n",
              "      <td>-70.997175</td>\n",
              "      <td>-87.361629</td>\n",
              "    </tr>\n",
              "    <tr>\n",
              "      <th>1</th>\n",
              "      <td>135.335277</td>\n",
              "      <td>22.762292</td>\n",
              "      <td>47.132208</td>\n",
              "      <td>171.382518</td>\n",
              "      <td>45.664967</td>\n",
              "      <td>57.643169</td>\n",
              "      <td>-179.805451</td>\n",
              "      <td>40.565404</td>\n",
              "      <td>84.301659</td>\n",
              "      <td>-141.818159</td>\n",
              "      <td>...</td>\n",
              "      <td>-102.868148</td>\n",
              "      <td>83.136421</td>\n",
              "      <td>15.529929</td>\n",
              "      <td>90.343455</td>\n",
              "      <td>78.789987</td>\n",
              "      <td>5.173831</td>\n",
              "      <td>90.525847</td>\n",
              "      <td>72.386893</td>\n",
              "      <td>-4.364089</td>\n",
              "      <td>104.625646</td>\n",
              "    </tr>\n",
              "    <tr>\n",
              "      <th>2</th>\n",
              "      <td>141.891296</td>\n",
              "      <td>28.615349</td>\n",
              "      <td>54.489470</td>\n",
              "      <td>-178.385441</td>\n",
              "      <td>47.452724</td>\n",
              "      <td>69.867222</td>\n",
              "      <td>-175.951196</td>\n",
              "      <td>39.809274</td>\n",
              "      <td>87.187351</td>\n",
              "      <td>-148.173224</td>\n",
              "      <td>...</td>\n",
              "      <td>-109.162265</td>\n",
              "      <td>82.213256</td>\n",
              "      <td>36.904574</td>\n",
              "      <td>89.425871</td>\n",
              "      <td>76.610167</td>\n",
              "      <td>22.542002</td>\n",
              "      <td>89.209393</td>\n",
              "      <td>73.080910</td>\n",
              "      <td>-3.183434</td>\n",
              "      <td>110.232384</td>\n",
              "    </tr>\n",
              "    <tr>\n",
              "      <th>3</th>\n",
              "      <td>141.153613</td>\n",
              "      <td>28.042486</td>\n",
              "      <td>53.670653</td>\n",
              "      <td>-179.465062</td>\n",
              "      <td>47.739280</td>\n",
              "      <td>68.566937</td>\n",
              "      <td>-177.858053</td>\n",
              "      <td>40.358214</td>\n",
              "      <td>84.582835</td>\n",
              "      <td>-146.893964</td>\n",
              "      <td>...</td>\n",
              "      <td>-105.087837</td>\n",
              "      <td>83.791429</td>\n",
              "      <td>7.936759</td>\n",
              "      <td>89.145902</td>\n",
              "      <td>79.618323</td>\n",
              "      <td>-2.325866</td>\n",
              "      <td>93.411176</td>\n",
              "      <td>73.203217</td>\n",
              "      <td>-12.320351</td>\n",
              "      <td>108.900585</td>\n",
              "    </tr>\n",
              "    <tr>\n",
              "      <th>4</th>\n",
              "      <td>123.134389</td>\n",
              "      <td>5.315064</td>\n",
              "      <td>32.581669</td>\n",
              "      <td>155.111402</td>\n",
              "      <td>2.412084</td>\n",
              "      <td>48.602000</td>\n",
              "      <td>145.787989</td>\n",
              "      <td>-9.715883</td>\n",
              "      <td>45.043492</td>\n",
              "      <td>160.383255</td>\n",
              "      <td>...</td>\n",
              "      <td>-66.555146</td>\n",
              "      <td>-124.152353</td>\n",
              "      <td>-72.004125</td>\n",
              "      <td>-51.785051</td>\n",
              "      <td>-94.026793</td>\n",
              "      <td>-73.783497</td>\n",
              "      <td>-70.421552</td>\n",
              "      <td>-73.377815</td>\n",
              "      <td>-68.075547</td>\n",
              "      <td>-86.260239</td>\n",
              "    </tr>\n",
              "    <tr>\n",
              "      <th>...</th>\n",
              "      <td>...</td>\n",
              "      <td>...</td>\n",
              "      <td>...</td>\n",
              "      <td>...</td>\n",
              "      <td>...</td>\n",
              "      <td>...</td>\n",
              "      <td>...</td>\n",
              "      <td>...</td>\n",
              "      <td>...</td>\n",
              "      <td>...</td>\n",
              "      <td>...</td>\n",
              "      <td>...</td>\n",
              "      <td>...</td>\n",
              "      <td>...</td>\n",
              "      <td>...</td>\n",
              "      <td>...</td>\n",
              "      <td>...</td>\n",
              "      <td>...</td>\n",
              "      <td>...</td>\n",
              "      <td>...</td>\n",
              "      <td>...</td>\n",
              "    </tr>\n",
              "    <tr>\n",
              "      <th>539</th>\n",
              "      <td>135.454020</td>\n",
              "      <td>22.724844</td>\n",
              "      <td>48.227294</td>\n",
              "      <td>173.072365</td>\n",
              "      <td>43.683977</td>\n",
              "      <td>59.130088</td>\n",
              "      <td>-177.914089</td>\n",
              "      <td>39.844308</td>\n",
              "      <td>87.294136</td>\n",
              "      <td>-140.145342</td>\n",
              "      <td>...</td>\n",
              "      <td>-97.616769</td>\n",
              "      <td>83.652982</td>\n",
              "      <td>8.787120</td>\n",
              "      <td>90.732179</td>\n",
              "      <td>80.799352</td>\n",
              "      <td>-7.743501</td>\n",
              "      <td>96.029729</td>\n",
              "      <td>73.137004</td>\n",
              "      <td>-20.728024</td>\n",
              "      <td>115.463379</td>\n",
              "    </tr>\n",
              "    <tr>\n",
              "      <th>540</th>\n",
              "      <td>128.744389</td>\n",
              "      <td>13.280623</td>\n",
              "      <td>38.620488</td>\n",
              "      <td>161.572014</td>\n",
              "      <td>23.452552</td>\n",
              "      <td>50.269780</td>\n",
              "      <td>149.927449</td>\n",
              "      <td>8.234009</td>\n",
              "      <td>40.497087</td>\n",
              "      <td>156.417911</td>\n",
              "      <td>...</td>\n",
              "      <td>-84.608984</td>\n",
              "      <td>-105.300880</td>\n",
              "      <td>-47.951138</td>\n",
              "      <td>-70.866664</td>\n",
              "      <td>-90.733528</td>\n",
              "      <td>-52.498563</td>\n",
              "      <td>-71.883054</td>\n",
              "      <td>-78.529902</td>\n",
              "      <td>-47.744039</td>\n",
              "      <td>-73.490989</td>\n",
              "    </tr>\n",
              "    <tr>\n",
              "      <th>541</th>\n",
              "      <td>129.556251</td>\n",
              "      <td>13.566203</td>\n",
              "      <td>39.002209</td>\n",
              "      <td>163.296265</td>\n",
              "      <td>22.926417</td>\n",
              "      <td>51.156175</td>\n",
              "      <td>151.264441</td>\n",
              "      <td>9.823781</td>\n",
              "      <td>42.236421</td>\n",
              "      <td>157.657124</td>\n",
              "      <td>...</td>\n",
              "      <td>-86.134485</td>\n",
              "      <td>-103.704602</td>\n",
              "      <td>-44.729208</td>\n",
              "      <td>-72.633578</td>\n",
              "      <td>-89.587916</td>\n",
              "      <td>-49.534106</td>\n",
              "      <td>-72.849296</td>\n",
              "      <td>-77.996909</td>\n",
              "      <td>-45.906435</td>\n",
              "      <td>-73.415761</td>\n",
              "    </tr>\n",
              "    <tr>\n",
              "      <th>542</th>\n",
              "      <td>135.985014</td>\n",
              "      <td>23.082250</td>\n",
              "      <td>49.250932</td>\n",
              "      <td>173.786761</td>\n",
              "      <td>43.665487</td>\n",
              "      <td>60.507197</td>\n",
              "      <td>-178.480080</td>\n",
              "      <td>38.238615</td>\n",
              "      <td>86.171565</td>\n",
              "      <td>-145.289700</td>\n",
              "      <td>...</td>\n",
              "      <td>-97.596604</td>\n",
              "      <td>83.457099</td>\n",
              "      <td>10.082675</td>\n",
              "      <td>89.155861</td>\n",
              "      <td>79.072157</td>\n",
              "      <td>-4.122101</td>\n",
              "      <td>90.756426</td>\n",
              "      <td>73.924881</td>\n",
              "      <td>-14.307162</td>\n",
              "      <td>108.203424</td>\n",
              "    </tr>\n",
              "    <tr>\n",
              "      <th>543</th>\n",
              "      <td>138.217046</td>\n",
              "      <td>24.023351</td>\n",
              "      <td>49.687021</td>\n",
              "      <td>175.239532</td>\n",
              "      <td>46.991917</td>\n",
              "      <td>62.089752</td>\n",
              "      <td>-178.415092</td>\n",
              "      <td>40.548276</td>\n",
              "      <td>86.585373</td>\n",
              "      <td>-142.060330</td>\n",
              "      <td>...</td>\n",
              "      <td>-97.578955</td>\n",
              "      <td>83.573878</td>\n",
              "      <td>15.364899</td>\n",
              "      <td>89.462388</td>\n",
              "      <td>78.995089</td>\n",
              "      <td>2.901618</td>\n",
              "      <td>93.750769</td>\n",
              "      <td>72.354612</td>\n",
              "      <td>-6.718046</td>\n",
              "      <td>107.772365</td>\n",
              "    </tr>\n",
              "  </tbody>\n",
              "</table>\n",
              "<p>544 rows × 66 columns</p>\n",
              "</div>"
            ],
            "text/plain": [
              "             0          1          2           3          4          5   \\\n",
              "0    122.989521   5.031775  32.396511  154.947733   2.893299  48.086895   \n",
              "1    135.335277  22.762292  47.132208  171.382518  45.664967  57.643169   \n",
              "2    141.891296  28.615349  54.489470 -178.385441  47.452724  69.867222   \n",
              "3    141.153613  28.042486  53.670653 -179.465062  47.739280  68.566937   \n",
              "4    123.134389   5.315064  32.581669  155.111402   2.412084  48.602000   \n",
              "..          ...        ...        ...         ...        ...        ...   \n",
              "539  135.454020  22.724844  48.227294  173.072365  43.683977  59.130088   \n",
              "540  128.744389  13.280623  38.620488  161.572014  23.452552  50.269780   \n",
              "541  129.556251  13.566203  39.002209  163.296265  22.926417  51.156175   \n",
              "542  135.985014  23.082250  49.250932  173.786761  43.665487  60.507197   \n",
              "543  138.217046  24.023351  49.687021  175.239532  46.991917  62.089752   \n",
              "\n",
              "             6          7          8           9   ...          56  \\\n",
              "0    145.477856  -8.119449  46.227878  159.286507  ...  -67.582787   \n",
              "1   -179.805451  40.565404  84.301659 -141.818159  ... -102.868148   \n",
              "2   -175.951196  39.809274  87.187351 -148.173224  ... -109.162265   \n",
              "3   -177.858053  40.358214  84.582835 -146.893964  ... -105.087837   \n",
              "4    145.787989  -9.715883  45.043492  160.383255  ...  -66.555146   \n",
              "..          ...        ...        ...         ...  ...         ...   \n",
              "539 -177.914089  39.844308  87.294136 -140.145342  ...  -97.616769   \n",
              "540  149.927449   8.234009  40.497087  156.417911  ...  -84.608984   \n",
              "541  151.264441   9.823781  42.236421  157.657124  ...  -86.134485   \n",
              "542 -178.480080  38.238615  86.171565 -145.289700  ...  -97.596604   \n",
              "543 -178.415092  40.548276  86.585373 -142.060330  ...  -97.578955   \n",
              "\n",
              "             57         58         59         60         61         62  \\\n",
              "0   -125.367848 -72.437172 -50.852973 -96.587422 -79.767570 -67.930081   \n",
              "1     83.136421  15.529929  90.343455  78.789987   5.173831  90.525847   \n",
              "2     82.213256  36.904574  89.425871  76.610167  22.542002  89.209393   \n",
              "3     83.791429   7.936759  89.145902  79.618323  -2.325866  93.411176   \n",
              "4   -124.152353 -72.004125 -51.785051 -94.026793 -73.783497 -70.421552   \n",
              "..          ...        ...        ...        ...        ...        ...   \n",
              "539   83.652982   8.787120  90.732179  80.799352  -7.743501  96.029729   \n",
              "540 -105.300880 -47.951138 -70.866664 -90.733528 -52.498563 -71.883054   \n",
              "541 -103.704602 -44.729208 -72.633578 -89.587916 -49.534106 -72.849296   \n",
              "542   83.457099  10.082675  89.155861  79.072157  -4.122101  90.756426   \n",
              "543   83.573878  15.364899  89.462388  78.995089   2.901618  93.750769   \n",
              "\n",
              "            63         64          65  \n",
              "0   -70.781021 -70.997175  -87.361629  \n",
              "1    72.386893  -4.364089  104.625646  \n",
              "2    73.080910  -3.183434  110.232384  \n",
              "3    73.203217 -12.320351  108.900585  \n",
              "4   -73.377815 -68.075547  -86.260239  \n",
              "..         ...        ...         ...  \n",
              "539  73.137004 -20.728024  115.463379  \n",
              "540 -78.529902 -47.744039  -73.490989  \n",
              "541 -77.996909 -45.906435  -73.415761  \n",
              "542  73.924881 -14.307162  108.203424  \n",
              "543  72.354612  -6.718046  107.772365  \n",
              "\n",
              "[544 rows x 66 columns]"
            ]
          },
          "execution_count": 55,
          "metadata": {},
          "output_type": "execute_result"
        }
      ],
      "source": [
        "path = \"./data/\"\n",
        "labels, data = GetData(path=path, augment=False)\n",
        "\n",
        "df = pd.DataFrame(data) # for visualising\n",
        "df"
      ]
    },
    {
      "cell_type": "code",
      "execution_count": 56,
      "metadata": {
        "id": "KAPMKNRsYO77"
      },
      "outputs": [],
      "source": [
        "from sklearn.model_selection import train_test_split\n",
        "X_train, X_test, y_train, y_test = train_test_split(data, labels, test_size=0.2, random_state= 2, stratify=labels)"
      ]
    },
    {
      "cell_type": "code",
      "execution_count": 57,
      "metadata": {
        "colab": {
          "base_uri": "https://localhost:8080/",
          "height": 701
        },
        "id": "W6LNY3Rb3adE",
        "outputId": "45a4d9de-331f-4878-dd93-fa8bb8378cbe"
      },
      "outputs": [
        {
          "data": {
            "image/png": "[encoded data removed]",
            "text/plain": [
              "<Figure size 2000x827 with 1 Axes>"
            ]
          },
          "metadata": {},
          "output_type": "display_data"
        }
      ],
      "source": [
        "sns.set(rc={'figure.figsize':(20,8.27)})\n",
        "sns.set_style(\"ticks\")\n",
        "_ = sns.countplot(x=y_train.reshape(-1))"
      ]
    },
    {
      "cell_type": "code",
      "execution_count": 58,
      "metadata": {
        "colab": {
          "base_uri": "https://localhost:8080/"
        },
        "id": "lBUN-OaGcCrK",
        "outputId": "af9b0390-e77c-4788-9df2-0e7192acad5c"
      },
      "outputs": [
        {
          "name": "stdout",
          "output_type": "stream",
          "text": [
            "X_train shape: (435, 66)\n",
            "y_train shape: (435, 1)\n",
            "\n",
            "X_test shape: (109, 66)\n",
            "y_test shape: (109, 1)\n"
          ]
        }
      ],
      "source": [
        "print(\"X_train shape: {}\".format(X_train.shape))\n",
        "print(\"y_train shape: {}\".format(y_train.shape))\n",
        "print(\"\")\n",
        "print(\"X_test shape: {}\".format(X_test.shape))\n",
        "print(\"y_test shape: {}\".format(y_test.shape))"
      ]
    },
    {
      "attachments": {},
      "cell_type": "markdown",
      "metadata": {
        "id": "qtvRGoAqq-45"
      },
      "source": [
        "Changing labels shape to categorical: "
      ]
    },
    {
      "cell_type": "code",
      "execution_count": 59,
      "metadata": {
        "colab": {
          "base_uri": "https://localhost:8080/"
        },
        "id": "mjHK2Ye-Lv6w",
        "outputId": "7c68aac4-8468-4e50-e1ac-2ed2abfcf5ab"
      },
      "outputs": [
        {
          "data": {
            "text/plain": [
              "array([0.])"
            ]
          },
          "execution_count": 59,
          "metadata": {},
          "output_type": "execute_result"
        }
      ],
      "source": [
        "y_train[0]"
      ]
    },
    {
      "cell_type": "code",
      "execution_count": 60,
      "metadata": {
        "id": "sBdIbjiHLlIl"
      },
      "outputs": [],
      "source": [
        "y_train = to_categorical(y_train)\n",
        "y_test = to_categorical(y_test)"
      ]
    },
    {
      "cell_type": "code",
      "execution_count": 61,
      "metadata": {
        "colab": {
          "base_uri": "https://localhost:8080/"
        },
        "id": "l08iFFEaMVFc",
        "outputId": "4966db94-f6e9-4d06-8b3d-d59887c0c5f4"
      },
      "outputs": [
        {
          "data": {
            "text/plain": [
              "array([1., 0., 0., 0.], dtype=float32)"
            ]
          },
          "execution_count": 61,
          "metadata": {},
          "output_type": "execute_result"
        }
      ],
      "source": [
        "y_train[0]"
      ]
    },
    {
      "cell_type": "code",
      "execution_count": 62,
      "metadata": {
        "colab": {
          "base_uri": "https://localhost:8080/"
        },
        "id": "kNdMwcxOcF75",
        "outputId": "7df00c38-1cb8-48ea-e6b2-a23680b2feb1"
      },
      "outputs": [
        {
          "name": "stdout",
          "output_type": "stream",
          "text": [
            "y_train shape: (435, 4)\n",
            "y_test shape: (109, 4)\n"
          ]
        }
      ],
      "source": [
        "print(\"y_train shape: {}\".format(y_train.shape))\n",
        "print(\"y_test shape: {}\".format(y_test.shape))"
      ]
    },
    {
      "cell_type": "code",
      "execution_count": 63,
      "metadata": {
        "id": "4-NqVgArxZpV"
      },
      "outputs": [],
      "source": [
        "X_train = np.expand_dims(X_train, -1)\n",
        "X_test = np.expand_dims(X_test, -1)"
      ]
    },
    {
      "cell_type": "code",
      "execution_count": 64,
      "metadata": {
        "colab": {
          "base_uri": "https://localhost:8080/"
        },
        "id": "qrDuwyqcxjcN",
        "outputId": "84ad19a3-772c-4944-d561-2920d6076ba7"
      },
      "outputs": [
        {
          "name": "stdout",
          "output_type": "stream",
          "text": [
            "X_train shape: (435, 66, 1)\n",
            "X_test shape: (109, 66, 1)\n"
          ]
        }
      ],
      "source": [
        "print(\"X_train shape: {}\".format(X_train.shape))\n",
        "print(\"X_test shape: {}\".format(X_test.shape))"
      ]
    },
    {
      "cell_type": "code",
      "execution_count": 65,
      "metadata": {
        "id": "DrdJlXc_6vYp"
      },
      "outputs": [],
      "source": [
        "class_mapping = ['thumbs_up','thumbs_down','ok','victory']\n",
        "num_classes = 4"
      ]
    },
    {
      "attachments": {},
      "cell_type": "markdown",
      "metadata": {
        "id": "pPltiJu5uwk5"
      },
      "source": [
        "#2. Creating and training CNN"
      ]
    },
    {
      "cell_type": "code",
      "execution_count": 66,
      "metadata": {
        "id": "kQQ_E9BDu22d"
      },
      "outputs": [],
      "source": [
        "import keras\n",
        "from keras import layers  \n",
        "from keras import models\n",
        "from keras import callbacks\n",
        "from sklearn.metrics import confusion_matrix\n",
        "from sklearn.metrics import classification_report"
      ]
    },
    {
      "cell_type": "code",
      "execution_count": 67,
      "metadata": {
        "id": "XB26lE4Cs2J6"
      },
      "outputs": [],
      "source": [
        "def create_1D_model():\n",
        "  model = models.Sequential()\n",
        "\n",
        "  model.add(layers.Conv1D(32, 3, input_shape=X_train.shape[1:3], activation='relu', ))\n",
        "  model.add(layers.Conv1D(16, 1, activation='relu', ))\n",
        "  model.add(layers.Dropout(0.2))\n",
        "  model.add(layers.MaxPooling1D(pool_size=2))\n",
        "\n",
        "  model.add(layers.Flatten())\n",
        "\n",
        "  model.add(layers.Dense(64, activation='relu'))\n",
        "  model.add(layers.Dense(num_classes, activation='softmax'))\n",
        "\n",
        "  return model"
      ]
    },
    {
      "cell_type": "code",
      "execution_count": 68,
      "metadata": {
        "id": "Z3we38y4uVO2"
      },
      "outputs": [],
      "source": [
        "model = create_1D_model()\n",
        "model.compile(optimizer=keras.optimizers.SGD(),loss='categorical_crossentropy',metrics=['accuracy', 'Precision', 'Recall'])"
      ]
    },
    {
      "cell_type": "code",
      "execution_count": 69,
      "metadata": {
        "id": "-RqVuh2jxv6h"
      },
      "outputs": [],
      "source": [
        "MCP = keras.callbacks.ModelCheckpoint('./results/' + 'model_rot.h5',verbose=1,save_best_only=True,monitor='val_accuracy',mode='max')\n",
        "ES = keras.callbacks.EarlyStopping(monitor='val_accuracy',min_delta=0,verbose=0,restore_best_weights = True,patience=3,mode='max')\n",
        "RLP = keras.callbacks.ReduceLROnPlateau(monitor='val_loss',patience=3,factor=0.2,min_lr=0.0001)"
      ]
    },
    {
      "cell_type": "code",
      "execution_count": 70,
      "metadata": {
        "colab": {
          "base_uri": "https://localhost:8080/"
        },
        "id": "QFM4H7pfyDnq",
        "outputId": "b0bfb17a-ed85-43eb-d6bc-1deef3b0ceda"
      },
      "outputs": [
        {
          "name": "stdout",
          "output_type": "stream",
          "text": [
            "Epoch 1/100\n",
            "14/14 [==============================] - ETA: 0s - loss: 22.7319 - accuracy: 0.5264 - precision: 0.5258 - recall: 0.5149\n",
            "Epoch 1: val_accuracy improved from -inf to 0.95413, saving model to ./results\\model_rot.h5\n",
            "14/14 [==============================] - 1s 26ms/step - loss: 22.7319 - accuracy: 0.5264 - precision: 0.5258 - recall: 0.5149 - val_loss: 0.2676 - val_accuracy: 0.9541 - val_precision: 0.9541 - val_recall: 0.9541 - lr: 0.0100\n",
            "Epoch 2/100\n",
            " 1/14 [=>............................] - ETA: 0s - loss: 0.4666 - accuracy: 0.7500 - precision: 0.8000 - recall: 0.7500\n",
            "Epoch 2: val_accuracy improved from 0.95413 to 0.96330, saving model to ./results\\model_rot.h5\n",
            "14/14 [==============================] - 0s 10ms/step - loss: 0.2567 - accuracy: 0.8828 - precision: 0.8949 - recall: 0.8805 - val_loss: 0.1670 - val_accuracy: 0.9633 - val_precision: 0.9633 - val_recall: 0.9633 - lr: 0.0100\n",
            "Epoch 3/100\n",
            " 1/14 [=>............................] - ETA: 0s - loss: 0.1587 - accuracy: 0.9375 - precision: 0.9375 - recall: 0.9375\n",
            "Epoch 3: val_accuracy did not improve from 0.96330\n",
            "14/14 [==============================] - 0s 5ms/step - loss: 0.1652 - accuracy: 0.9310 - precision: 0.9310 - recall: 0.9310 - val_loss: 0.1352 - val_accuracy: 0.9633 - val_precision: 0.9633 - val_recall: 0.9633 - lr: 0.0100\n",
            "Epoch 4/100\n",
            " 1/14 [=>............................] - ETA: 0s - loss: 0.1821 - accuracy: 0.9375 - precision: 0.9375 - recall: 0.9375\n",
            "Epoch 4: val_accuracy did not improve from 0.96330\n",
            "14/14 [==============================] - 0s 5ms/step - loss: 0.1410 - accuracy: 0.9448 - precision: 0.9448 - recall: 0.9448 - val_loss: 0.1370 - val_accuracy: 0.9450 - val_precision: 0.9450 - val_recall: 0.9450 - lr: 0.0100\n",
            "Epoch 5/100\n",
            " 1/14 [=>............................] - ETA: 0s - loss: 0.0437 - accuracy: 1.0000 - precision: 1.0000 - recall: 1.0000\n",
            "Epoch 5: val_accuracy did not improve from 0.96330\n",
            "14/14 [==============================] - 0s 6ms/step - loss: 0.1428 - accuracy: 0.9425 - precision: 0.9425 - recall: 0.9425 - val_loss: 0.1306 - val_accuracy: 0.9541 - val_precision: 0.9541 - val_recall: 0.9541 - lr: 0.0100\n"
          ]
        }
      ],
      "source": [
        "history = model.fit(X_train, y_train, batch_size=32,epochs=100, validation_data=(X_test, y_test),callbacks=[MCP,ES,RLP],verbose=1)"
      ]
    },
    {
      "attachments": {},
      "cell_type": "markdown",
      "metadata": {
        "id": "-Dw9vP9R0rBC"
      },
      "source": [
        "#3. CNN evaluation"
      ]
    },
    {
      "cell_type": "code",
      "execution_count": 71,
      "metadata": {
        "colab": {
          "base_uri": "https://localhost:8080/"
        },
        "id": "MOBo5Kk8yt2S",
        "outputId": "98671496-5e1c-4f1b-84bb-2006251d8f1a"
      },
      "outputs": [
        {
          "name": "stdout",
          "output_type": "stream",
          "text": [
            "4/4 - 0s - loss: 0.1670 - accuracy: 0.9633 - precision: 0.9633 - recall: 0.9633 - 23ms/epoch - 6ms/step\n"
          ]
        },
        {
          "data": {
            "text/plain": [
              "[0.16696608066558838, 0.963302731513977, 0.963302731513977, 0.963302731513977]"
            ]
          },
          "execution_count": 71,
          "metadata": {},
          "output_type": "execute_result"
        }
      ],
      "source": [
        "model.evaluate(X_test, y_test, verbose=2)"
      ]
    },
    {
      "cell_type": "code",
      "execution_count": 72,
      "metadata": {
        "colab": {
          "base_uri": "https://localhost:8080/",
          "height": 790
        },
        "id": "ruqORYd_zRVD",
        "outputId": "f05c927e-6b9e-4591-eedd-f6741810cb0d"
      },
      "outputs": [
        {
          "data": {
            "image/png": "[encoded data removed]",
            "text/plain": [
              "<Figure size 1000x400 with 1 Axes>"
            ]
          },
          "metadata": {},
          "output_type": "display_data"
        },
        {
          "data": {
            "text/plain": [
              "<Figure size 2000x827 with 0 Axes>"
            ]
          },
          "metadata": {},
          "output_type": "display_data"
        },
        {
          "data": {
            "image/png": "[encoded data removed]",
            "text/plain": [
              "<Figure size 1000x400 with 1 Axes>"
            ]
          },
          "metadata": {},
          "output_type": "display_data"
        }
      ],
      "source": [
        "acc = history.history['accuracy']\n",
        "val_acc = history.history['val_accuracy']\n",
        "loss = history.history['loss']\n",
        "val_loss = history.history['val_loss']\n",
        "epochs = range(1, len(acc) + 1)\n",
        "\n",
        "plt.figure(figsize=(10, 4))\n",
        "plt.plot(epochs, acc, 'b', label='Training accuracy')\n",
        "plt.plot(epochs, val_acc, 'r', label='Validation accuracy')\n",
        "plt.title('Training and validation accuracy')\n",
        "plt.legend() \n",
        "plt.savefig('Training and validation accuracy partial rot.png',dpi=200)\n",
        "plt.figure()\n",
        "\n",
        "plt.figure(figsize=(10, 4))\n",
        "plt.plot(epochs, loss, 'b', label='Training loss')\n",
        "plt.plot(epochs, val_loss, 'r', label='Validation loss')\n",
        "plt.title('Training and validation loss')\n",
        "plt.legend()\n",
        "plt.show()"
      ]
    },
    {
      "cell_type": "code",
      "execution_count": 73,
      "metadata": {
        "colab": {
          "base_uri": "https://localhost:8080/"
        },
        "id": "EItlVQkF0RhD",
        "outputId": "dbac0ee1-f107-4894-b170-3da40e99a363"
      },
      "outputs": [
        {
          "name": "stdout",
          "output_type": "stream",
          "text": [
            "4/4 [==============================] - 0s 1ms/step\n"
          ]
        }
      ],
      "source": [
        "predictions = np.argmax(model.predict(X_test), axis=1)\n",
        "actual = np.argmax(y_test, axis=1)"
      ]
    },
    {
      "cell_type": "code",
      "execution_count": 74,
      "metadata": {
        "colab": {
          "base_uri": "https://localhost:8080/",
          "height": 688
        },
        "id": "4zGv7Y__z6ha",
        "outputId": "982279ea-2384-4c0e-ead8-dbba1469ec49"
      },
      "outputs": [
        {
          "data": {
            "image/png": "[encoded data removed]",
            "text/plain": [
              "<Figure size 800x800 with 2 Axes>"
            ]
          },
          "metadata": {},
          "output_type": "display_data"
        }
      ],
      "source": [
        "plt.figure(figsize=(8, 8))\n",
        "cm = confusion_matrix(actual, predictions)\n",
        "g = sns.heatmap(cm, annot=True, fmt='.0f')\n",
        "g.set_xticklabels(class_mapping)\n",
        "g.set_yticklabels(class_mapping)\n",
        "plt.show()"
      ]
    },
    {
      "cell_type": "code",
      "execution_count": 75,
      "metadata": {
        "colab": {
          "base_uri": "https://localhost:8080/"
        },
        "id": "v8KlCwfc0RNT",
        "outputId": "bf2af898-550b-4ba2-b3d0-614ec0e2c8b7"
      },
      "outputs": [
        {
          "name": "stdout",
          "output_type": "stream",
          "text": [
            "              precision    recall  f1-score   support\n",
            "\n",
            "           0       1.00      0.84      0.91        25\n",
            "           1       0.85      1.00      0.92        22\n",
            "           2       1.00      1.00      1.00        33\n",
            "           3       1.00      1.00      1.00        29\n",
            "\n",
            "    accuracy                           0.96       109\n",
            "   macro avg       0.96      0.96      0.96       109\n",
            "weighted avg       0.97      0.96      0.96       109\n",
            "\n"
          ]
        }
      ],
      "source": [
        "y_test_temp = np.argmax(y_test, axis=1)\n",
        "print(classification_report(y_test_temp, predictions))"
      ]
    }
  ],
  "metadata": {
    "accelerator": "GPU",
    "colab": {
      "collapsed_sections": [
        "Di3bXlrt_2D7",
        "WLGuNvTetTsb",
        "3M6Y1qJxwevi",
        "5ZkFPdpzvufG",
        "RhPMGvdqL-66",
        "tamGRqsuV__t",
        "w1u2BW-8X__U",
        "IybSGAD-2iUh",
        "bh_mMRWype95"
      ],
      "gpuClass": "premium",
      "machine_shape": "hm",
      "provenance": []
    },
    "gpuClass": "premium",
    "kernelspec": {
      "display_name": "Python 3",
      "name": "python3"
    },
    "language_info": {
      "codemirror_mode": {
        "name": "ipython",
        "version": 3
      },
      "file_extension": ".py",
      "mimetype": "text/x-python",
      "name": "python",
      "nbconvert_exporter": "python",
      "pygments_lexer": "ipython3",
      "version": "3.10.11"
    }
  },
  "nbformat": 4,
  "nbformat_minor": 0
}
