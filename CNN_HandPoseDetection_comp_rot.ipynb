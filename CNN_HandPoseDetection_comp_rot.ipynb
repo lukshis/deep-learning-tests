{
  "cells": [
    {
      "attachments": {},
      "cell_type": "markdown",
      "metadata": {
        "id": "x40eFfHeGdJO"
      },
      "source": [
        "CNN using finger component rotations"
      ]
    },
    {
      "cell_type": "code",
      "execution_count": 1,
      "metadata": {
        "id": "20xJTw8d0EJB"
      },
      "outputs": [],
      "source": [
        "# Seed value\n",
        "seed_value = 1\n",
        "\n",
        "# 1. Set `PYTHONHASHSEED` environment variable at a fixed value\n",
        "import os\n",
        "os.environ['PYTHONHASHSEED']=str(seed_value)\n",
        "seed_value += 1\n",
        "\n",
        "# 2. Set `python` built-in pseudo-random generator at a fixed value\n",
        "import random\n",
        "random.seed(seed_value)\n",
        "seed_value += 1\n",
        "\n",
        "# 3. Set `numpy` pseudo-random generator at a fixed value\n",
        "import numpy as np\n",
        "np.random.seed(seed_value)\n",
        "seed_value += 1\n",
        "\n",
        "# 4. Set `tensorflow` pseudo-random generator at a fixed value\n",
        "import tensorflow as tf\n",
        "tf.random.set_seed(seed_value)"
      ]
    },
    {
      "cell_type": "code",
      "execution_count": 2,
      "metadata": {
        "id": "uPuRX3RTMQ3R"
      },
      "outputs": [],
      "source": [
        "import pandas as pd\n",
        "import matplotlib.pyplot as plt\n",
        "import seaborn as sns\n",
        "from keras.utils import to_categorical\n",
        "from utils.parseData import ReadData"
      ]
    },
    {
      "cell_type": "code",
      "execution_count": 3,
      "metadata": {},
      "outputs": [],
      "source": [
        "def GetData(path=\"./data/\", augment=False):\n",
        "    all_data = ReadData(path)\n",
        "    \n",
        "    if augment:\n",
        "        all_data = AugmentData(all_data)\n",
        "    \n",
        "    labels = all_data[:, :1]\n",
        "    data = all_data[:, 8:]\n",
        "    \n",
        "    return labels, data"
      ]
    },
    {
      "cell_type": "code",
      "execution_count": 4,
      "metadata": {},
      "outputs": [],
      "source": [
        "def AugmentData(data):\n",
        "    augmented_data = np.array(data)\n",
        "    for i in range(augmented_data.shape[0]):\n",
        "        for j in range(7, 72):\n",
        "            random.seed(i * j)\n",
        "            random_v = random.random()\n",
        "            augmented_data[i][j] = augmented_data[i][j] + (-1.0 + (random_v * (1.0 + 1.0)))\n",
        "    full_data = np.concatenate((data, augmented_data), axis=0)\n",
        "    return full_data"
      ]
    },
    {
      "cell_type": "code",
      "execution_count": 5,
      "metadata": {},
      "outputs": [
        {
          "data": {
            "text/html": [
              "<div>\n",
              "<style scoped>\n",
              "    .dataframe tbody tr th:only-of-type {\n",
              "        vertical-align: middle;\n",
              "    }\n",
              "\n",
              "    .dataframe tbody tr th {\n",
              "        vertical-align: top;\n",
              "    }\n",
              "\n",
              "    .dataframe thead th {\n",
              "        text-align: right;\n",
              "    }\n",
              "</style>\n",
              "<table border=\"1\" class=\"dataframe\">\n",
              "  <thead>\n",
              "    <tr style=\"text-align: right;\">\n",
              "      <th></th>\n",
              "      <th>0</th>\n",
              "      <th>1</th>\n",
              "      <th>2</th>\n",
              "      <th>3</th>\n",
              "      <th>4</th>\n",
              "      <th>5</th>\n",
              "      <th>6</th>\n",
              "      <th>7</th>\n",
              "      <th>8</th>\n",
              "      <th>9</th>\n",
              "      <th>...</th>\n",
              "      <th>56</th>\n",
              "      <th>57</th>\n",
              "      <th>58</th>\n",
              "      <th>59</th>\n",
              "      <th>60</th>\n",
              "      <th>61</th>\n",
              "      <th>62</th>\n",
              "      <th>63</th>\n",
              "      <th>64</th>\n",
              "      <th>65</th>\n",
              "    </tr>\n",
              "  </thead>\n",
              "  <tbody>\n",
              "    <tr>\n",
              "      <th>0</th>\n",
              "      <td>122.989521</td>\n",
              "      <td>5.031775</td>\n",
              "      <td>32.396511</td>\n",
              "      <td>154.947733</td>\n",
              "      <td>2.893299</td>\n",
              "      <td>48.086895</td>\n",
              "      <td>145.477856</td>\n",
              "      <td>-8.119449</td>\n",
              "      <td>46.227878</td>\n",
              "      <td>159.286507</td>\n",
              "      <td>...</td>\n",
              "      <td>-67.582787</td>\n",
              "      <td>-125.367848</td>\n",
              "      <td>-72.437172</td>\n",
              "      <td>-50.852973</td>\n",
              "      <td>-96.587422</td>\n",
              "      <td>-79.767570</td>\n",
              "      <td>-67.930081</td>\n",
              "      <td>-70.781021</td>\n",
              "      <td>-70.997175</td>\n",
              "      <td>-87.361629</td>\n",
              "    </tr>\n",
              "    <tr>\n",
              "      <th>1</th>\n",
              "      <td>135.335277</td>\n",
              "      <td>22.762292</td>\n",
              "      <td>47.132208</td>\n",
              "      <td>171.382518</td>\n",
              "      <td>45.664967</td>\n",
              "      <td>57.643169</td>\n",
              "      <td>-179.805451</td>\n",
              "      <td>40.565404</td>\n",
              "      <td>84.301659</td>\n",
              "      <td>-141.818159</td>\n",
              "      <td>...</td>\n",
              "      <td>-102.868148</td>\n",
              "      <td>83.136421</td>\n",
              "      <td>15.529929</td>\n",
              "      <td>90.343455</td>\n",
              "      <td>78.789987</td>\n",
              "      <td>5.173831</td>\n",
              "      <td>90.525847</td>\n",
              "      <td>72.386893</td>\n",
              "      <td>-4.364089</td>\n",
              "      <td>104.625646</td>\n",
              "    </tr>\n",
              "    <tr>\n",
              "      <th>2</th>\n",
              "      <td>141.891296</td>\n",
              "      <td>28.615349</td>\n",
              "      <td>54.489470</td>\n",
              "      <td>-178.385441</td>\n",
              "      <td>47.452724</td>\n",
              "      <td>69.867222</td>\n",
              "      <td>-175.951196</td>\n",
              "      <td>39.809274</td>\n",
              "      <td>87.187351</td>\n",
              "      <td>-148.173224</td>\n",
              "      <td>...</td>\n",
              "      <td>-109.162265</td>\n",
              "      <td>82.213256</td>\n",
              "      <td>36.904574</td>\n",
              "      <td>89.425871</td>\n",
              "      <td>76.610167</td>\n",
              "      <td>22.542002</td>\n",
              "      <td>89.209393</td>\n",
              "      <td>73.080910</td>\n",
              "      <td>-3.183434</td>\n",
              "      <td>110.232384</td>\n",
              "    </tr>\n",
              "    <tr>\n",
              "      <th>3</th>\n",
              "      <td>141.153613</td>\n",
              "      <td>28.042486</td>\n",
              "      <td>53.670653</td>\n",
              "      <td>-179.465062</td>\n",
              "      <td>47.739280</td>\n",
              "      <td>68.566937</td>\n",
              "      <td>-177.858053</td>\n",
              "      <td>40.358214</td>\n",
              "      <td>84.582835</td>\n",
              "      <td>-146.893964</td>\n",
              "      <td>...</td>\n",
              "      <td>-105.087837</td>\n",
              "      <td>83.791429</td>\n",
              "      <td>7.936759</td>\n",
              "      <td>89.145902</td>\n",
              "      <td>79.618323</td>\n",
              "      <td>-2.325866</td>\n",
              "      <td>93.411176</td>\n",
              "      <td>73.203217</td>\n",
              "      <td>-12.320351</td>\n",
              "      <td>108.900585</td>\n",
              "    </tr>\n",
              "    <tr>\n",
              "      <th>4</th>\n",
              "      <td>123.134389</td>\n",
              "      <td>5.315064</td>\n",
              "      <td>32.581669</td>\n",
              "      <td>155.111402</td>\n",
              "      <td>2.412084</td>\n",
              "      <td>48.602000</td>\n",
              "      <td>145.787989</td>\n",
              "      <td>-9.715883</td>\n",
              "      <td>45.043492</td>\n",
              "      <td>160.383255</td>\n",
              "      <td>...</td>\n",
              "      <td>-66.555146</td>\n",
              "      <td>-124.152353</td>\n",
              "      <td>-72.004125</td>\n",
              "      <td>-51.785051</td>\n",
              "      <td>-94.026793</td>\n",
              "      <td>-73.783497</td>\n",
              "      <td>-70.421552</td>\n",
              "      <td>-73.377815</td>\n",
              "      <td>-68.075547</td>\n",
              "      <td>-86.260239</td>\n",
              "    </tr>\n",
              "    <tr>\n",
              "      <th>...</th>\n",
              "      <td>...</td>\n",
              "      <td>...</td>\n",
              "      <td>...</td>\n",
              "      <td>...</td>\n",
              "      <td>...</td>\n",
              "      <td>...</td>\n",
              "      <td>...</td>\n",
              "      <td>...</td>\n",
              "      <td>...</td>\n",
              "      <td>...</td>\n",
              "      <td>...</td>\n",
              "      <td>...</td>\n",
              "      <td>...</td>\n",
              "      <td>...</td>\n",
              "      <td>...</td>\n",
              "      <td>...</td>\n",
              "      <td>...</td>\n",
              "      <td>...</td>\n",
              "      <td>...</td>\n",
              "      <td>...</td>\n",
              "      <td>...</td>\n",
              "    </tr>\n",
              "    <tr>\n",
              "      <th>375</th>\n",
              "      <td>126.284136</td>\n",
              "      <td>10.933279</td>\n",
              "      <td>36.509585</td>\n",
              "      <td>159.832867</td>\n",
              "      <td>15.554000</td>\n",
              "      <td>49.226677</td>\n",
              "      <td>149.453368</td>\n",
              "      <td>3.425043</td>\n",
              "      <td>44.228799</td>\n",
              "      <td>158.248934</td>\n",
              "      <td>...</td>\n",
              "      <td>-84.465314</td>\n",
              "      <td>-101.813423</td>\n",
              "      <td>-40.555092</td>\n",
              "      <td>-74.267011</td>\n",
              "      <td>-88.874181</td>\n",
              "      <td>-33.688779</td>\n",
              "      <td>-68.891507</td>\n",
              "      <td>67.960503</td>\n",
              "      <td>37.844303</td>\n",
              "      <td>106.596725</td>\n",
              "    </tr>\n",
              "    <tr>\n",
              "      <th>376</th>\n",
              "      <td>123.119276</td>\n",
              "      <td>5.285622</td>\n",
              "      <td>32.562380</td>\n",
              "      <td>155.374277</td>\n",
              "      <td>7.566617</td>\n",
              "      <td>46.185854</td>\n",
              "      <td>145.732616</td>\n",
              "      <td>-4.128667</td>\n",
              "      <td>43.239427</td>\n",
              "      <td>156.146031</td>\n",
              "      <td>...</td>\n",
              "      <td>-84.698626</td>\n",
              "      <td>-103.643026</td>\n",
              "      <td>-48.000014</td>\n",
              "      <td>-72.690766</td>\n",
              "      <td>-88.437862</td>\n",
              "      <td>-35.001295</td>\n",
              "      <td>-70.236169</td>\n",
              "      <td>68.232502</td>\n",
              "      <td>34.305546</td>\n",
              "      <td>104.609253</td>\n",
              "    </tr>\n",
              "    <tr>\n",
              "      <th>377</th>\n",
              "      <td>148.736027</td>\n",
              "      <td>33.090179</td>\n",
              "      <td>62.008317</td>\n",
              "      <td>-169.602029</td>\n",
              "      <td>44.137764</td>\n",
              "      <td>80.102036</td>\n",
              "      <td>-157.517192</td>\n",
              "      <td>29.838664</td>\n",
              "      <td>115.198894</td>\n",
              "      <td>-136.338486</td>\n",
              "      <td>...</td>\n",
              "      <td>90.628198</td>\n",
              "      <td>-101.577734</td>\n",
              "      <td>-35.492179</td>\n",
              "      <td>-73.633540</td>\n",
              "      <td>-85.879244</td>\n",
              "      <td>-23.011290</td>\n",
              "      <td>-70.413436</td>\n",
              "      <td>73.377557</td>\n",
              "      <td>4.648314</td>\n",
              "      <td>110.603361</td>\n",
              "    </tr>\n",
              "    <tr>\n",
              "      <th>378</th>\n",
              "      <td>149.019953</td>\n",
              "      <td>33.246508</td>\n",
              "      <td>62.317644</td>\n",
              "      <td>-169.710133</td>\n",
              "      <td>42.346807</td>\n",
              "      <td>80.046248</td>\n",
              "      <td>-170.968666</td>\n",
              "      <td>33.361283</td>\n",
              "      <td>93.541873</td>\n",
              "      <td>-152.682945</td>\n",
              "      <td>...</td>\n",
              "      <td>103.415909</td>\n",
              "      <td>-101.373713</td>\n",
              "      <td>-32.576063</td>\n",
              "      <td>-70.264926</td>\n",
              "      <td>-88.666529</td>\n",
              "      <td>-47.489268</td>\n",
              "      <td>-68.730335</td>\n",
              "      <td>-76.476354</td>\n",
              "      <td>-46.016645</td>\n",
              "      <td>-71.185372</td>\n",
              "    </tr>\n",
              "    <tr>\n",
              "      <th>379</th>\n",
              "      <td>148.744883</td>\n",
              "      <td>33.095084</td>\n",
              "      <td>62.017969</td>\n",
              "      <td>-169.416516</td>\n",
              "      <td>44.783382</td>\n",
              "      <td>80.282164</td>\n",
              "      <td>-155.794571</td>\n",
              "      <td>29.503813</td>\n",
              "      <td>117.600784</td>\n",
              "      <td>-135.044729</td>\n",
              "      <td>...</td>\n",
              "      <td>92.840315</td>\n",
              "      <td>-100.849174</td>\n",
              "      <td>-31.706872</td>\n",
              "      <td>-72.201362</td>\n",
              "      <td>-85.934261</td>\n",
              "      <td>-25.655173</td>\n",
              "      <td>-69.621710</td>\n",
              "      <td>72.723398</td>\n",
              "      <td>10.716361</td>\n",
              "      <td>109.544317</td>\n",
              "    </tr>\n",
              "  </tbody>\n",
              "</table>\n",
              "<p>380 rows × 66 columns</p>\n",
              "</div>"
            ],
            "text/plain": [
              "             0          1          2           3          4          5   \\\n",
              "0    122.989521   5.031775  32.396511  154.947733   2.893299  48.086895   \n",
              "1    135.335277  22.762292  47.132208  171.382518  45.664967  57.643169   \n",
              "2    141.891296  28.615349  54.489470 -178.385441  47.452724  69.867222   \n",
              "3    141.153613  28.042486  53.670653 -179.465062  47.739280  68.566937   \n",
              "4    123.134389   5.315064  32.581669  155.111402   2.412084  48.602000   \n",
              "..          ...        ...        ...         ...        ...        ...   \n",
              "375  126.284136  10.933279  36.509585  159.832867  15.554000  49.226677   \n",
              "376  123.119276   5.285622  32.562380  155.374277   7.566617  46.185854   \n",
              "377  148.736027  33.090179  62.008317 -169.602029  44.137764  80.102036   \n",
              "378  149.019953  33.246508  62.317644 -169.710133  42.346807  80.046248   \n",
              "379  148.744883  33.095084  62.017969 -169.416516  44.783382  80.282164   \n",
              "\n",
              "             6          7           8           9   ...          56  \\\n",
              "0    145.477856  -8.119449   46.227878  159.286507  ...  -67.582787   \n",
              "1   -179.805451  40.565404   84.301659 -141.818159  ... -102.868148   \n",
              "2   -175.951196  39.809274   87.187351 -148.173224  ... -109.162265   \n",
              "3   -177.858053  40.358214   84.582835 -146.893964  ... -105.087837   \n",
              "4    145.787989  -9.715883   45.043492  160.383255  ...  -66.555146   \n",
              "..          ...        ...         ...         ...  ...         ...   \n",
              "375  149.453368   3.425043   44.228799  158.248934  ...  -84.465314   \n",
              "376  145.732616  -4.128667   43.239427  156.146031  ...  -84.698626   \n",
              "377 -157.517192  29.838664  115.198894 -136.338486  ...   90.628198   \n",
              "378 -170.968666  33.361283   93.541873 -152.682945  ...  103.415909   \n",
              "379 -155.794571  29.503813  117.600784 -135.044729  ...   92.840315   \n",
              "\n",
              "             57         58         59         60         61         62  \\\n",
              "0   -125.367848 -72.437172 -50.852973 -96.587422 -79.767570 -67.930081   \n",
              "1     83.136421  15.529929  90.343455  78.789987   5.173831  90.525847   \n",
              "2     82.213256  36.904574  89.425871  76.610167  22.542002  89.209393   \n",
              "3     83.791429   7.936759  89.145902  79.618323  -2.325866  93.411176   \n",
              "4   -124.152353 -72.004125 -51.785051 -94.026793 -73.783497 -70.421552   \n",
              "..          ...        ...        ...        ...        ...        ...   \n",
              "375 -101.813423 -40.555092 -74.267011 -88.874181 -33.688779 -68.891507   \n",
              "376 -103.643026 -48.000014 -72.690766 -88.437862 -35.001295 -70.236169   \n",
              "377 -101.577734 -35.492179 -73.633540 -85.879244 -23.011290 -70.413436   \n",
              "378 -101.373713 -32.576063 -70.264926 -88.666529 -47.489268 -68.730335   \n",
              "379 -100.849174 -31.706872 -72.201362 -85.934261 -25.655173 -69.621710   \n",
              "\n",
              "            63         64          65  \n",
              "0   -70.781021 -70.997175  -87.361629  \n",
              "1    72.386893  -4.364089  104.625646  \n",
              "2    73.080910  -3.183434  110.232384  \n",
              "3    73.203217 -12.320351  108.900585  \n",
              "4   -73.377815 -68.075547  -86.260239  \n",
              "..         ...        ...         ...  \n",
              "375  67.960503  37.844303  106.596725  \n",
              "376  68.232502  34.305546  104.609253  \n",
              "377  73.377557   4.648314  110.603361  \n",
              "378 -76.476354 -46.016645  -71.185372  \n",
              "379  72.723398  10.716361  109.544317  \n",
              "\n",
              "[380 rows x 66 columns]"
            ]
          },
          "execution_count": 5,
          "metadata": {},
          "output_type": "execute_result"
        }
      ],
      "source": [
        "path = \"./data/\"\n",
        "labels, data = GetData(path=path, augment=False)\n",
        "\n",
        "df = pd.DataFrame(data) # for visualising\n",
        "df"
      ]
    },
    {
      "cell_type": "code",
      "execution_count": 6,
      "metadata": {
        "id": "KAPMKNRsYO77"
      },
      "outputs": [],
      "source": [
        "from sklearn.model_selection import train_test_split\n",
        "X_train, X_test, y_train, y_test = train_test_split(data, labels, test_size=0.2, random_state=2, stratify=labels)"
      ]
    },
    {
      "cell_type": "code",
      "execution_count": 7,
      "metadata": {
        "colab": {
          "base_uri": "https://localhost:8080/",
          "height": 701
        },
        "id": "W6LNY3Rb3adE",
        "outputId": "45a4d9de-331f-4878-dd93-fa8bb8378cbe"
      },
      "outputs": [
        {
          "data": {
            "image/png": "[encoded data removed]",
            "text/plain": [
              "<Figure size 2000x827 with 1 Axes>"
            ]
          },
          "metadata": {},
          "output_type": "display_data"
        }
      ],
      "source": [
        "sns.set(rc={'figure.figsize':(20,8.27)})\n",
        "sns.set_style(\"ticks\")\n",
        "_ = sns.countplot(x=y_train.reshape(-1))"
      ]
    },
    {
      "cell_type": "code",
      "execution_count": 8,
      "metadata": {
        "colab": {
          "base_uri": "https://localhost:8080/"
        },
        "id": "lBUN-OaGcCrK",
        "outputId": "af9b0390-e77c-4788-9df2-0e7192acad5c"
      },
      "outputs": [
        {
          "name": "stdout",
          "output_type": "stream",
          "text": [
            "X_train shape: (304, 66)\n",
            "y_train shape: (304, 1)\n",
            "\n",
            "X_test shape: (76, 66)\n",
            "y_test shape: (76, 1)\n"
          ]
        }
      ],
      "source": [
        "print(\"X_train shape: {}\".format(X_train.shape))\n",
        "print(\"y_train shape: {}\".format(y_train.shape))\n",
        "print(\"\")\n",
        "print(\"X_test shape: {}\".format(X_test.shape))\n",
        "print(\"y_test shape: {}\".format(y_test.shape))"
      ]
    },
    {
      "attachments": {},
      "cell_type": "markdown",
      "metadata": {
        "id": "qtvRGoAqq-45"
      },
      "source": [
        "Changing labels shape to categorical: "
      ]
    },
    {
      "cell_type": "code",
      "execution_count": 9,
      "metadata": {
        "colab": {
          "base_uri": "https://localhost:8080/"
        },
        "id": "mjHK2Ye-Lv6w",
        "outputId": "7c68aac4-8468-4e50-e1ac-2ed2abfcf5ab"
      },
      "outputs": [
        {
          "data": {
            "text/plain": [
              "array([0.])"
            ]
          },
          "execution_count": 9,
          "metadata": {},
          "output_type": "execute_result"
        }
      ],
      "source": [
        "y_train[0]"
      ]
    },
    {
      "cell_type": "code",
      "execution_count": 10,
      "metadata": {
        "id": "sBdIbjiHLlIl"
      },
      "outputs": [],
      "source": [
        "y_train = to_categorical(y_train)\n",
        "y_test = to_categorical(y_test)"
      ]
    },
    {
      "cell_type": "code",
      "execution_count": 11,
      "metadata": {
        "colab": {
          "base_uri": "https://localhost:8080/"
        },
        "id": "l08iFFEaMVFc",
        "outputId": "4966db94-f6e9-4d06-8b3d-d59887c0c5f4"
      },
      "outputs": [
        {
          "data": {
            "text/plain": [
              "array([1., 0., 0., 0., 0., 0., 0., 0.], dtype=float32)"
            ]
          },
          "execution_count": 11,
          "metadata": {},
          "output_type": "execute_result"
        }
      ],
      "source": [
        "y_train[0]"
      ]
    },
    {
      "cell_type": "code",
      "execution_count": 12,
      "metadata": {
        "colab": {
          "base_uri": "https://localhost:8080/"
        },
        "id": "kNdMwcxOcF75",
        "outputId": "7df00c38-1cb8-48ea-e6b2-a23680b2feb1"
      },
      "outputs": [
        {
          "name": "stdout",
          "output_type": "stream",
          "text": [
            "y_train shape: (304, 8)\n",
            "y_test shape: (76, 8)\n"
          ]
        }
      ],
      "source": [
        "print(\"y_train shape: {}\".format(y_train.shape))\n",
        "print(\"y_test shape: {}\".format(y_test.shape))"
      ]
    },
    {
      "cell_type": "code",
      "execution_count": 13,
      "metadata": {
        "id": "4-NqVgArxZpV"
      },
      "outputs": [],
      "source": [
        "X_train = np.expand_dims(X_train, -1)\n",
        "X_test = np.expand_dims(X_test, -1)"
      ]
    },
    {
      "cell_type": "code",
      "execution_count": 14,
      "metadata": {
        "colab": {
          "base_uri": "https://localhost:8080/"
        },
        "id": "qrDuwyqcxjcN",
        "outputId": "84ad19a3-772c-4944-d561-2920d6076ba7"
      },
      "outputs": [
        {
          "name": "stdout",
          "output_type": "stream",
          "text": [
            "X_train shape: (304, 66, 1)\n",
            "X_test shape: (76, 66, 1)\n"
          ]
        }
      ],
      "source": [
        "print(\"X_train shape: {}\".format(X_train.shape))\n",
        "print(\"X_test shape: {}\".format(X_test.shape))"
      ]
    },
    {
      "cell_type": "code",
      "execution_count": 15,
      "metadata": {
        "id": "DrdJlXc_6vYp"
      },
      "outputs": [],
      "source": [
        "class_mapping = ['thumbs_up','thumbs_down','ok','victory', 'horns', 'phone', 'one', 'point']\n",
        "num_classes = 8"
      ]
    },
    {
      "attachments": {},
      "cell_type": "markdown",
      "metadata": {
        "id": "pPltiJu5uwk5"
      },
      "source": [
        "#2. Creating and training CNN"
      ]
    },
    {
      "cell_type": "code",
      "execution_count": 16,
      "metadata": {
        "id": "kQQ_E9BDu22d"
      },
      "outputs": [],
      "source": [
        "import keras\n",
        "from keras import layers  \n",
        "from keras import models\n",
        "from keras import callbacks\n",
        "from sklearn.metrics import confusion_matrix\n",
        "from sklearn.metrics import classification_report"
      ]
    },
    {
      "cell_type": "code",
      "execution_count": 17,
      "metadata": {
        "id": "XB26lE4Cs2J6"
      },
      "outputs": [],
      "source": [
        "def create_1D_model():\n",
        "  model = models.Sequential()\n",
        "\n",
        "  model.add(layers.Conv1D(32, 3, input_shape=X_train.shape[1:3], activation='relu', ))\n",
        "  model.add(layers.Conv1D(16, 1, activation='relu', ))\n",
        "  model.add(layers.Dropout(0.2))\n",
        "  model.add(layers.MaxPooling1D(pool_size=2))\n",
        "\n",
        "  model.add(layers.Flatten())\n",
        "\n",
        "  model.add(layers.Dense(64, activation='relu'))\n",
        "  model.add(layers.Dense(num_classes, activation='softmax'))\n",
        "\n",
        "  return model"
      ]
    },
    {
      "cell_type": "code",
      "execution_count": 18,
      "metadata": {
        "id": "Z3we38y4uVO2"
      },
      "outputs": [],
      "source": [
        "model = create_1D_model()\n",
        "model.compile(optimizer=keras.optimizers.SGD(),loss='categorical_crossentropy',metrics=['accuracy', 'Precision', 'Recall'])"
      ]
    },
    {
      "cell_type": "code",
      "execution_count": 19,
      "metadata": {
        "id": "-RqVuh2jxv6h"
      },
      "outputs": [],
      "source": [
        "MCP = keras.callbacks.ModelCheckpoint('./results/' + 'model_rot.h5',verbose=1,save_best_only=True,monitor='val_accuracy',mode='max')\n",
        "ES = keras.callbacks.EarlyStopping(monitor='val_accuracy',min_delta=0,verbose=0,restore_best_weights = True,patience=3,mode='max')\n",
        "RLP = keras.callbacks.ReduceLROnPlateau(monitor='val_loss',patience=3,factor=0.2,min_lr=0.0001)"
      ]
    },
    {
      "cell_type": "code",
      "execution_count": 20,
      "metadata": {
        "colab": {
          "base_uri": "https://localhost:8080/"
        },
        "id": "QFM4H7pfyDnq",
        "outputId": "b0bfb17a-ed85-43eb-d6bc-1deef3b0ceda"
      },
      "outputs": [
        {
          "name": "stdout",
          "output_type": "stream",
          "text": [
            "Epoch 1/100\n",
            " 1/10 [==>...........................] - ETA: 13s - loss: 28.1652 - accuracy: 0.0312 - precision: 0.0312 - recall: 0.0312\n",
            "Epoch 1: val_accuracy improved from -inf to 0.52632, saving model to ./results\\model_rot.h5\n",
            "10/10 [==============================] - 2s 50ms/step - loss: 11.8632 - accuracy: 0.2763 - precision: 0.2971 - recall: 0.1711 - val_loss: 1.2087 - val_accuracy: 0.5263 - val_precision: 1.0000 - val_recall: 0.2105 - lr: 0.0100\n",
            "Epoch 2/100\n",
            " 1/10 [==>...........................] - ETA: 0s - loss: 1.6041 - accuracy: 0.3125 - precision: 0.5000 - recall: 0.1562\n",
            "Epoch 2: val_accuracy improved from 0.52632 to 0.78947, saving model to ./results\\model_rot.h5\n",
            "10/10 [==============================] - 0s 15ms/step - loss: 0.9313 - accuracy: 0.6480 - precision: 0.8073 - recall: 0.5099 - val_loss: 0.4031 - val_accuracy: 0.7895 - val_precision: 0.8000 - val_recall: 0.7895 - lr: 0.0100\n",
            "Epoch 3/100\n",
            " 1/10 [==>...........................] - ETA: 0s - loss: 0.5335 - accuracy: 0.7812 - precision: 0.7742 - recall: 0.7500\n",
            "Epoch 3: val_accuracy did not improve from 0.78947\n",
            "10/10 [==============================] - 0s 6ms/step - loss: 0.7578 - accuracy: 0.7204 - precision: 0.7717 - recall: 0.6447 - val_loss: 0.5100 - val_accuracy: 0.7632 - val_precision: 0.8060 - val_recall: 0.7105 - lr: 0.0100\n",
            "Epoch 4/100\n",
            " 1/10 [==>...........................] - ETA: 0s - loss: 0.6795 - accuracy: 0.7188 - precision: 0.7333 - recall: 0.6875\n",
            "Epoch 4: val_accuracy did not improve from 0.78947\n",
            "10/10 [==============================] - 0s 6ms/step - loss: 0.5087 - accuracy: 0.8125 - precision: 0.8489 - recall: 0.7763 - val_loss: 0.6703 - val_accuracy: 0.7895 - val_precision: 0.8219 - val_recall: 0.7895 - lr: 0.0100\n",
            "Epoch 5/100\n",
            " 1/10 [==>...........................] - ETA: 0s - loss: 0.6115 - accuracy: 0.8438 - precision: 0.8438 - recall: 0.8438\n",
            "Epoch 5: val_accuracy improved from 0.78947 to 0.92105, saving model to ./results\\model_rot.h5\n",
            "10/10 [==============================] - 0s 11ms/step - loss: 0.3611 - accuracy: 0.8783 - precision: 0.8908 - recall: 0.8322 - val_loss: 0.2096 - val_accuracy: 0.9211 - val_precision: 0.9211 - val_recall: 0.9211 - lr: 0.0100\n",
            "Epoch 6/100\n",
            " 1/10 [==>...........................] - ETA: 0s - loss: 0.2446 - accuracy: 0.9062 - precision: 0.9062 - recall: 0.9062\n",
            "Epoch 6: val_accuracy improved from 0.92105 to 0.93421, saving model to ./results\\model_rot.h5\n",
            "10/10 [==============================] - 0s 11ms/step - loss: 0.4121 - accuracy: 0.8684 - precision: 0.8754 - recall: 0.8553 - val_loss: 0.1913 - val_accuracy: 0.9342 - val_precision: 0.9459 - val_recall: 0.9211 - lr: 0.0100\n",
            "Epoch 7/100\n",
            " 1/10 [==>...........................] - ETA: 0s - loss: 0.2172 - accuracy: 0.9375 - precision: 0.9677 - recall: 0.9375\n",
            "Epoch 7: val_accuracy did not improve from 0.93421\n",
            "10/10 [==============================] - 0s 6ms/step - loss: 0.2848 - accuracy: 0.8651 - precision: 0.8836 - recall: 0.8487 - val_loss: 0.4881 - val_accuracy: 0.7763 - val_precision: 0.7763 - val_recall: 0.7763 - lr: 0.0100\n",
            "Epoch 8/100\n",
            " 1/10 [==>...........................] - ETA: 0s - loss: 0.4198 - accuracy: 0.8438 - precision: 0.8438 - recall: 0.8438\n",
            "Epoch 8: val_accuracy did not improve from 0.93421\n",
            "10/10 [==============================] - 0s 6ms/step - loss: 0.2958 - accuracy: 0.8816 - precision: 0.8870 - recall: 0.8783 - val_loss: 0.2337 - val_accuracy: 0.8947 - val_precision: 0.9067 - val_recall: 0.8947 - lr: 0.0100\n",
            "Epoch 9/100\n",
            " 1/10 [==>...........................] - ETA: 0s - loss: 0.3910 - accuracy: 0.7812 - precision: 0.8065 - recall: 0.7812\n",
            "Epoch 9: val_accuracy did not improve from 0.93421\n",
            "10/10 [==============================] - 0s 7ms/step - loss: 0.2468 - accuracy: 0.9013 - precision: 0.9100 - recall: 0.8980 - val_loss: 0.2544 - val_accuracy: 0.8947 - val_precision: 0.9286 - val_recall: 0.8553 - lr: 0.0100\n"
          ]
        }
      ],
      "source": [
        "history = model.fit(X_train, y_train, batch_size=32,epochs=100, validation_data=(X_test, y_test),callbacks=[MCP,ES,RLP],verbose=1)"
      ]
    },
    {
      "attachments": {},
      "cell_type": "markdown",
      "metadata": {
        "id": "-Dw9vP9R0rBC"
      },
      "source": [
        "#3. CNN evaluation"
      ]
    },
    {
      "cell_type": "code",
      "execution_count": 21,
      "metadata": {
        "colab": {
          "base_uri": "https://localhost:8080/"
        },
        "id": "MOBo5Kk8yt2S",
        "outputId": "98671496-5e1c-4f1b-84bb-2006251d8f1a"
      },
      "outputs": [
        {
          "name": "stdout",
          "output_type": "stream",
          "text": [
            "3/3 - 0s - loss: 0.1913 - accuracy: 0.9342 - precision: 0.9459 - recall: 0.9211 - 22ms/epoch - 7ms/step\n"
          ]
        },
        {
          "data": {
            "text/plain": [
              "[0.19130350649356842,\n",
              " 0.9342105388641357,\n",
              " 0.9459459185600281,\n",
              " 0.9210526347160339]"
            ]
          },
          "execution_count": 21,
          "metadata": {},
          "output_type": "execute_result"
        }
      ],
      "source": [
        "model.evaluate(X_test, y_test, verbose=2)"
      ]
    },
    {
      "cell_type": "code",
      "execution_count": 22,
      "metadata": {
        "colab": {
          "base_uri": "https://localhost:8080/",
          "height": 790
        },
        "id": "ruqORYd_zRVD",
        "outputId": "f05c927e-6b9e-4591-eedd-f6741810cb0d"
      },
      "outputs": [
        {
          "data": {
            "image/png": "[encoded data removed]",
            "text/plain": [
              "<Figure size 1000x400 with 1 Axes>"
            ]
          },
          "metadata": {},
          "output_type": "display_data"
        },
        {
          "data": {
            "text/plain": [
              "<Figure size 2000x827 with 0 Axes>"
            ]
          },
          "metadata": {},
          "output_type": "display_data"
        },
        {
          "data": {
            "image/png": "[encoded data removed]",
            "text/plain": [
              "<Figure size 1000x400 with 1 Axes>"
            ]
          },
          "metadata": {},
          "output_type": "display_data"
        }
      ],
      "source": [
        "acc = history.history['accuracy']\n",
        "val_acc = history.history['val_accuracy']\n",
        "loss = history.history['loss']\n",
        "val_loss = history.history['val_loss']\n",
        "epochs = range(1, len(acc) + 1)\n",
        "\n",
        "plt.figure(figsize=(10, 4))\n",
        "plt.plot(epochs, acc, 'b', label='Training accuracy')\n",
        "plt.plot(epochs, val_acc, 'r', label='Validation accuracy')\n",
        "plt.title('Training and validation accuracy')\n",
        "plt.legend() \n",
        "plt.savefig('Training and validation accuracy partial rot.png',dpi=200)\n",
        "plt.figure()\n",
        "\n",
        "plt.figure(figsize=(10, 4))\n",
        "plt.plot(epochs, loss, 'b', label='Training loss')\n",
        "plt.plot(epochs, val_loss, 'r', label='Validation loss')\n",
        "plt.title('Training and validation loss')\n",
        "plt.legend()\n",
        "plt.show()"
      ]
    },
    {
      "cell_type": "code",
      "execution_count": 23,
      "metadata": {
        "colab": {
          "base_uri": "https://localhost:8080/"
        },
        "id": "EItlVQkF0RhD",
        "outputId": "dbac0ee1-f107-4894-b170-3da40e99a363"
      },
      "outputs": [
        {
          "name": "stdout",
          "output_type": "stream",
          "text": [
            "3/3 [==============================] - 0s 1ms/step\n"
          ]
        }
      ],
      "source": [
        "predictions = np.argmax(model.predict(X_test), axis=1)\n",
        "actual = np.argmax(y_test, axis=1)"
      ]
    },
    {
      "cell_type": "code",
      "execution_count": 24,
      "metadata": {
        "colab": {
          "base_uri": "https://localhost:8080/",
          "height": 688
        },
        "id": "4zGv7Y__z6ha",
        "outputId": "982279ea-2384-4c0e-ead8-dbba1469ec49"
      },
      "outputs": [
        {
          "data": {
            "image/png": "[encoded data removed]",
            "text/plain": [
              "<Figure size 800x800 with 2 Axes>"
            ]
          },
          "metadata": {},
          "output_type": "display_data"
        }
      ],
      "source": [
        "plt.figure(figsize=(8, 8))\n",
        "cm = confusion_matrix(actual, predictions)\n",
        "g = sns.heatmap(cm, annot=True, fmt='.0f')\n",
        "g.set_xticklabels(class_mapping)\n",
        "g.set_yticklabels(class_mapping)\n",
        "plt.show()"
      ]
    },
    {
      "cell_type": "code",
      "execution_count": 25,
      "metadata": {
        "colab": {
          "base_uri": "https://localhost:8080/"
        },
        "id": "v8KlCwfc0RNT",
        "outputId": "bf2af898-550b-4ba2-b3d0-614ec0e2c8b7"
      },
      "outputs": [
        {
          "name": "stdout",
          "output_type": "stream",
          "text": [
            "              precision    recall  f1-score   support\n",
            "\n",
            "           0       1.00      1.00      1.00        13\n",
            "           1       1.00      1.00      1.00        11\n",
            "           2       1.00      1.00      1.00        16\n",
            "           3       1.00      1.00      1.00        14\n",
            "           4       1.00      1.00      1.00         6\n",
            "           5       1.00      1.00      1.00         6\n",
            "           6       0.00      0.00      0.00         5\n",
            "           7       0.50      1.00      0.67         5\n",
            "\n",
            "    accuracy                           0.93        76\n",
            "   macro avg       0.81      0.88      0.83        76\n",
            "weighted avg       0.90      0.93      0.91        76\n",
            "\n"
          ]
        },
        {
          "name": "stderr",
          "output_type": "stream",
          "text": [
            "d:\\python-workspaces\\deep-learning-tests\\.venv\\lib\\site-packages\\sklearn\\metrics\\_classification.py:1344: UndefinedMetricWarning: Precision and F-score are ill-defined and being set to 0.0 in labels with no predicted samples. Use `zero_division` parameter to control this behavior.\n",
            "  _warn_prf(average, modifier, msg_start, len(result))\n",
            "d:\\python-workspaces\\deep-learning-tests\\.venv\\lib\\site-packages\\sklearn\\metrics\\_classification.py:1344: UndefinedMetricWarning: Precision and F-score are ill-defined and being set to 0.0 in labels with no predicted samples. Use `zero_division` parameter to control this behavior.\n",
            "  _warn_prf(average, modifier, msg_start, len(result))\n",
            "d:\\python-workspaces\\deep-learning-tests\\.venv\\lib\\site-packages\\sklearn\\metrics\\_classification.py:1344: UndefinedMetricWarning: Precision and F-score are ill-defined and being set to 0.0 in labels with no predicted samples. Use `zero_division` parameter to control this behavior.\n",
            "  _warn_prf(average, modifier, msg_start, len(result))\n"
          ]
        }
      ],
      "source": [
        "y_test_temp = np.argmax(y_test, axis=1)\n",
        "print(classification_report(y_test_temp, predictions))"
      ]
    }
  ],
  "metadata": {
    "accelerator": "GPU",
    "colab": {
      "collapsed_sections": [
        "Di3bXlrt_2D7",
        "WLGuNvTetTsb",
        "3M6Y1qJxwevi",
        "5ZkFPdpzvufG",
        "RhPMGvdqL-66",
        "tamGRqsuV__t",
        "w1u2BW-8X__U",
        "IybSGAD-2iUh",
        "bh_mMRWype95"
      ],
      "gpuClass": "premium",
      "machine_shape": "hm",
      "provenance": []
    },
    "gpuClass": "premium",
    "kernelspec": {
      "display_name": "Python 3",
      "name": "python3"
    },
    "language_info": {
      "codemirror_mode": {
        "name": "ipython",
        "version": 3
      },
      "file_extension": ".py",
      "mimetype": "text/x-python",
      "name": "python",
      "nbconvert_exporter": "python",
      "pygments_lexer": "ipython3",
      "version": "3.10.11"
    }
  },
  "nbformat": 4,
  "nbformat_minor": 0
}
