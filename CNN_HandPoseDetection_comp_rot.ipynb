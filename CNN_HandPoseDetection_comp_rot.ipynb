{
  "cells": [
    {
      "attachments": {},
      "cell_type": "markdown",
      "metadata": {
        "id": "x40eFfHeGdJO"
      },
      "source": [
        "CNN using finger component rotations"
      ]
    },
    {
      "cell_type": "code",
      "execution_count": 1,
      "metadata": {
        "id": "20xJTw8d0EJB"
      },
      "outputs": [],
      "source": [
        "# Seed value\n",
        "seed_value = 1\n",
        "\n",
        "# 1. Set `PYTHONHASHSEED` environment variable at a fixed value\n",
        "import os\n",
        "os.environ['PYTHONHASHSEED']=str(seed_value)\n",
        "seed_value += 1\n",
        "\n",
        "# 2. Set `python` built-in pseudo-random generator at a fixed value\n",
        "import random\n",
        "random.seed(seed_value)\n",
        "seed_value += 1\n",
        "\n",
        "# 3. Set `numpy` pseudo-random generator at a fixed value\n",
        "import numpy as np\n",
        "np.random.seed(seed_value)\n",
        "seed_value += 1\n",
        "\n",
        "# 4. Set `tensorflow` pseudo-random generator at a fixed value\n",
        "import tensorflow as tf\n",
        "tf.random.set_seed(seed_value)"
      ]
    },
    {
      "cell_type": "code",
      "execution_count": 2,
      "metadata": {
        "id": "uPuRX3RTMQ3R"
      },
      "outputs": [],
      "source": [
        "import pandas as pd\n",
        "import matplotlib.pyplot as plt\n",
        "import seaborn as sns\n",
        "from keras.utils import to_categorical\n",
        "from utils.parseData import ReadData"
      ]
    },
    {
      "cell_type": "code",
      "execution_count": 3,
      "metadata": {},
      "outputs": [],
      "source": [
        "def GetData(path=\"./data/\", augment=False):\n",
        "    all_data = ReadData(path)\n",
        "    \n",
        "    if augment:\n",
        "        all_data = AugmentData(all_data)\n",
        "    \n",
        "    labels = all_data[:, :1]\n",
        "    data = all_data[:, 8:]\n",
        "    \n",
        "    return labels, data"
      ]
    },
    {
      "cell_type": "code",
      "execution_count": 4,
      "metadata": {},
      "outputs": [],
      "source": [
        "def AugmentData(data):\n",
        "    augmented_data = np.array(data)\n",
        "    for i in range(augmented_data.shape[0]):\n",
        "        for j in range(7, 72):\n",
        "            random.seed(i * j)\n",
        "            random_v = random.random()\n",
        "            augmented_data[i][j] = augmented_data[i][j] + (-1.0 + (random_v * (1.0 + 1.0)))\n",
        "    full_data = np.concatenate((data, augmented_data), axis=0)\n",
        "    return full_data"
      ]
    },
    {
      "cell_type": "code",
      "execution_count": 5,
      "metadata": {},
      "outputs": [
        {
          "data": {
            "text/html": [
              "<div>\n",
              "<style scoped>\n",
              "    .dataframe tbody tr th:only-of-type {\n",
              "        vertical-align: middle;\n",
              "    }\n",
              "\n",
              "    .dataframe tbody tr th {\n",
              "        vertical-align: top;\n",
              "    }\n",
              "\n",
              "    .dataframe thead th {\n",
              "        text-align: right;\n",
              "    }\n",
              "</style>\n",
              "<table border=\"1\" class=\"dataframe\">\n",
              "  <thead>\n",
              "    <tr style=\"text-align: right;\">\n",
              "      <th></th>\n",
              "      <th>0</th>\n",
              "      <th>1</th>\n",
              "      <th>2</th>\n",
              "      <th>3</th>\n",
              "      <th>4</th>\n",
              "      <th>5</th>\n",
              "      <th>6</th>\n",
              "      <th>7</th>\n",
              "      <th>8</th>\n",
              "      <th>9</th>\n",
              "      <th>...</th>\n",
              "      <th>56</th>\n",
              "      <th>57</th>\n",
              "      <th>58</th>\n",
              "      <th>59</th>\n",
              "      <th>60</th>\n",
              "      <th>61</th>\n",
              "      <th>62</th>\n",
              "      <th>63</th>\n",
              "      <th>64</th>\n",
              "      <th>65</th>\n",
              "    </tr>\n",
              "  </thead>\n",
              "  <tbody>\n",
              "    <tr>\n",
              "      <th>0</th>\n",
              "      <td>122.989521</td>\n",
              "      <td>5.031775</td>\n",
              "      <td>32.396511</td>\n",
              "      <td>154.947733</td>\n",
              "      <td>2.893299</td>\n",
              "      <td>48.086895</td>\n",
              "      <td>145.477856</td>\n",
              "      <td>-8.119449</td>\n",
              "      <td>46.227878</td>\n",
              "      <td>159.286507</td>\n",
              "      <td>...</td>\n",
              "      <td>-67.582787</td>\n",
              "      <td>-125.367848</td>\n",
              "      <td>-72.437172</td>\n",
              "      <td>-50.852973</td>\n",
              "      <td>-96.587422</td>\n",
              "      <td>-79.767570</td>\n",
              "      <td>-67.930081</td>\n",
              "      <td>-70.781021</td>\n",
              "      <td>-70.997175</td>\n",
              "      <td>-87.361629</td>\n",
              "    </tr>\n",
              "    <tr>\n",
              "      <th>1</th>\n",
              "      <td>135.335277</td>\n",
              "      <td>22.762292</td>\n",
              "      <td>47.132208</td>\n",
              "      <td>171.382518</td>\n",
              "      <td>45.664967</td>\n",
              "      <td>57.643169</td>\n",
              "      <td>-179.805451</td>\n",
              "      <td>40.565404</td>\n",
              "      <td>84.301659</td>\n",
              "      <td>-141.818159</td>\n",
              "      <td>...</td>\n",
              "      <td>-102.868148</td>\n",
              "      <td>83.136421</td>\n",
              "      <td>15.529929</td>\n",
              "      <td>90.343455</td>\n",
              "      <td>78.789987</td>\n",
              "      <td>5.173831</td>\n",
              "      <td>90.525847</td>\n",
              "      <td>72.386893</td>\n",
              "      <td>-4.364089</td>\n",
              "      <td>104.625646</td>\n",
              "    </tr>\n",
              "    <tr>\n",
              "      <th>2</th>\n",
              "      <td>141.891296</td>\n",
              "      <td>28.615349</td>\n",
              "      <td>54.489470</td>\n",
              "      <td>-178.385441</td>\n",
              "      <td>47.452724</td>\n",
              "      <td>69.867222</td>\n",
              "      <td>-175.951196</td>\n",
              "      <td>39.809274</td>\n",
              "      <td>87.187351</td>\n",
              "      <td>-148.173224</td>\n",
              "      <td>...</td>\n",
              "      <td>-109.162265</td>\n",
              "      <td>82.213256</td>\n",
              "      <td>36.904574</td>\n",
              "      <td>89.425871</td>\n",
              "      <td>76.610167</td>\n",
              "      <td>22.542002</td>\n",
              "      <td>89.209393</td>\n",
              "      <td>73.080910</td>\n",
              "      <td>-3.183434</td>\n",
              "      <td>110.232384</td>\n",
              "    </tr>\n",
              "    <tr>\n",
              "      <th>3</th>\n",
              "      <td>141.153613</td>\n",
              "      <td>28.042486</td>\n",
              "      <td>53.670653</td>\n",
              "      <td>-179.465062</td>\n",
              "      <td>47.739280</td>\n",
              "      <td>68.566937</td>\n",
              "      <td>-177.858053</td>\n",
              "      <td>40.358214</td>\n",
              "      <td>84.582835</td>\n",
              "      <td>-146.893964</td>\n",
              "      <td>...</td>\n",
              "      <td>-105.087837</td>\n",
              "      <td>83.791429</td>\n",
              "      <td>7.936759</td>\n",
              "      <td>89.145902</td>\n",
              "      <td>79.618323</td>\n",
              "      <td>-2.325866</td>\n",
              "      <td>93.411176</td>\n",
              "      <td>73.203217</td>\n",
              "      <td>-12.320351</td>\n",
              "      <td>108.900585</td>\n",
              "    </tr>\n",
              "    <tr>\n",
              "      <th>4</th>\n",
              "      <td>123.134389</td>\n",
              "      <td>5.315064</td>\n",
              "      <td>32.581669</td>\n",
              "      <td>155.111402</td>\n",
              "      <td>2.412084</td>\n",
              "      <td>48.602000</td>\n",
              "      <td>145.787989</td>\n",
              "      <td>-9.715883</td>\n",
              "      <td>45.043492</td>\n",
              "      <td>160.383255</td>\n",
              "      <td>...</td>\n",
              "      <td>-66.555146</td>\n",
              "      <td>-124.152353</td>\n",
              "      <td>-72.004125</td>\n",
              "      <td>-51.785051</td>\n",
              "      <td>-94.026793</td>\n",
              "      <td>-73.783497</td>\n",
              "      <td>-70.421552</td>\n",
              "      <td>-73.377815</td>\n",
              "      <td>-68.075547</td>\n",
              "      <td>-86.260239</td>\n",
              "    </tr>\n",
              "    <tr>\n",
              "      <th>...</th>\n",
              "      <td>...</td>\n",
              "      <td>...</td>\n",
              "      <td>...</td>\n",
              "      <td>...</td>\n",
              "      <td>...</td>\n",
              "      <td>...</td>\n",
              "      <td>...</td>\n",
              "      <td>...</td>\n",
              "      <td>...</td>\n",
              "      <td>...</td>\n",
              "      <td>...</td>\n",
              "      <td>...</td>\n",
              "      <td>...</td>\n",
              "      <td>...</td>\n",
              "      <td>...</td>\n",
              "      <td>...</td>\n",
              "      <td>...</td>\n",
              "      <td>...</td>\n",
              "      <td>...</td>\n",
              "      <td>...</td>\n",
              "      <td>...</td>\n",
              "    </tr>\n",
              "    <tr>\n",
              "      <th>755</th>\n",
              "      <td>126.561889</td>\n",
              "      <td>11.901453</td>\n",
              "      <td>36.613846</td>\n",
              "      <td>160.534547</td>\n",
              "      <td>15.593843</td>\n",
              "      <td>49.106823</td>\n",
              "      <td>149.940415</td>\n",
              "      <td>3.215864</td>\n",
              "      <td>43.576675</td>\n",
              "      <td>158.350225</td>\n",
              "      <td>...</td>\n",
              "      <td>-84.466228</td>\n",
              "      <td>-100.913944</td>\n",
              "      <td>-40.559848</td>\n",
              "      <td>-74.398901</td>\n",
              "      <td>-89.207289</td>\n",
              "      <td>-34.396330</td>\n",
              "      <td>-69.007987</td>\n",
              "      <td>67.613353</td>\n",
              "      <td>37.844303</td>\n",
              "      <td>106.596725</td>\n",
              "    </tr>\n",
              "    <tr>\n",
              "      <th>756</th>\n",
              "      <td>122.643110</td>\n",
              "      <td>4.466658</td>\n",
              "      <td>31.744840</td>\n",
              "      <td>155.701292</td>\n",
              "      <td>8.148463</td>\n",
              "      <td>45.837651</td>\n",
              "      <td>145.731508</td>\n",
              "      <td>-4.104005</td>\n",
              "      <td>43.407085</td>\n",
              "      <td>155.588603</td>\n",
              "      <td>...</td>\n",
              "      <td>-84.169659</td>\n",
              "      <td>-102.808267</td>\n",
              "      <td>-48.700966</td>\n",
              "      <td>-72.728426</td>\n",
              "      <td>-88.447692</td>\n",
              "      <td>-34.981776</td>\n",
              "      <td>-70.328483</td>\n",
              "      <td>67.589534</td>\n",
              "      <td>34.305546</td>\n",
              "      <td>104.609253</td>\n",
              "    </tr>\n",
              "    <tr>\n",
              "      <th>757</th>\n",
              "      <td>149.122439</td>\n",
              "      <td>32.866647</td>\n",
              "      <td>61.401936</td>\n",
              "      <td>-168.637240</td>\n",
              "      <td>43.707648</td>\n",
              "      <td>80.352224</td>\n",
              "      <td>-158.075336</td>\n",
              "      <td>30.762928</td>\n",
              "      <td>116.066242</td>\n",
              "      <td>-136.894675</td>\n",
              "      <td>...</td>\n",
              "      <td>90.032635</td>\n",
              "      <td>-100.690590</td>\n",
              "      <td>-35.213697</td>\n",
              "      <td>-72.791546</td>\n",
              "      <td>-86.684888</td>\n",
              "      <td>-23.278524</td>\n",
              "      <td>-70.004370</td>\n",
              "      <td>72.595491</td>\n",
              "      <td>4.648314</td>\n",
              "      <td>110.603361</td>\n",
              "    </tr>\n",
              "    <tr>\n",
              "      <th>758</th>\n",
              "      <td>148.307372</td>\n",
              "      <td>33.790484</td>\n",
              "      <td>63.064637</td>\n",
              "      <td>-170.488016</td>\n",
              "      <td>41.379854</td>\n",
              "      <td>80.754674</td>\n",
              "      <td>-171.370017</td>\n",
              "      <td>33.945310</td>\n",
              "      <td>94.202336</td>\n",
              "      <td>-152.102925</td>\n",
              "      <td>...</td>\n",
              "      <td>104.269163</td>\n",
              "      <td>-102.131819</td>\n",
              "      <td>-31.627772</td>\n",
              "      <td>-70.255751</td>\n",
              "      <td>-89.490850</td>\n",
              "      <td>-46.566382</td>\n",
              "      <td>-68.317605</td>\n",
              "      <td>-75.614755</td>\n",
              "      <td>-46.016645</td>\n",
              "      <td>-71.185372</td>\n",
              "    </tr>\n",
              "    <tr>\n",
              "      <th>759</th>\n",
              "      <td>148.116627</td>\n",
              "      <td>32.204315</td>\n",
              "      <td>61.219175</td>\n",
              "      <td>-169.723354</td>\n",
              "      <td>44.743572</td>\n",
              "      <td>79.347720</td>\n",
              "      <td>-156.546170</td>\n",
              "      <td>28.523744</td>\n",
              "      <td>117.139783</td>\n",
              "      <td>-135.446526</td>\n",
              "      <td>...</td>\n",
              "      <td>92.134842</td>\n",
              "      <td>-101.557404</td>\n",
              "      <td>-31.727470</td>\n",
              "      <td>-72.884855</td>\n",
              "      <td>-86.260219</td>\n",
              "      <td>-25.858216</td>\n",
              "      <td>-69.008763</td>\n",
              "      <td>73.434238</td>\n",
              "      <td>10.716361</td>\n",
              "      <td>109.544317</td>\n",
              "    </tr>\n",
              "  </tbody>\n",
              "</table>\n",
              "<p>760 rows × 66 columns</p>\n",
              "</div>"
            ],
            "text/plain": [
              "             0          1          2           3          4          5   \\\n",
              "0    122.989521   5.031775  32.396511  154.947733   2.893299  48.086895   \n",
              "1    135.335277  22.762292  47.132208  171.382518  45.664967  57.643169   \n",
              "2    141.891296  28.615349  54.489470 -178.385441  47.452724  69.867222   \n",
              "3    141.153613  28.042486  53.670653 -179.465062  47.739280  68.566937   \n",
              "4    123.134389   5.315064  32.581669  155.111402   2.412084  48.602000   \n",
              "..          ...        ...        ...         ...        ...        ...   \n",
              "755  126.561889  11.901453  36.613846  160.534547  15.593843  49.106823   \n",
              "756  122.643110   4.466658  31.744840  155.701292   8.148463  45.837651   \n",
              "757  149.122439  32.866647  61.401936 -168.637240  43.707648  80.352224   \n",
              "758  148.307372  33.790484  63.064637 -170.488016  41.379854  80.754674   \n",
              "759  148.116627  32.204315  61.219175 -169.723354  44.743572  79.347720   \n",
              "\n",
              "             6          7           8           9   ...          56  \\\n",
              "0    145.477856  -8.119449   46.227878  159.286507  ...  -67.582787   \n",
              "1   -179.805451  40.565404   84.301659 -141.818159  ... -102.868148   \n",
              "2   -175.951196  39.809274   87.187351 -148.173224  ... -109.162265   \n",
              "3   -177.858053  40.358214   84.582835 -146.893964  ... -105.087837   \n",
              "4    145.787989  -9.715883   45.043492  160.383255  ...  -66.555146   \n",
              "..          ...        ...         ...         ...  ...         ...   \n",
              "755  149.940415   3.215864   43.576675  158.350225  ...  -84.466228   \n",
              "756  145.731508  -4.104005   43.407085  155.588603  ...  -84.169659   \n",
              "757 -158.075336  30.762928  116.066242 -136.894675  ...   90.032635   \n",
              "758 -171.370017  33.945310   94.202336 -152.102925  ...  104.269163   \n",
              "759 -156.546170  28.523744  117.139783 -135.446526  ...   92.134842   \n",
              "\n",
              "             57         58         59         60         61         62  \\\n",
              "0   -125.367848 -72.437172 -50.852973 -96.587422 -79.767570 -67.930081   \n",
              "1     83.136421  15.529929  90.343455  78.789987   5.173831  90.525847   \n",
              "2     82.213256  36.904574  89.425871  76.610167  22.542002  89.209393   \n",
              "3     83.791429   7.936759  89.145902  79.618323  -2.325866  93.411176   \n",
              "4   -124.152353 -72.004125 -51.785051 -94.026793 -73.783497 -70.421552   \n",
              "..          ...        ...        ...        ...        ...        ...   \n",
              "755 -100.913944 -40.559848 -74.398901 -89.207289 -34.396330 -69.007987   \n",
              "756 -102.808267 -48.700966 -72.728426 -88.447692 -34.981776 -70.328483   \n",
              "757 -100.690590 -35.213697 -72.791546 -86.684888 -23.278524 -70.004370   \n",
              "758 -102.131819 -31.627772 -70.255751 -89.490850 -46.566382 -68.317605   \n",
              "759 -101.557404 -31.727470 -72.884855 -86.260219 -25.858216 -69.008763   \n",
              "\n",
              "            63         64          65  \n",
              "0   -70.781021 -70.997175  -87.361629  \n",
              "1    72.386893  -4.364089  104.625646  \n",
              "2    73.080910  -3.183434  110.232384  \n",
              "3    73.203217 -12.320351  108.900585  \n",
              "4   -73.377815 -68.075547  -86.260239  \n",
              "..         ...        ...         ...  \n",
              "755  67.613353  37.844303  106.596725  \n",
              "756  67.589534  34.305546  104.609253  \n",
              "757  72.595491   4.648314  110.603361  \n",
              "758 -75.614755 -46.016645  -71.185372  \n",
              "759  73.434238  10.716361  109.544317  \n",
              "\n",
              "[760 rows x 66 columns]"
            ]
          },
          "execution_count": 5,
          "metadata": {},
          "output_type": "execute_result"
        }
      ],
      "source": [
        "path = \"./data/\"\n",
        "labels, data = GetData(path=path, augment=True)\n",
        "\n",
        "df = pd.DataFrame(data) # for visualising\n",
        "df"
      ]
    },
    {
      "cell_type": "code",
      "execution_count": 6,
      "metadata": {
        "id": "KAPMKNRsYO77"
      },
      "outputs": [],
      "source": [
        "from sklearn.model_selection import train_test_split\n",
        "X_train, X_test, y_train, y_test = train_test_split(data, labels, test_size=0.2, random_state=2, stratify=labels)"
      ]
    },
    {
      "cell_type": "code",
      "execution_count": 7,
      "metadata": {
        "colab": {
          "base_uri": "https://localhost:8080/",
          "height": 701
        },
        "id": "W6LNY3Rb3adE",
        "outputId": "45a4d9de-331f-4878-dd93-fa8bb8378cbe"
      },
      "outputs": [
        {
          "data": {
            "image/png": "[encoded data removed]",
            "text/plain": [
              "<Figure size 2000x827 with 1 Axes>"
            ]
          },
          "metadata": {},
          "output_type": "display_data"
        }
      ],
      "source": [
        "sns.set(rc={'figure.figsize':(20,8.27)})\n",
        "sns.set_style(\"ticks\")\n",
        "_ = sns.countplot(x=y_train.reshape(-1))"
      ]
    },
    {
      "cell_type": "code",
      "execution_count": 8,
      "metadata": {
        "colab": {
          "base_uri": "https://localhost:8080/"
        },
        "id": "lBUN-OaGcCrK",
        "outputId": "af9b0390-e77c-4788-9df2-0e7192acad5c"
      },
      "outputs": [
        {
          "name": "stdout",
          "output_type": "stream",
          "text": [
            "X_train shape: (608, 66)\n",
            "y_train shape: (608, 1)\n",
            "\n",
            "X_test shape: (152, 66)\n",
            "y_test shape: (152, 1)\n"
          ]
        }
      ],
      "source": [
        "print(\"X_train shape: {}\".format(X_train.shape))\n",
        "print(\"y_train shape: {}\".format(y_train.shape))\n",
        "print(\"\")\n",
        "print(\"X_test shape: {}\".format(X_test.shape))\n",
        "print(\"y_test shape: {}\".format(y_test.shape))"
      ]
    },
    {
      "attachments": {},
      "cell_type": "markdown",
      "metadata": {
        "id": "qtvRGoAqq-45"
      },
      "source": [
        "Changing labels shape to categorical: "
      ]
    },
    {
      "cell_type": "code",
      "execution_count": 9,
      "metadata": {
        "colab": {
          "base_uri": "https://localhost:8080/"
        },
        "id": "mjHK2Ye-Lv6w",
        "outputId": "7c68aac4-8468-4e50-e1ac-2ed2abfcf5ab"
      },
      "outputs": [
        {
          "data": {
            "text/plain": [
              "array([0.])"
            ]
          },
          "execution_count": 9,
          "metadata": {},
          "output_type": "execute_result"
        }
      ],
      "source": [
        "y_train[0]"
      ]
    },
    {
      "cell_type": "code",
      "execution_count": 10,
      "metadata": {
        "id": "sBdIbjiHLlIl"
      },
      "outputs": [],
      "source": [
        "y_train = to_categorical(y_train)\n",
        "y_test = to_categorical(y_test)"
      ]
    },
    {
      "cell_type": "code",
      "execution_count": 11,
      "metadata": {
        "colab": {
          "base_uri": "https://localhost:8080/"
        },
        "id": "l08iFFEaMVFc",
        "outputId": "4966db94-f6e9-4d06-8b3d-d59887c0c5f4"
      },
      "outputs": [
        {
          "data": {
            "text/plain": [
              "array([1., 0., 0., 0., 0., 0., 0., 0.], dtype=float32)"
            ]
          },
          "execution_count": 11,
          "metadata": {},
          "output_type": "execute_result"
        }
      ],
      "source": [
        "y_train[0]"
      ]
    },
    {
      "cell_type": "code",
      "execution_count": 12,
      "metadata": {
        "colab": {
          "base_uri": "https://localhost:8080/"
        },
        "id": "kNdMwcxOcF75",
        "outputId": "7df00c38-1cb8-48ea-e6b2-a23680b2feb1"
      },
      "outputs": [
        {
          "name": "stdout",
          "output_type": "stream",
          "text": [
            "y_train shape: (608, 8)\n",
            "y_test shape: (152, 8)\n"
          ]
        }
      ],
      "source": [
        "print(\"y_train shape: {}\".format(y_train.shape))\n",
        "print(\"y_test shape: {}\".format(y_test.shape))"
      ]
    },
    {
      "cell_type": "code",
      "execution_count": 13,
      "metadata": {
        "id": "4-NqVgArxZpV"
      },
      "outputs": [],
      "source": [
        "X_train = np.expand_dims(X_train, -1)\n",
        "X_test = np.expand_dims(X_test, -1)"
      ]
    },
    {
      "cell_type": "code",
      "execution_count": 14,
      "metadata": {
        "colab": {
          "base_uri": "https://localhost:8080/"
        },
        "id": "qrDuwyqcxjcN",
        "outputId": "84ad19a3-772c-4944-d561-2920d6076ba7"
      },
      "outputs": [
        {
          "name": "stdout",
          "output_type": "stream",
          "text": [
            "X_train shape: (608, 66, 1)\n",
            "X_test shape: (152, 66, 1)\n"
          ]
        }
      ],
      "source": [
        "print(\"X_train shape: {}\".format(X_train.shape))\n",
        "print(\"X_test shape: {}\".format(X_test.shape))"
      ]
    },
    {
      "cell_type": "code",
      "execution_count": 15,
      "metadata": {
        "id": "DrdJlXc_6vYp"
      },
      "outputs": [],
      "source": [
        "class_mapping = ['thumbs_up','thumbs_down','ok','victory', 'horns', 'phone', 'one', 'point']\n",
        "num_classes = 8"
      ]
    },
    {
      "attachments": {},
      "cell_type": "markdown",
      "metadata": {
        "id": "pPltiJu5uwk5"
      },
      "source": [
        "#2. Creating and training CNN"
      ]
    },
    {
      "cell_type": "code",
      "execution_count": 16,
      "metadata": {
        "id": "kQQ_E9BDu22d"
      },
      "outputs": [],
      "source": [
        "import keras\n",
        "from keras import layers  \n",
        "from keras import models\n",
        "from keras import callbacks\n",
        "from sklearn.metrics import confusion_matrix\n",
        "from sklearn.metrics import classification_report"
      ]
    },
    {
      "cell_type": "code",
      "execution_count": 17,
      "metadata": {
        "id": "XB26lE4Cs2J6"
      },
      "outputs": [],
      "source": [
        "def create_1D_model():\n",
        "  model = models.Sequential()\n",
        "\n",
        "  model.add(layers.Conv1D(32, 3, input_shape=X_train.shape[1:3], activation='relu', ))\n",
        "  model.add(layers.Conv1D(16, 1, activation='relu', ))\n",
        "  model.add(layers.Dropout(0.2))\n",
        "  model.add(layers.MaxPooling1D(pool_size=2))\n",
        "\n",
        "  model.add(layers.Flatten())\n",
        "\n",
        "  model.add(layers.Dense(64, activation='relu'))\n",
        "  model.add(layers.Dense(num_classes, activation='softmax'))\n",
        "\n",
        "  return model"
      ]
    },
    {
      "cell_type": "code",
      "execution_count": 18,
      "metadata": {
        "id": "Z3we38y4uVO2"
      },
      "outputs": [],
      "source": [
        "model = create_1D_model()\n",
        "model.compile(optimizer=keras.optimizers.SGD(),loss='categorical_crossentropy',metrics=['accuracy', 'Precision', 'Recall'])"
      ]
    },
    {
      "cell_type": "code",
      "execution_count": 19,
      "metadata": {
        "id": "-RqVuh2jxv6h"
      },
      "outputs": [],
      "source": [
        "MCP = keras.callbacks.ModelCheckpoint('./results/' + 'model_rot.h5',verbose=1,save_best_only=True,monitor='val_accuracy',mode='max')\n",
        "ES = keras.callbacks.EarlyStopping(monitor='val_accuracy',min_delta=0,verbose=0,restore_best_weights = True,patience=3,mode='max')\n",
        "RLP = keras.callbacks.ReduceLROnPlateau(monitor='val_loss',patience=3,factor=0.2,min_lr=0.0001)"
      ]
    },
    {
      "cell_type": "code",
      "execution_count": 20,
      "metadata": {
        "colab": {
          "base_uri": "https://localhost:8080/"
        },
        "id": "QFM4H7pfyDnq",
        "outputId": "b0bfb17a-ed85-43eb-d6bc-1deef3b0ceda"
      },
      "outputs": [
        {
          "name": "stdout",
          "output_type": "stream",
          "text": [
            "Epoch 1/100\n",
            " 1/19 [>.............................] - ETA: 10s - loss: 23.3578 - accuracy: 0.0625 - precision: 0.0625 - recall: 0.0625\n",
            "Epoch 1: val_accuracy improved from -inf to 0.79605, saving model to ./results\\model_rot.h5\n",
            "19/19 [==============================] - 1s 19ms/step - loss: 10.9402 - accuracy: 0.5049 - precision: 0.5726 - recall: 0.4408 - val_loss: 0.4839 - val_accuracy: 0.7961 - val_precision: 0.8156 - val_recall: 0.7566 - lr: 0.0100\n",
            "Epoch 2/100\n",
            " 1/19 [>.............................] - ETA: 0s - loss: 0.5239 - accuracy: 0.7812 - precision: 0.8000 - recall: 0.7500\n",
            "Epoch 2: val_accuracy improved from 0.79605 to 0.88158, saving model to ./results\\model_rot.h5\n",
            "19/19 [==============================] - 0s 8ms/step - loss: 0.3832 - accuracy: 0.8520 - precision: 0.8875 - recall: 0.8306 - val_loss: 0.2588 - val_accuracy: 0.8816 - val_precision: 0.8867 - val_recall: 0.8750 - lr: 0.0100\n",
            "Epoch 3/100\n",
            " 1/19 [>.............................] - ETA: 0s - loss: 0.2945 - accuracy: 0.9062 - precision: 0.9032 - recall: 0.8750\n",
            "Epoch 3: val_accuracy improved from 0.88158 to 0.90132, saving model to ./results\\model_rot.h5\n",
            "19/19 [==============================] - 0s 7ms/step - loss: 0.2448 - accuracy: 0.9046 - precision: 0.9116 - recall: 0.8816 - val_loss: 0.2543 - val_accuracy: 0.9013 - val_precision: 0.9007 - val_recall: 0.8947 - lr: 0.0100\n",
            "Epoch 4/100\n",
            " 1/19 [>.............................] - ETA: 0s - loss: 0.3007 - accuracy: 0.8125 - precision: 0.8966 - recall: 0.8125\n",
            "Epoch 4: val_accuracy improved from 0.90132 to 0.90789, saving model to ./results\\model_rot.h5\n",
            "19/19 [==============================] - 0s 7ms/step - loss: 0.1806 - accuracy: 0.9211 - precision: 0.9394 - recall: 0.9178 - val_loss: 0.1726 - val_accuracy: 0.9079 - val_precision: 0.9073 - val_recall: 0.9013 - lr: 0.0100\n",
            "Epoch 5/100\n",
            " 1/19 [>.............................] - ETA: 0s - loss: 0.0525 - accuracy: 1.0000 - precision: 1.0000 - recall: 1.0000\n",
            "Epoch 5: val_accuracy did not improve from 0.90789\n",
            "19/19 [==============================] - 0s 4ms/step - loss: 0.1596 - accuracy: 0.9507 - precision: 0.9536 - recall: 0.9474 - val_loss: 0.2610 - val_accuracy: 0.8684 - val_precision: 0.8684 - val_recall: 0.8684 - lr: 0.0100\n",
            "Epoch 6/100\n",
            " 1/19 [>.............................] - ETA: 0s - loss: 0.2162 - accuracy: 0.9062 - precision: 0.9355 - recall: 0.9062\n",
            "Epoch 6: val_accuracy improved from 0.90789 to 0.94079, saving model to ./results\\model_rot.h5\n",
            "19/19 [==============================] - 0s 7ms/step - loss: 0.1359 - accuracy: 0.9539 - precision: 0.9585 - recall: 0.9507 - val_loss: 0.2255 - val_accuracy: 0.9408 - val_precision: 0.9408 - val_recall: 0.9408 - lr: 0.0100\n",
            "Epoch 7/100\n",
            " 1/19 [>.............................] - ETA: 0s - loss: 0.1246 - accuracy: 0.9375 - precision: 0.9375 - recall: 0.9375\n",
            "Epoch 7: val_accuracy did not improve from 0.94079\n",
            "19/19 [==============================] - 0s 4ms/step - loss: 0.1465 - accuracy: 0.9507 - precision: 0.9520 - recall: 0.9457 - val_loss: 0.1734 - val_accuracy: 0.9408 - val_precision: 0.9408 - val_recall: 0.9408 - lr: 0.0100\n",
            "Epoch 8/100\n",
            " 1/19 [>.............................] - ETA: 0s - loss: 0.2314 - accuracy: 0.9375 - precision: 0.9375 - recall: 0.9375\n",
            "Epoch 8: val_accuracy improved from 0.94079 to 0.95395, saving model to ./results\\model_rot.h5\n",
            "19/19 [==============================] - 0s 7ms/step - loss: 0.0986 - accuracy: 0.9671 - precision: 0.9685 - recall: 0.9622 - val_loss: 0.1543 - val_accuracy: 0.9539 - val_precision: 0.9539 - val_recall: 0.9539 - lr: 0.0020\n",
            "Epoch 9/100\n",
            " 1/19 [>.............................] - ETA: 0s - loss: 0.0820 - accuracy: 1.0000 - precision: 1.0000 - recall: 1.0000\n",
            "Epoch 9: val_accuracy did not improve from 0.95395\n",
            "19/19 [==============================] - 0s 4ms/step - loss: 0.0938 - accuracy: 0.9688 - precision: 0.9718 - recall: 0.9638 - val_loss: 0.1503 - val_accuracy: 0.9539 - val_precision: 0.9539 - val_recall: 0.9539 - lr: 0.0020\n",
            "Epoch 10/100\n",
            " 1/19 [>.............................] - ETA: 0s - loss: 0.0685 - accuracy: 1.0000 - precision: 1.0000 - recall: 1.0000\n",
            "Epoch 10: val_accuracy improved from 0.95395 to 0.96053, saving model to ./results\\model_rot.h5\n",
            "19/19 [==============================] - 0s 7ms/step - loss: 0.0831 - accuracy: 0.9786 - precision: 0.9802 - recall: 0.9770 - val_loss: 0.1519 - val_accuracy: 0.9605 - val_precision: 0.9605 - val_recall: 0.9605 - lr: 0.0020\n",
            "Epoch 11/100\n",
            " 1/19 [>.............................] - ETA: 0s - loss: 0.0800 - accuracy: 0.9688 - precision: 0.9688 - recall: 0.9688\n",
            "Epoch 11: val_accuracy did not improve from 0.96053\n",
            "19/19 [==============================] - 0s 4ms/step - loss: 0.1064 - accuracy: 0.9622 - precision: 0.9635 - recall: 0.9539 - val_loss: 0.1518 - val_accuracy: 0.9605 - val_precision: 0.9605 - val_recall: 0.9605 - lr: 0.0020\n",
            "Epoch 12/100\n",
            " 1/19 [>.............................] - ETA: 0s - loss: 0.0832 - accuracy: 0.9688 - precision: 0.9688 - recall: 0.9688\n",
            "Epoch 12: val_accuracy did not improve from 0.96053\n",
            "19/19 [==============================] - 0s 4ms/step - loss: 0.0953 - accuracy: 0.9704 - precision: 0.9720 - recall: 0.9704 - val_loss: 0.1448 - val_accuracy: 0.9539 - val_precision: 0.9539 - val_recall: 0.9539 - lr: 0.0020\n",
            "Epoch 13/100\n",
            " 1/19 [>.............................] - ETA: 0s - loss: 0.0248 - accuracy: 1.0000 - precision: 1.0000 - recall: 1.0000\n",
            "Epoch 13: val_accuracy improved from 0.96053 to 0.97368, saving model to ./results\\model_rot.h5\n",
            "19/19 [==============================] - 0s 7ms/step - loss: 0.0908 - accuracy: 0.9753 - precision: 0.9785 - recall: 0.9720 - val_loss: 0.1516 - val_accuracy: 0.9737 - val_precision: 0.9737 - val_recall: 0.9737 - lr: 0.0020\n",
            "Epoch 14/100\n",
            " 1/19 [>.............................] - ETA: 0s - loss: 0.1023 - accuracy: 0.9688 - precision: 0.9677 - recall: 0.9375\n",
            "Epoch 14: val_accuracy did not improve from 0.97368\n",
            "19/19 [==============================] - 0s 4ms/step - loss: 0.0913 - accuracy: 0.9671 - precision: 0.9702 - recall: 0.9655 - val_loss: 0.1580 - val_accuracy: 0.9737 - val_precision: 0.9737 - val_recall: 0.9737 - lr: 0.0020\n",
            "Epoch 15/100\n",
            " 1/19 [>.............................] - ETA: 0s - loss: 0.0216 - accuracy: 1.0000 - precision: 1.0000 - recall: 1.0000\n",
            "Epoch 15: val_accuracy did not improve from 0.97368\n",
            "19/19 [==============================] - 0s 4ms/step - loss: 0.0824 - accuracy: 0.9786 - precision: 0.9786 - recall: 0.9786 - val_loss: 0.1497 - val_accuracy: 0.9539 - val_precision: 0.9539 - val_recall: 0.9539 - lr: 0.0020\n",
            "Epoch 16/100\n",
            " 1/19 [>.............................] - ETA: 0s - loss: 0.0441 - accuracy: 1.0000 - precision: 1.0000 - recall: 0.9688\n",
            "Epoch 16: val_accuracy did not improve from 0.97368\n",
            "19/19 [==============================] - 0s 5ms/step - loss: 0.0865 - accuracy: 0.9753 - precision: 0.9769 - recall: 0.9737 - val_loss: 0.1495 - val_accuracy: 0.9539 - val_precision: 0.9539 - val_recall: 0.9539 - lr: 4.0000e-04\n"
          ]
        }
      ],
      "source": [
        "history = model.fit(X_train, y_train, batch_size=32,epochs=100, validation_data=(X_test, y_test),callbacks=[MCP,ES,RLP],verbose=1)"
      ]
    },
    {
      "attachments": {},
      "cell_type": "markdown",
      "metadata": {
        "id": "-Dw9vP9R0rBC"
      },
      "source": [
        "#3. CNN evaluation"
      ]
    },
    {
      "cell_type": "code",
      "execution_count": 21,
      "metadata": {
        "colab": {
          "base_uri": "https://localhost:8080/"
        },
        "id": "MOBo5Kk8yt2S",
        "outputId": "98671496-5e1c-4f1b-84bb-2006251d8f1a"
      },
      "outputs": [
        {
          "name": "stdout",
          "output_type": "stream",
          "text": [
            "5/5 - 0s - loss: 0.1516 - accuracy: 0.9737 - precision: 0.9737 - recall: 0.9737 - 24ms/epoch - 5ms/step\n"
          ]
        },
        {
          "data": {
            "text/plain": [
              "[0.15163911879062653,\n",
              " 0.9736841917037964,\n",
              " 0.9736841917037964,\n",
              " 0.9736841917037964]"
            ]
          },
          "execution_count": 21,
          "metadata": {},
          "output_type": "execute_result"
        }
      ],
      "source": [
        "model.evaluate(X_test, y_test, verbose=2)"
      ]
    },
    {
      "cell_type": "code",
      "execution_count": 22,
      "metadata": {
        "colab": {
          "base_uri": "https://localhost:8080/",
          "height": 790
        },
        "id": "ruqORYd_zRVD",
        "outputId": "f05c927e-6b9e-4591-eedd-f6741810cb0d"
      },
      "outputs": [
        {
          "data": {
            "image/png": "[encoded data removed]",
            "text/plain": [
              "<Figure size 1000x400 with 1 Axes>"
            ]
          },
          "metadata": {},
          "output_type": "display_data"
        },
        {
          "data": {
            "text/plain": [
              "<Figure size 2000x827 with 0 Axes>"
            ]
          },
          "metadata": {},
          "output_type": "display_data"
        },
        {
          "data": {
            "image/png": "[encoded data removed]",
            "text/plain": [
              "<Figure size 1000x400 with 1 Axes>"
            ]
          },
          "metadata": {},
          "output_type": "display_data"
        }
      ],
      "source": [
        "acc = history.history['accuracy']\n",
        "val_acc = history.history['val_accuracy']\n",
        "loss = history.history['loss']\n",
        "val_loss = history.history['val_loss']\n",
        "epochs = range(1, len(acc) + 1)\n",
        "\n",
        "plt.figure(figsize=(10, 4))\n",
        "plt.plot(epochs, acc, 'b', label='Training accuracy')\n",
        "plt.plot(epochs, val_acc, 'r', label='Validation accuracy')\n",
        "plt.title('Training and validation accuracy')\n",
        "plt.legend() \n",
        "plt.savefig('Training and validation accuracy partial rot.png',dpi=200)\n",
        "plt.figure()\n",
        "\n",
        "plt.figure(figsize=(10, 4))\n",
        "plt.plot(epochs, loss, 'b', label='Training loss')\n",
        "plt.plot(epochs, val_loss, 'r', label='Validation loss')\n",
        "plt.title('Training and validation loss')\n",
        "plt.legend()\n",
        "plt.show()"
      ]
    },
    {
      "cell_type": "code",
      "execution_count": 23,
      "metadata": {
        "colab": {
          "base_uri": "https://localhost:8080/"
        },
        "id": "EItlVQkF0RhD",
        "outputId": "dbac0ee1-f107-4894-b170-3da40e99a363"
      },
      "outputs": [
        {
          "name": "stdout",
          "output_type": "stream",
          "text": [
            "5/5 [==============================] - 0s 1ms/step\n"
          ]
        }
      ],
      "source": [
        "predictions = np.argmax(model.predict(X_test), axis=1)\n",
        "actual = np.argmax(y_test, axis=1)"
      ]
    },
    {
      "cell_type": "code",
      "execution_count": 24,
      "metadata": {
        "colab": {
          "base_uri": "https://localhost:8080/",
          "height": 688
        },
        "id": "4zGv7Y__z6ha",
        "outputId": "982279ea-2384-4c0e-ead8-dbba1469ec49"
      },
      "outputs": [
        {
          "data": {
            "image/png": "[encoded data removed]",
            "text/plain": [
              "<Figure size 800x800 with 2 Axes>"
            ]
          },
          "metadata": {},
          "output_type": "display_data"
        }
      ],
      "source": [
        "plt.figure(figsize=(8, 8))\n",
        "cm = confusion_matrix(actual, predictions)\n",
        "g = sns.heatmap(cm, annot=True, fmt='.0f')\n",
        "g.set_xticklabels(class_mapping)\n",
        "g.set_yticklabels(class_mapping)\n",
        "plt.show()"
      ]
    },
    {
      "cell_type": "code",
      "execution_count": 25,
      "metadata": {
        "colab": {
          "base_uri": "https://localhost:8080/"
        },
        "id": "v8KlCwfc0RNT",
        "outputId": "bf2af898-550b-4ba2-b3d0-614ec0e2c8b7"
      },
      "outputs": [
        {
          "name": "stdout",
          "output_type": "stream",
          "text": [
            "              precision    recall  f1-score   support\n",
            "\n",
            "           0       1.00      0.88      0.94        25\n",
            "           1       0.88      1.00      0.94        22\n",
            "           2       1.00      1.00      1.00        33\n",
            "           3       1.00      1.00      1.00        29\n",
            "           4       1.00      1.00      1.00        11\n",
            "           5       1.00      1.00      1.00        11\n",
            "           6       1.00      0.91      0.95        11\n",
            "           7       0.91      1.00      0.95        10\n",
            "\n",
            "    accuracy                           0.97       152\n",
            "   macro avg       0.97      0.97      0.97       152\n",
            "weighted avg       0.98      0.97      0.97       152\n",
            "\n"
          ]
        }
      ],
      "source": [
        "y_test_temp = np.argmax(y_test, axis=1)\n",
        "print(classification_report(y_test_temp, predictions))"
      ]
    }
  ],
  "metadata": {
    "accelerator": "GPU",
    "colab": {
      "collapsed_sections": [
        "Di3bXlrt_2D7",
        "WLGuNvTetTsb",
        "3M6Y1qJxwevi",
        "5ZkFPdpzvufG",
        "RhPMGvdqL-66",
        "tamGRqsuV__t",
        "w1u2BW-8X__U",
        "IybSGAD-2iUh",
        "bh_mMRWype95"
      ],
      "gpuClass": "premium",
      "machine_shape": "hm",
      "provenance": []
    },
    "gpuClass": "premium",
    "kernelspec": {
      "display_name": "Python 3",
      "name": "python3"
    },
    "language_info": {
      "codemirror_mode": {
        "name": "ipython",
        "version": 3
      },
      "file_extension": ".py",
      "mimetype": "text/x-python",
      "name": "python",
      "nbconvert_exporter": "python",
      "pygments_lexer": "ipython3",
      "version": "3.10.11"
    }
  },
  "nbformat": 4,
  "nbformat_minor": 0
}
