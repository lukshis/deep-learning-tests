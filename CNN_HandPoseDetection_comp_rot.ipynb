{
  "cells": [
    {
      "attachments": {},
      "cell_type": "markdown",
      "metadata": {
        "id": "x40eFfHeGdJO"
      },
      "source": [
        "CNN using finger component rotations"
      ]
    },
    {
      "cell_type": "code",
      "execution_count": 1,
      "metadata": {
        "id": "20xJTw8d0EJB"
      },
      "outputs": [
        {
          "name": "stdout",
          "output_type": "stream",
          "text": [
            "WARNING:tensorflow:From d:\\Repositories\\python-workspaces\\deep-learning-tests\\.venv\\Lib\\site-packages\\keras\\src\\losses.py:2976: The name tf.losses.sparse_softmax_cross_entropy is deprecated. Please use tf.compat.v1.losses.sparse_softmax_cross_entropy instead.\n",
            "\n"
          ]
        }
      ],
      "source": [
        "# Seed value\n",
        "seed_value = 1\n",
        "\n",
        "# 1. Set `PYTHONHASHSEED` environment variable at a fixed value\n",
        "import os\n",
        "os.environ['PYTHONHASHSEED']=str(seed_value)\n",
        "seed_value += 1\n",
        "\n",
        "# 2. Set `python` built-in pseudo-random generator at a fixed value\n",
        "import random\n",
        "random.seed(seed_value)\n",
        "seed_value += 1\n",
        "\n",
        "# 3. Set `numpy` pseudo-random generator at a fixed value\n",
        "import numpy as np\n",
        "np.random.seed(seed_value)\n",
        "seed_value += 1\n",
        "\n",
        "# 4. Set `tensorflow` pseudo-random generator at a fixed value\n",
        "import tensorflow as tf\n",
        "tf.random.set_seed(seed_value)"
      ]
    },
    {
      "cell_type": "code",
      "execution_count": 2,
      "metadata": {
        "id": "uPuRX3RTMQ3R"
      },
      "outputs": [],
      "source": [
        "import pandas as pd\n",
        "import matplotlib.pyplot as plt\n",
        "import seaborn as sns\n",
        "from keras.utils import to_categorical\n",
        "from utils.parseData import ReadData"
      ]
    },
    {
      "cell_type": "code",
      "execution_count": 3,
      "metadata": {},
      "outputs": [],
      "source": [
        "def GetData(path=\"./data/\", augment=False, space=False):\n",
        "    all_data = ReadData(path, loc=space, w_space=space)\n",
        "    \n",
        "    if augment:\n",
        "        all_data = AugmentData(all_data)\n",
        "    \n",
        "    labels = all_data[:, :1]\n",
        "    if space:\n",
        "        data = all_data[:, 14:]\n",
        "    else:\n",
        "        data = all_data[:, 8:]\n",
        "    \n",
        "    return labels, data"
      ]
    },
    {
      "cell_type": "code",
      "execution_count": 4,
      "metadata": {},
      "outputs": [],
      "source": [
        "def AugmentData(data):\n",
        "    augmented_data = np.array(data)\n",
        "    for i in range(augmented_data.shape[0]):\n",
        "        for j in range(7, 72):\n",
        "            random.seed(i * j)\n",
        "            random_v = random.random()\n",
        "            augmented_data[i][j] = augmented_data[i][j] + (-1.0 + (random_v * (1.0 + 1.0)))\n",
        "    full_data = np.concatenate((data, augmented_data), axis=0)\n",
        "    return full_data"
      ]
    },
    {
      "cell_type": "code",
      "execution_count": 5,
      "metadata": {},
      "outputs": [
        {
          "data": {
            "text/html": [
              "<div>\n",
              "<style scoped>\n",
              "    .dataframe tbody tr th:only-of-type {\n",
              "        vertical-align: middle;\n",
              "    }\n",
              "\n",
              "    .dataframe tbody tr th {\n",
              "        vertical-align: top;\n",
              "    }\n",
              "\n",
              "    .dataframe thead th {\n",
              "        text-align: right;\n",
              "    }\n",
              "</style>\n",
              "<table border=\"1\" class=\"dataframe\">\n",
              "  <thead>\n",
              "    <tr style=\"text-align: right;\">\n",
              "      <th></th>\n",
              "      <th>0</th>\n",
              "      <th>1</th>\n",
              "      <th>2</th>\n",
              "      <th>3</th>\n",
              "      <th>4</th>\n",
              "      <th>5</th>\n",
              "      <th>6</th>\n",
              "      <th>7</th>\n",
              "      <th>8</th>\n",
              "      <th>9</th>\n",
              "      <th>...</th>\n",
              "      <th>56</th>\n",
              "      <th>57</th>\n",
              "      <th>58</th>\n",
              "      <th>59</th>\n",
              "      <th>60</th>\n",
              "      <th>61</th>\n",
              "      <th>62</th>\n",
              "      <th>63</th>\n",
              "      <th>64</th>\n",
              "      <th>65</th>\n",
              "    </tr>\n",
              "  </thead>\n",
              "  <tbody>\n",
              "    <tr>\n",
              "      <th>0</th>\n",
              "      <td>122.989521</td>\n",
              "      <td>5.031775</td>\n",
              "      <td>32.396511</td>\n",
              "      <td>154.947733</td>\n",
              "      <td>2.893299</td>\n",
              "      <td>48.086895</td>\n",
              "      <td>145.477856</td>\n",
              "      <td>-8.119449</td>\n",
              "      <td>46.227878</td>\n",
              "      <td>159.286507</td>\n",
              "      <td>...</td>\n",
              "      <td>-67.582787</td>\n",
              "      <td>-125.367848</td>\n",
              "      <td>-72.437172</td>\n",
              "      <td>-50.852973</td>\n",
              "      <td>-96.587422</td>\n",
              "      <td>-79.767570</td>\n",
              "      <td>-67.930081</td>\n",
              "      <td>-70.781021</td>\n",
              "      <td>-70.997175</td>\n",
              "      <td>-87.361629</td>\n",
              "    </tr>\n",
              "    <tr>\n",
              "      <th>1</th>\n",
              "      <td>135.335277</td>\n",
              "      <td>22.762292</td>\n",
              "      <td>47.132208</td>\n",
              "      <td>171.382518</td>\n",
              "      <td>45.664967</td>\n",
              "      <td>57.643169</td>\n",
              "      <td>-179.805451</td>\n",
              "      <td>40.565404</td>\n",
              "      <td>84.301659</td>\n",
              "      <td>-141.818159</td>\n",
              "      <td>...</td>\n",
              "      <td>-102.868148</td>\n",
              "      <td>83.136421</td>\n",
              "      <td>15.529929</td>\n",
              "      <td>90.343455</td>\n",
              "      <td>78.789987</td>\n",
              "      <td>5.173831</td>\n",
              "      <td>90.525847</td>\n",
              "      <td>72.386893</td>\n",
              "      <td>-4.364089</td>\n",
              "      <td>104.625646</td>\n",
              "    </tr>\n",
              "    <tr>\n",
              "      <th>2</th>\n",
              "      <td>141.891296</td>\n",
              "      <td>28.615349</td>\n",
              "      <td>54.489470</td>\n",
              "      <td>-178.385441</td>\n",
              "      <td>47.452724</td>\n",
              "      <td>69.867222</td>\n",
              "      <td>-175.951196</td>\n",
              "      <td>39.809274</td>\n",
              "      <td>87.187351</td>\n",
              "      <td>-148.173224</td>\n",
              "      <td>...</td>\n",
              "      <td>-109.162265</td>\n",
              "      <td>82.213256</td>\n",
              "      <td>36.904574</td>\n",
              "      <td>89.425871</td>\n",
              "      <td>76.610167</td>\n",
              "      <td>22.542002</td>\n",
              "      <td>89.209393</td>\n",
              "      <td>73.080910</td>\n",
              "      <td>-3.183434</td>\n",
              "      <td>110.232384</td>\n",
              "    </tr>\n",
              "    <tr>\n",
              "      <th>3</th>\n",
              "      <td>141.153613</td>\n",
              "      <td>28.042486</td>\n",
              "      <td>53.670653</td>\n",
              "      <td>-179.465062</td>\n",
              "      <td>47.739280</td>\n",
              "      <td>68.566937</td>\n",
              "      <td>-177.858053</td>\n",
              "      <td>40.358214</td>\n",
              "      <td>84.582835</td>\n",
              "      <td>-146.893964</td>\n",
              "      <td>...</td>\n",
              "      <td>-105.087837</td>\n",
              "      <td>83.791429</td>\n",
              "      <td>7.936759</td>\n",
              "      <td>89.145902</td>\n",
              "      <td>79.618323</td>\n",
              "      <td>-2.325866</td>\n",
              "      <td>93.411176</td>\n",
              "      <td>73.203217</td>\n",
              "      <td>-12.320351</td>\n",
              "      <td>108.900585</td>\n",
              "    </tr>\n",
              "    <tr>\n",
              "      <th>4</th>\n",
              "      <td>123.134389</td>\n",
              "      <td>5.315064</td>\n",
              "      <td>32.581669</td>\n",
              "      <td>155.111402</td>\n",
              "      <td>2.412084</td>\n",
              "      <td>48.602000</td>\n",
              "      <td>145.787989</td>\n",
              "      <td>-9.715883</td>\n",
              "      <td>45.043492</td>\n",
              "      <td>160.383255</td>\n",
              "      <td>...</td>\n",
              "      <td>-66.555146</td>\n",
              "      <td>-124.152353</td>\n",
              "      <td>-72.004125</td>\n",
              "      <td>-51.785051</td>\n",
              "      <td>-94.026793</td>\n",
              "      <td>-73.783497</td>\n",
              "      <td>-70.421552</td>\n",
              "      <td>-73.377815</td>\n",
              "      <td>-68.075547</td>\n",
              "      <td>-86.260239</td>\n",
              "    </tr>\n",
              "    <tr>\n",
              "      <th>...</th>\n",
              "      <td>...</td>\n",
              "      <td>...</td>\n",
              "      <td>...</td>\n",
              "      <td>...</td>\n",
              "      <td>...</td>\n",
              "      <td>...</td>\n",
              "      <td>...</td>\n",
              "      <td>...</td>\n",
              "      <td>...</td>\n",
              "      <td>...</td>\n",
              "      <td>...</td>\n",
              "      <td>...</td>\n",
              "      <td>...</td>\n",
              "      <td>...</td>\n",
              "      <td>...</td>\n",
              "      <td>...</td>\n",
              "      <td>...</td>\n",
              "      <td>...</td>\n",
              "      <td>...</td>\n",
              "      <td>...</td>\n",
              "      <td>...</td>\n",
              "    </tr>\n",
              "    <tr>\n",
              "      <th>383</th>\n",
              "      <td>148.457278</td>\n",
              "      <td>32.934622</td>\n",
              "      <td>61.704457</td>\n",
              "      <td>-169.296869</td>\n",
              "      <td>46.560911</td>\n",
              "      <td>80.337610</td>\n",
              "      <td>-157.772208</td>\n",
              "      <td>32.962019</td>\n",
              "      <td>112.654813</td>\n",
              "      <td>-135.423639</td>\n",
              "      <td>...</td>\n",
              "      <td>90.673103</td>\n",
              "      <td>-100.728106</td>\n",
              "      <td>-30.650150</td>\n",
              "      <td>-73.393394</td>\n",
              "      <td>-86.168018</td>\n",
              "      <td>-21.924498</td>\n",
              "      <td>-69.311016</td>\n",
              "      <td>73.211078</td>\n",
              "      <td>6.368497</td>\n",
              "      <td>110.566225</td>\n",
              "    </tr>\n",
              "    <tr>\n",
              "      <th>384</th>\n",
              "      <td>148.173342</td>\n",
              "      <td>32.774044</td>\n",
              "      <td>61.394765</td>\n",
              "      <td>-171.363101</td>\n",
              "      <td>39.665384</td>\n",
              "      <td>78.333627</td>\n",
              "      <td>-159.909714</td>\n",
              "      <td>25.848116</td>\n",
              "      <td>116.038320</td>\n",
              "      <td>-140.115343</td>\n",
              "      <td>...</td>\n",
              "      <td>92.827924</td>\n",
              "      <td>-104.370853</td>\n",
              "      <td>-45.222003</td>\n",
              "      <td>-70.755337</td>\n",
              "      <td>-89.995962</td>\n",
              "      <td>-56.594173</td>\n",
              "      <td>-71.078596</td>\n",
              "      <td>-75.804420</td>\n",
              "      <td>-53.043261</td>\n",
              "      <td>-76.332654</td>\n",
              "    </tr>\n",
              "    <tr>\n",
              "      <th>385</th>\n",
              "      <td>147.868398</td>\n",
              "      <td>32.599157</td>\n",
              "      <td>61.061963</td>\n",
              "      <td>-169.068472</td>\n",
              "      <td>50.029178</td>\n",
              "      <td>80.406640</td>\n",
              "      <td>-154.299500</td>\n",
              "      <td>35.174211</td>\n",
              "      <td>115.541949</td>\n",
              "      <td>-130.494869</td>\n",
              "      <td>...</td>\n",
              "      <td>88.431723</td>\n",
              "      <td>-102.065660</td>\n",
              "      <td>-38.551614</td>\n",
              "      <td>-75.496065</td>\n",
              "      <td>-86.434279</td>\n",
              "      <td>-28.165119</td>\n",
              "      <td>-72.721014</td>\n",
              "      <td>72.043068</td>\n",
              "      <td>9.470013</td>\n",
              "      <td>104.796324</td>\n",
              "    </tr>\n",
              "    <tr>\n",
              "      <th>386</th>\n",
              "      <td>150.887756</td>\n",
              "      <td>34.223492</td>\n",
              "      <td>64.348447</td>\n",
              "      <td>-168.145301</td>\n",
              "      <td>39.750580</td>\n",
              "      <td>81.792730</td>\n",
              "      <td>-157.893504</td>\n",
              "      <td>24.590424</td>\n",
              "      <td>117.935037</td>\n",
              "      <td>-139.227454</td>\n",
              "      <td>...</td>\n",
              "      <td>91.107026</td>\n",
              "      <td>-101.869699</td>\n",
              "      <td>-35.824108</td>\n",
              "      <td>-72.839060</td>\n",
              "      <td>-89.098956</td>\n",
              "      <td>-52.788756</td>\n",
              "      <td>-70.615061</td>\n",
              "      <td>-75.055462</td>\n",
              "      <td>-54.098864</td>\n",
              "      <td>-75.249048</td>\n",
              "    </tr>\n",
              "    <tr>\n",
              "      <th>387</th>\n",
              "      <td>126.060943</td>\n",
              "      <td>10.566515</td>\n",
              "      <td>36.236635</td>\n",
              "      <td>159.424753</td>\n",
              "      <td>8.226360</td>\n",
              "      <td>51.595438</td>\n",
              "      <td>149.754164</td>\n",
              "      <td>-2.339185</td>\n",
              "      <td>49.374148</td>\n",
              "      <td>160.409552</td>\n",
              "      <td>...</td>\n",
              "      <td>-79.535496</td>\n",
              "      <td>-107.204717</td>\n",
              "      <td>-55.894317</td>\n",
              "      <td>-69.370477</td>\n",
              "      <td>-91.529213</td>\n",
              "      <td>-55.029742</td>\n",
              "      <td>-68.714461</td>\n",
              "      <td>37.882938</td>\n",
              "      <td>67.773619</td>\n",
              "      <td>71.910761</td>\n",
              "    </tr>\n",
              "  </tbody>\n",
              "</table>\n",
              "<p>388 rows × 66 columns</p>\n",
              "</div>"
            ],
            "text/plain": [
              "             0          1          2           3          4          5   \\\n",
              "0    122.989521   5.031775  32.396511  154.947733   2.893299  48.086895   \n",
              "1    135.335277  22.762292  47.132208  171.382518  45.664967  57.643169   \n",
              "2    141.891296  28.615349  54.489470 -178.385441  47.452724  69.867222   \n",
              "3    141.153613  28.042486  53.670653 -179.465062  47.739280  68.566937   \n",
              "4    123.134389   5.315064  32.581669  155.111402   2.412084  48.602000   \n",
              "..          ...        ...        ...         ...        ...        ...   \n",
              "383  148.457278  32.934622  61.704457 -169.296869  46.560911  80.337610   \n",
              "384  148.173342  32.774044  61.394765 -171.363101  39.665384  78.333627   \n",
              "385  147.868398  32.599157  61.061963 -169.068472  50.029178  80.406640   \n",
              "386  150.887756  34.223492  64.348447 -168.145301  39.750580  81.792730   \n",
              "387  126.060943  10.566515  36.236635  159.424753   8.226360  51.595438   \n",
              "\n",
              "             6          7           8           9   ...          56  \\\n",
              "0    145.477856  -8.119449   46.227878  159.286507  ...  -67.582787   \n",
              "1   -179.805451  40.565404   84.301659 -141.818159  ... -102.868148   \n",
              "2   -175.951196  39.809274   87.187351 -148.173224  ... -109.162265   \n",
              "3   -177.858053  40.358214   84.582835 -146.893964  ... -105.087837   \n",
              "4    145.787989  -9.715883   45.043492  160.383255  ...  -66.555146   \n",
              "..          ...        ...         ...         ...  ...         ...   \n",
              "383 -157.772208  32.962019  112.654813 -135.423639  ...   90.673103   \n",
              "384 -159.909714  25.848116  116.038320 -140.115343  ...   92.827924   \n",
              "385 -154.299500  35.174211  115.541949 -130.494869  ...   88.431723   \n",
              "386 -157.893504  24.590424  117.935037 -139.227454  ...   91.107026   \n",
              "387  149.754164  -2.339185   49.374148  160.409552  ...  -79.535496   \n",
              "\n",
              "             57         58         59         60         61         62  \\\n",
              "0   -125.367848 -72.437172 -50.852973 -96.587422 -79.767570 -67.930081   \n",
              "1     83.136421  15.529929  90.343455  78.789987   5.173831  90.525847   \n",
              "2     82.213256  36.904574  89.425871  76.610167  22.542002  89.209393   \n",
              "3     83.791429   7.936759  89.145902  79.618323  -2.325866  93.411176   \n",
              "4   -124.152353 -72.004125 -51.785051 -94.026793 -73.783497 -70.421552   \n",
              "..          ...        ...        ...        ...        ...        ...   \n",
              "383 -100.728106 -30.650150 -73.393394 -86.168018 -21.924498 -69.311016   \n",
              "384 -104.370853 -45.222003 -70.755337 -89.995962 -56.594173 -71.078596   \n",
              "385 -102.065660 -38.551614 -75.496065 -86.434279 -28.165119 -72.721014   \n",
              "386 -101.869699 -35.824108 -72.839060 -89.098956 -52.788756 -70.615061   \n",
              "387 -107.204717 -55.894317 -69.370477 -91.529213 -55.029742 -68.714461   \n",
              "\n",
              "            63         64          65  \n",
              "0   -70.781021 -70.997175  -87.361629  \n",
              "1    72.386893  -4.364089  104.625646  \n",
              "2    73.080910  -3.183434  110.232384  \n",
              "3    73.203217 -12.320351  108.900585  \n",
              "4   -73.377815 -68.075547  -86.260239  \n",
              "..         ...        ...         ...  \n",
              "383  73.211078   6.368497  110.566225  \n",
              "384 -75.804420 -53.043261  -76.332654  \n",
              "385  72.043068   9.470013  104.796324  \n",
              "386 -75.055462 -54.098864  -75.249048  \n",
              "387  37.882938  67.773619   71.910761  \n",
              "\n",
              "[388 rows x 66 columns]"
            ]
          },
          "execution_count": 5,
          "metadata": {},
          "output_type": "execute_result"
        }
      ],
      "source": [
        "path = \"./data/\"\n",
        "labels, data = GetData(path=path, augment=False, space=True)\n",
        "\n",
        "df = pd.DataFrame(data) # for visualising\n",
        "df"
      ]
    },
    {
      "cell_type": "code",
      "execution_count": 6,
      "metadata": {
        "id": "KAPMKNRsYO77"
      },
      "outputs": [],
      "source": [
        "from sklearn.model_selection import train_test_split\n",
        "X_train, X_test, y_train, y_test = train_test_split(data, labels, test_size=0.2, random_state=2, stratify=labels)"
      ]
    },
    {
      "cell_type": "code",
      "execution_count": 7,
      "metadata": {
        "colab": {
          "base_uri": "https://localhost:8080/",
          "height": 701
        },
        "id": "W6LNY3Rb3adE",
        "outputId": "45a4d9de-331f-4878-dd93-fa8bb8378cbe"
      },
      "outputs": [
        {
          "data": {
            "image/png": "[encoded data removed]",
            "text/plain": [
              "<Figure size 2000x827 with 1 Axes>"
            ]
          },
          "metadata": {},
          "output_type": "display_data"
        }
      ],
      "source": [
        "sns.set(rc={'figure.figsize':(20,8.27)})\n",
        "sns.set_style(\"ticks\")\n",
        "_ = sns.countplot(x=y_train.reshape(-1))"
      ]
    },
    {
      "cell_type": "code",
      "execution_count": 8,
      "metadata": {
        "colab": {
          "base_uri": "https://localhost:8080/"
        },
        "id": "lBUN-OaGcCrK",
        "outputId": "af9b0390-e77c-4788-9df2-0e7192acad5c"
      },
      "outputs": [
        {
          "name": "stdout",
          "output_type": "stream",
          "text": [
            "X_train shape: (310, 66)\n",
            "y_train shape: (310, 1)\n",
            "\n",
            "X_test shape: (78, 66)\n",
            "y_test shape: (78, 1)\n"
          ]
        }
      ],
      "source": [
        "print(\"X_train shape: {}\".format(X_train.shape))\n",
        "print(\"y_train shape: {}\".format(y_train.shape))\n",
        "print(\"\")\n",
        "print(\"X_test shape: {}\".format(X_test.shape))\n",
        "print(\"y_test shape: {}\".format(y_test.shape))"
      ]
    },
    {
      "attachments": {},
      "cell_type": "markdown",
      "metadata": {
        "id": "qtvRGoAqq-45"
      },
      "source": [
        "Changing labels shape to categorical: "
      ]
    },
    {
      "cell_type": "code",
      "execution_count": 9,
      "metadata": {
        "colab": {
          "base_uri": "https://localhost:8080/"
        },
        "id": "mjHK2Ye-Lv6w",
        "outputId": "7c68aac4-8468-4e50-e1ac-2ed2abfcf5ab"
      },
      "outputs": [
        {
          "data": {
            "text/plain": [
              "array([7.])"
            ]
          },
          "execution_count": 9,
          "metadata": {},
          "output_type": "execute_result"
        }
      ],
      "source": [
        "y_train[0]"
      ]
    },
    {
      "cell_type": "code",
      "execution_count": 10,
      "metadata": {
        "id": "sBdIbjiHLlIl"
      },
      "outputs": [],
      "source": [
        "y_train = to_categorical(y_train)\n",
        "y_test = to_categorical(y_test)"
      ]
    },
    {
      "cell_type": "code",
      "execution_count": 11,
      "metadata": {
        "colab": {
          "base_uri": "https://localhost:8080/"
        },
        "id": "l08iFFEaMVFc",
        "outputId": "4966db94-f6e9-4d06-8b3d-d59887c0c5f4"
      },
      "outputs": [
        {
          "data": {
            "text/plain": [
              "array([0., 0., 0., 0., 0., 0., 0., 1.], dtype=float32)"
            ]
          },
          "execution_count": 11,
          "metadata": {},
          "output_type": "execute_result"
        }
      ],
      "source": [
        "y_train[0]"
      ]
    },
    {
      "cell_type": "code",
      "execution_count": 12,
      "metadata": {
        "colab": {
          "base_uri": "https://localhost:8080/"
        },
        "id": "kNdMwcxOcF75",
        "outputId": "7df00c38-1cb8-48ea-e6b2-a23680b2feb1"
      },
      "outputs": [
        {
          "name": "stdout",
          "output_type": "stream",
          "text": [
            "y_train shape: (310, 8)\n",
            "y_test shape: (78, 8)\n"
          ]
        }
      ],
      "source": [
        "print(\"y_train shape: {}\".format(y_train.shape))\n",
        "print(\"y_test shape: {}\".format(y_test.shape))"
      ]
    },
    {
      "cell_type": "code",
      "execution_count": 13,
      "metadata": {
        "id": "4-NqVgArxZpV"
      },
      "outputs": [],
      "source": [
        "X_train = np.expand_dims(X_train, -1)\n",
        "X_test = np.expand_dims(X_test, -1)"
      ]
    },
    {
      "cell_type": "code",
      "execution_count": 14,
      "metadata": {
        "colab": {
          "base_uri": "https://localhost:8080/"
        },
        "id": "qrDuwyqcxjcN",
        "outputId": "84ad19a3-772c-4944-d561-2920d6076ba7"
      },
      "outputs": [
        {
          "name": "stdout",
          "output_type": "stream",
          "text": [
            "X_train shape: (310, 66, 1)\n",
            "X_test shape: (78, 66, 1)\n"
          ]
        }
      ],
      "source": [
        "print(\"X_train shape: {}\".format(X_train.shape))\n",
        "print(\"X_test shape: {}\".format(X_test.shape))"
      ]
    },
    {
      "cell_type": "code",
      "execution_count": 15,
      "metadata": {
        "id": "DrdJlXc_6vYp"
      },
      "outputs": [],
      "source": [
        "class_mapping = ['thumbs_up','thumbs_down','ok','victory', 'horns', 'phone', 'one', 'point']\n",
        "num_classes = 8"
      ]
    },
    {
      "attachments": {},
      "cell_type": "markdown",
      "metadata": {
        "id": "pPltiJu5uwk5"
      },
      "source": [
        "#2. Creating and training CNN"
      ]
    },
    {
      "cell_type": "code",
      "execution_count": 16,
      "metadata": {
        "id": "kQQ_E9BDu22d"
      },
      "outputs": [],
      "source": [
        "import keras\n",
        "from keras import layers  \n",
        "from keras import models\n",
        "from keras import callbacks\n",
        "from sklearn.metrics import confusion_matrix\n",
        "from sklearn.metrics import classification_report"
      ]
    },
    {
      "cell_type": "code",
      "execution_count": 17,
      "metadata": {
        "id": "XB26lE4Cs2J6"
      },
      "outputs": [],
      "source": [
        "def create_1D_model():\n",
        "  model = models.Sequential()\n",
        "\n",
        "  model.add(layers.Conv1D(32, 3, input_shape=X_train.shape[1:3], activation='relu', ))\n",
        "  model.add(layers.Conv1D(16, 1, activation='relu', ))\n",
        "  model.add(layers.Dropout(0.2))\n",
        "  model.add(layers.MaxPooling1D(pool_size=2))\n",
        "\n",
        "  model.add(layers.Flatten())\n",
        "\n",
        "  model.add(layers.Dense(64, activation='relu'))\n",
        "  model.add(layers.Dense(num_classes, activation='softmax'))\n",
        "\n",
        "  return model"
      ]
    },
    {
      "cell_type": "code",
      "execution_count": 18,
      "metadata": {
        "id": "Z3we38y4uVO2"
      },
      "outputs": [
        {
          "name": "stdout",
          "output_type": "stream",
          "text": [
            "WARNING:tensorflow:From d:\\Repositories\\python-workspaces\\deep-learning-tests\\.venv\\Lib\\site-packages\\keras\\src\\backend.py:873: The name tf.get_default_graph is deprecated. Please use tf.compat.v1.get_default_graph instead.\n",
            "\n",
            "WARNING:tensorflow:From d:\\Repositories\\python-workspaces\\deep-learning-tests\\.venv\\Lib\\site-packages\\keras\\src\\backend.py:6642: The name tf.nn.max_pool is deprecated. Please use tf.nn.max_pool2d instead.\n",
            "\n"
          ]
        }
      ],
      "source": [
        "model = create_1D_model()\n",
        "model.compile(optimizer=keras.optimizers.SGD(),loss='categorical_crossentropy',metrics=['accuracy', 'Precision', 'Recall'])"
      ]
    },
    {
      "cell_type": "code",
      "execution_count": 19,
      "metadata": {
        "id": "-RqVuh2jxv6h"
      },
      "outputs": [],
      "source": [
        "MCP = keras.callbacks.ModelCheckpoint('./results/' + 'model_rot.h5',verbose=1,save_best_only=True,monitor='val_accuracy',mode='max')\n",
        "ES = keras.callbacks.EarlyStopping(monitor='val_accuracy',min_delta=0,verbose=0,restore_best_weights = True,patience=3,mode='max')\n",
        "RLP = keras.callbacks.ReduceLROnPlateau(monitor='val_loss',patience=3,factor=0.2,min_lr=0.0001)"
      ]
    },
    {
      "cell_type": "code",
      "execution_count": 20,
      "metadata": {
        "colab": {
          "base_uri": "https://localhost:8080/"
        },
        "id": "QFM4H7pfyDnq",
        "outputId": "b0bfb17a-ed85-43eb-d6bc-1deef3b0ceda"
      },
      "outputs": [
        {
          "name": "stdout",
          "output_type": "stream",
          "text": [
            "Epoch 1/100\n",
            "WARNING:tensorflow:From d:\\Repositories\\python-workspaces\\deep-learning-tests\\.venv\\Lib\\site-packages\\keras\\src\\utils\\tf_utils.py:492: The name tf.ragged.RaggedTensorValue is deprecated. Please use tf.compat.v1.ragged.RaggedTensorValue instead.\n",
            "\n",
            "WARNING:tensorflow:From d:\\Repositories\\python-workspaces\\deep-learning-tests\\.venv\\Lib\\site-packages\\keras\\src\\engine\\base_layer_utils.py:384: The name tf.executing_eagerly_outside_functions is deprecated. Please use tf.compat.v1.executing_eagerly_outside_functions instead.\n",
            "\n",
            " 1/10 [==>...........................] - ETA: 4s - loss: 27.7849 - accuracy: 0.1250 - precision: 0.1250 - recall: 0.1250\n",
            "Epoch 1: val_accuracy improved from -inf to 0.70513, saving model to ./results\\model_rot.h5\n",
            "10/10 [==============================] - 1s 22ms/step - loss: 9.4085 - accuracy: 0.3129 - precision: 0.3083 - recall: 0.2516 - val_loss: 0.7231 - val_accuracy: 0.7051 - val_precision: 0.9245 - val_recall: 0.6282 - lr: 0.0100\n",
            "Epoch 2/100\n",
            " 1/10 [==>...........................] - ETA: 0s - loss: 0.8124 - accuracy: 0.7188 - precision: 0.7500 - recall: 0.5625\n",
            "Epoch 2: val_accuracy improved from 0.70513 to 0.91026, saving model to ./results\\model_rot.h5\n",
            "10/10 [==============================] - 0s 5ms/step - loss: 0.8220 - accuracy: 0.7290 - precision: 0.7765 - recall: 0.6387 - val_loss: 0.3616 - val_accuracy: 0.9103 - val_precision: 0.9189 - val_recall: 0.8718 - lr: 0.0100\n",
            "Epoch 3/100\n",
            " 1/10 [==>...........................] - ETA: 0s - loss: 0.4921 - accuracy: 0.8438 - precision: 0.8667 - recall: 0.8125\n",
            "Epoch 3: val_accuracy improved from 0.91026 to 0.94872, saving model to ./results\\model_rot.h5\n",
            "10/10 [==============================] - 0s 5ms/step - loss: 0.6000 - accuracy: 0.7710 - precision: 0.8156 - recall: 0.7419 - val_loss: 0.2140 - val_accuracy: 0.9487 - val_precision: 0.9595 - val_recall: 0.9103 - lr: 0.0100\n",
            "Epoch 4/100\n",
            " 1/10 [==>...........................] - ETA: 0s - loss: 0.2615 - accuracy: 0.9375 - precision: 0.9677 - recall: 0.9375\n",
            "Epoch 4: val_accuracy did not improve from 0.94872\n",
            "10/10 [==============================] - 0s 4ms/step - loss: 0.3051 - accuracy: 0.8935 - precision: 0.9037 - recall: 0.8774 - val_loss: 0.1627 - val_accuracy: 0.9359 - val_precision: 0.9359 - val_recall: 0.9359 - lr: 0.0100\n",
            "Epoch 5/100\n",
            " 1/10 [==>...........................] - ETA: 0s - loss: 0.2821 - accuracy: 0.8750 - precision: 0.8750 - recall: 0.8750\n",
            "Epoch 5: val_accuracy did not improve from 0.94872\n"
          ]
        },
        {
          "name": "stderr",
          "output_type": "stream",
          "text": [
            "d:\\Repositories\\python-workspaces\\deep-learning-tests\\.venv\\Lib\\site-packages\\keras\\src\\engine\\training.py:3103: UserWarning: You are saving your model as an HDF5 file via `model.save()`. This file format is considered legacy. We recommend using instead the native Keras format, e.g. `model.save('my_model.keras')`.\n",
            "  saving_api.save_model(\n"
          ]
        },
        {
          "name": "stdout",
          "output_type": "stream",
          "text": [
            "10/10 [==============================] - 0s 4ms/step - loss: 0.2857 - accuracy: 0.8903 - precision: 0.8974 - recall: 0.8742 - val_loss: 0.1190 - val_accuracy: 0.9487 - val_precision: 0.9610 - val_recall: 0.9487 - lr: 0.0100\n",
            "Epoch 6/100\n",
            " 1/10 [==>...........................] - ETA: 0s - loss: 0.1124 - accuracy: 0.9688 - precision: 0.9688 - recall: 0.9688\n",
            "Epoch 6: val_accuracy did not improve from 0.94872\n",
            "10/10 [==============================] - 0s 4ms/step - loss: 0.2507 - accuracy: 0.8903 - precision: 0.9016 - recall: 0.8871 - val_loss: 0.2384 - val_accuracy: 0.9359 - val_precision: 0.9359 - val_recall: 0.9359 - lr: 0.0100\n"
          ]
        }
      ],
      "source": [
        "history = model.fit(X_train, y_train, batch_size=32,epochs=100, validation_data=(X_test, y_test),callbacks=[MCP,ES,RLP],verbose=1)"
      ]
    },
    {
      "attachments": {},
      "cell_type": "markdown",
      "metadata": {
        "id": "-Dw9vP9R0rBC"
      },
      "source": [
        "#3. CNN evaluation"
      ]
    },
    {
      "cell_type": "code",
      "execution_count": 21,
      "metadata": {
        "colab": {
          "base_uri": "https://localhost:8080/"
        },
        "id": "MOBo5Kk8yt2S",
        "outputId": "98671496-5e1c-4f1b-84bb-2006251d8f1a"
      },
      "outputs": [
        {
          "name": "stdout",
          "output_type": "stream",
          "text": [
            "3/3 - 0s - loss: 0.2140 - accuracy: 0.9487 - precision: 0.9595 - recall: 0.9103 - 20ms/epoch - 7ms/step\n"
          ]
        },
        {
          "data": {
            "text/plain": [
              "[0.21402493119239807,\n",
              " 0.9487179517745972,\n",
              " 0.9594594836235046,\n",
              " 0.9102563858032227]"
            ]
          },
          "execution_count": 21,
          "metadata": {},
          "output_type": "execute_result"
        }
      ],
      "source": [
        "model.evaluate(X_test, y_test, verbose=2)"
      ]
    },
    {
      "cell_type": "code",
      "execution_count": 22,
      "metadata": {
        "colab": {
          "base_uri": "https://localhost:8080/",
          "height": 790
        },
        "id": "ruqORYd_zRVD",
        "outputId": "f05c927e-6b9e-4591-eedd-f6741810cb0d"
      },
      "outputs": [
        {
          "data": {
            "image/png": "[encoded data removed]",
            "text/plain": [
              "<Figure size 1000x400 with 1 Axes>"
            ]
          },
          "metadata": {},
          "output_type": "display_data"
        },
        {
          "data": {
            "text/plain": [
              "<Figure size 2000x827 with 0 Axes>"
            ]
          },
          "metadata": {},
          "output_type": "display_data"
        },
        {
          "data": {
            "image/png": "[encoded data removed]",
            "text/plain": [
              "<Figure size 1000x400 with 1 Axes>"
            ]
          },
          "metadata": {},
          "output_type": "display_data"
        }
      ],
      "source": [
        "acc = history.history['accuracy']\n",
        "val_acc = history.history['val_accuracy']\n",
        "loss = history.history['loss']\n",
        "val_loss = history.history['val_loss']\n",
        "epochs = range(1, len(acc) + 1)\n",
        "\n",
        "plt.figure(figsize=(10, 4))\n",
        "plt.plot(epochs, acc, 'b', label='Training accuracy')\n",
        "plt.plot(epochs, val_acc, 'r', label='Validation accuracy')\n",
        "plt.title('Training and validation accuracy')\n",
        "plt.legend() \n",
        "plt.savefig('Training and validation accuracy partial rot.png',dpi=200)\n",
        "plt.figure()\n",
        "\n",
        "plt.figure(figsize=(10, 4))\n",
        "plt.plot(epochs, loss, 'b', label='Training loss')\n",
        "plt.plot(epochs, val_loss, 'r', label='Validation loss')\n",
        "plt.title('Training and validation loss')\n",
        "plt.legend()\n",
        "plt.show()"
      ]
    },
    {
      "cell_type": "code",
      "execution_count": 23,
      "metadata": {
        "colab": {
          "base_uri": "https://localhost:8080/"
        },
        "id": "EItlVQkF0RhD",
        "outputId": "dbac0ee1-f107-4894-b170-3da40e99a363"
      },
      "outputs": [
        {
          "name": "stdout",
          "output_type": "stream",
          "text": [
            "3/3 [==============================] - 0s 0s/step\n"
          ]
        }
      ],
      "source": [
        "predictions = np.argmax(model.predict(X_test), axis=1)\n",
        "actual = np.argmax(y_test, axis=1)"
      ]
    },
    {
      "cell_type": "code",
      "execution_count": 24,
      "metadata": {
        "colab": {
          "base_uri": "https://localhost:8080/",
          "height": 688
        },
        "id": "4zGv7Y__z6ha",
        "outputId": "982279ea-2384-4c0e-ead8-dbba1469ec49"
      },
      "outputs": [
        {
          "data": {
            "image/png": "[encoded data removed]",
            "text/plain": [
              "<Figure size 800x800 with 2 Axes>"
            ]
          },
          "metadata": {},
          "output_type": "display_data"
        }
      ],
      "source": [
        "plt.figure(figsize=(8, 8))\n",
        "cm = confusion_matrix(actual, predictions)\n",
        "g = sns.heatmap(cm, annot=True, fmt='.0f')\n",
        "g.set_xticklabels(class_mapping)\n",
        "g.set_yticklabels(class_mapping)\n",
        "plt.show()"
      ]
    },
    {
      "cell_type": "code",
      "execution_count": 25,
      "metadata": {
        "colab": {
          "base_uri": "https://localhost:8080/"
        },
        "id": "v8KlCwfc0RNT",
        "outputId": "bf2af898-550b-4ba2-b3d0-614ec0e2c8b7"
      },
      "outputs": [
        {
          "name": "stdout",
          "output_type": "stream",
          "text": [
            "              precision    recall  f1-score   support\n",
            "\n",
            "           0       0.87      1.00      0.93        13\n",
            "           1       1.00      0.82      0.90        11\n",
            "           2       1.00      1.00      1.00        16\n",
            "           3       1.00      1.00      1.00        15\n",
            "           4       1.00      1.00      1.00         6\n",
            "           5       1.00      1.00      1.00         6\n",
            "           6       1.00      0.67      0.80         6\n",
            "           7       0.71      1.00      0.83         5\n",
            "\n",
            "    accuracy                           0.95        78\n",
            "   macro avg       0.95      0.94      0.93        78\n",
            "weighted avg       0.96      0.95      0.95        78\n",
            "\n"
          ]
        }
      ],
      "source": [
        "y_test_temp = np.argmax(y_test, axis=1)\n",
        "print(classification_report(y_test_temp, predictions))"
      ]
    }
  ],
  "metadata": {
    "accelerator": "GPU",
    "colab": {
      "collapsed_sections": [
        "Di3bXlrt_2D7",
        "WLGuNvTetTsb",
        "3M6Y1qJxwevi",
        "5ZkFPdpzvufG",
        "RhPMGvdqL-66",
        "tamGRqsuV__t",
        "w1u2BW-8X__U",
        "IybSGAD-2iUh",
        "bh_mMRWype95"
      ],
      "gpuClass": "premium",
      "machine_shape": "hm",
      "provenance": []
    },
    "gpuClass": "premium",
    "kernelspec": {
      "display_name": "Python 3",
      "name": "python3"
    },
    "language_info": {
      "codemirror_mode": {
        "name": "ipython",
        "version": 3
      },
      "file_extension": ".py",
      "mimetype": "text/x-python",
      "name": "python",
      "nbconvert_exporter": "python",
      "pygments_lexer": "ipython3",
      "version": "3.11.7"
    }
  },
  "nbformat": 4,
  "nbformat_minor": 0
}
