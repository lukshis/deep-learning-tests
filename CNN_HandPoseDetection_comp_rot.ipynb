{
  "cells": [
    {
      "attachments": {},
      "cell_type": "markdown",
      "metadata": {
        "id": "x40eFfHeGdJO"
      },
      "source": [
        "CNN using finger component rotations"
      ]
    },
    {
      "cell_type": "code",
      "execution_count": 1,
      "metadata": {
        "id": "20xJTw8d0EJB"
      },
      "outputs": [
        {
          "name": "stdout",
          "output_type": "stream",
          "text": [
            "WARNING:tensorflow:From d:\\Repositories\\python-workspaces\\deep-learning-tests\\.venv\\Lib\\site-packages\\keras\\src\\losses.py:2976: The name tf.losses.sparse_softmax_cross_entropy is deprecated. Please use tf.compat.v1.losses.sparse_softmax_cross_entropy instead.\n",
            "\n"
          ]
        }
      ],
      "source": [
        "# Seed value\n",
        "seed_value = 1\n",
        "\n",
        "# 1. Set `PYTHONHASHSEED` environment variable at a fixed value\n",
        "import os\n",
        "os.environ['PYTHONHASHSEED']=str(seed_value)\n",
        "seed_value += 1\n",
        "\n",
        "# 2. Set `python` built-in pseudo-random generator at a fixed value\n",
        "import random\n",
        "random.seed(seed_value)\n",
        "seed_value += 1\n",
        "\n",
        "# 3. Set `numpy` pseudo-random generator at a fixed value\n",
        "import numpy as np\n",
        "np.random.seed(seed_value)\n",
        "seed_value += 1\n",
        "\n",
        "# 4. Set `tensorflow` pseudo-random generator at a fixed value\n",
        "import tensorflow as tf\n",
        "tf.random.set_seed(seed_value)"
      ]
    },
    {
      "cell_type": "code",
      "execution_count": 2,
      "metadata": {
        "id": "uPuRX3RTMQ3R"
      },
      "outputs": [],
      "source": [
        "import pandas as pd\n",
        "import matplotlib.pyplot as plt\n",
        "import seaborn as sns\n",
        "from keras.utils import to_categorical\n",
        "from utils.parseData import GetData"
      ]
    },
    {
      "cell_type": "code",
      "execution_count": 3,
      "metadata": {},
      "outputs": [
        {
          "data": {
            "text/html": [
              "<div>\n",
              "<style scoped>\n",
              "    .dataframe tbody tr th:only-of-type {\n",
              "        vertical-align: middle;\n",
              "    }\n",
              "\n",
              "    .dataframe tbody tr th {\n",
              "        vertical-align: top;\n",
              "    }\n",
              "\n",
              "    .dataframe thead th {\n",
              "        text-align: right;\n",
              "    }\n",
              "</style>\n",
              "<table border=\"1\" class=\"dataframe\">\n",
              "  <thead>\n",
              "    <tr style=\"text-align: right;\">\n",
              "      <th></th>\n",
              "      <th>0</th>\n",
              "      <th>1</th>\n",
              "      <th>2</th>\n",
              "      <th>3</th>\n",
              "      <th>4</th>\n",
              "      <th>5</th>\n",
              "      <th>6</th>\n",
              "      <th>7</th>\n",
              "      <th>8</th>\n",
              "      <th>9</th>\n",
              "      <th>...</th>\n",
              "      <th>56</th>\n",
              "      <th>57</th>\n",
              "      <th>58</th>\n",
              "      <th>59</th>\n",
              "      <th>60</th>\n",
              "      <th>61</th>\n",
              "      <th>62</th>\n",
              "      <th>63</th>\n",
              "      <th>64</th>\n",
              "      <th>65</th>\n",
              "    </tr>\n",
              "  </thead>\n",
              "  <tbody>\n",
              "    <tr>\n",
              "      <th>0</th>\n",
              "      <td>122.989521</td>\n",
              "      <td>5.031775</td>\n",
              "      <td>32.396511</td>\n",
              "      <td>154.947733</td>\n",
              "      <td>2.893299</td>\n",
              "      <td>48.086895</td>\n",
              "      <td>145.477856</td>\n",
              "      <td>-8.119449</td>\n",
              "      <td>46.227878</td>\n",
              "      <td>159.286507</td>\n",
              "      <td>...</td>\n",
              "      <td>-67.582787</td>\n",
              "      <td>-125.367848</td>\n",
              "      <td>-72.437172</td>\n",
              "      <td>-50.852973</td>\n",
              "      <td>-96.587422</td>\n",
              "      <td>-79.767570</td>\n",
              "      <td>-67.930081</td>\n",
              "      <td>-70.781021</td>\n",
              "      <td>-70.997175</td>\n",
              "      <td>-87.361629</td>\n",
              "    </tr>\n",
              "    <tr>\n",
              "      <th>1</th>\n",
              "      <td>135.335277</td>\n",
              "      <td>22.762292</td>\n",
              "      <td>47.132208</td>\n",
              "      <td>171.382518</td>\n",
              "      <td>45.664967</td>\n",
              "      <td>57.643169</td>\n",
              "      <td>-179.805451</td>\n",
              "      <td>40.565404</td>\n",
              "      <td>84.301659</td>\n",
              "      <td>-141.818159</td>\n",
              "      <td>...</td>\n",
              "      <td>-102.868148</td>\n",
              "      <td>83.136421</td>\n",
              "      <td>15.529929</td>\n",
              "      <td>90.343455</td>\n",
              "      <td>78.789987</td>\n",
              "      <td>5.173831</td>\n",
              "      <td>90.525847</td>\n",
              "      <td>72.386893</td>\n",
              "      <td>-4.364089</td>\n",
              "      <td>104.625646</td>\n",
              "    </tr>\n",
              "    <tr>\n",
              "      <th>2</th>\n",
              "      <td>141.891296</td>\n",
              "      <td>28.615349</td>\n",
              "      <td>54.489470</td>\n",
              "      <td>-178.385441</td>\n",
              "      <td>47.452724</td>\n",
              "      <td>69.867222</td>\n",
              "      <td>-175.951196</td>\n",
              "      <td>39.809274</td>\n",
              "      <td>87.187351</td>\n",
              "      <td>-148.173224</td>\n",
              "      <td>...</td>\n",
              "      <td>-109.162265</td>\n",
              "      <td>82.213256</td>\n",
              "      <td>36.904574</td>\n",
              "      <td>89.425871</td>\n",
              "      <td>76.610167</td>\n",
              "      <td>22.542002</td>\n",
              "      <td>89.209393</td>\n",
              "      <td>73.080910</td>\n",
              "      <td>-3.183434</td>\n",
              "      <td>110.232384</td>\n",
              "    </tr>\n",
              "    <tr>\n",
              "      <th>3</th>\n",
              "      <td>141.153613</td>\n",
              "      <td>28.042486</td>\n",
              "      <td>53.670653</td>\n",
              "      <td>-179.465062</td>\n",
              "      <td>47.739280</td>\n",
              "      <td>68.566937</td>\n",
              "      <td>-177.858053</td>\n",
              "      <td>40.358214</td>\n",
              "      <td>84.582835</td>\n",
              "      <td>-146.893964</td>\n",
              "      <td>...</td>\n",
              "      <td>-105.087837</td>\n",
              "      <td>83.791429</td>\n",
              "      <td>7.936759</td>\n",
              "      <td>89.145902</td>\n",
              "      <td>79.618323</td>\n",
              "      <td>-2.325866</td>\n",
              "      <td>93.411176</td>\n",
              "      <td>73.203217</td>\n",
              "      <td>-12.320351</td>\n",
              "      <td>108.900585</td>\n",
              "    </tr>\n",
              "    <tr>\n",
              "      <th>4</th>\n",
              "      <td>123.134389</td>\n",
              "      <td>5.315064</td>\n",
              "      <td>32.581669</td>\n",
              "      <td>155.111402</td>\n",
              "      <td>2.412084</td>\n",
              "      <td>48.602000</td>\n",
              "      <td>145.787989</td>\n",
              "      <td>-9.715883</td>\n",
              "      <td>45.043492</td>\n",
              "      <td>160.383255</td>\n",
              "      <td>...</td>\n",
              "      <td>-66.555146</td>\n",
              "      <td>-124.152353</td>\n",
              "      <td>-72.004125</td>\n",
              "      <td>-51.785051</td>\n",
              "      <td>-94.026793</td>\n",
              "      <td>-73.783497</td>\n",
              "      <td>-70.421552</td>\n",
              "      <td>-73.377815</td>\n",
              "      <td>-68.075547</td>\n",
              "      <td>-86.260239</td>\n",
              "    </tr>\n",
              "    <tr>\n",
              "      <th>...</th>\n",
              "      <td>...</td>\n",
              "      <td>...</td>\n",
              "      <td>...</td>\n",
              "      <td>...</td>\n",
              "      <td>...</td>\n",
              "      <td>...</td>\n",
              "      <td>...</td>\n",
              "      <td>...</td>\n",
              "      <td>...</td>\n",
              "      <td>...</td>\n",
              "      <td>...</td>\n",
              "      <td>...</td>\n",
              "      <td>...</td>\n",
              "      <td>...</td>\n",
              "      <td>...</td>\n",
              "      <td>...</td>\n",
              "      <td>...</td>\n",
              "      <td>...</td>\n",
              "      <td>...</td>\n",
              "      <td>...</td>\n",
              "      <td>...</td>\n",
              "    </tr>\n",
              "    <tr>\n",
              "      <th>395</th>\n",
              "      <td>144.559904</td>\n",
              "      <td>30.531501</td>\n",
              "      <td>57.436467</td>\n",
              "      <td>-175.972231</td>\n",
              "      <td>38.421889</td>\n",
              "      <td>73.369061</td>\n",
              "      <td>-173.287146</td>\n",
              "      <td>30.167112</td>\n",
              "      <td>94.943759</td>\n",
              "      <td>-152.545570</td>\n",
              "      <td>...</td>\n",
              "      <td>91.138306</td>\n",
              "      <td>-97.140439</td>\n",
              "      <td>-3.777252</td>\n",
              "      <td>-76.862543</td>\n",
              "      <td>-87.475319</td>\n",
              "      <td>-29.036467</td>\n",
              "      <td>-69.979212</td>\n",
              "      <td>-78.152468</td>\n",
              "      <td>-38.457951</td>\n",
              "      <td>-68.814650</td>\n",
              "    </tr>\n",
              "    <tr>\n",
              "      <th>396</th>\n",
              "      <td>122.329051</td>\n",
              "      <td>3.709277</td>\n",
              "      <td>31.546372</td>\n",
              "      <td>154.015381</td>\n",
              "      <td>2.574144</td>\n",
              "      <td>46.867517</td>\n",
              "      <td>144.710680</td>\n",
              "      <td>-9.949672</td>\n",
              "      <td>43.072004</td>\n",
              "      <td>159.003852</td>\n",
              "      <td>...</td>\n",
              "      <td>-80.622246</td>\n",
              "      <td>-111.452963</td>\n",
              "      <td>-62.597645</td>\n",
              "      <td>-64.120419</td>\n",
              "      <td>-93.659364</td>\n",
              "      <td>-71.270047</td>\n",
              "      <td>-67.264441</td>\n",
              "      <td>62.027796</td>\n",
              "      <td>51.356863</td>\n",
              "      <td>99.237729</td>\n",
              "    </tr>\n",
              "    <tr>\n",
              "      <th>397</th>\n",
              "      <td>124.592251</td>\n",
              "      <td>8.038458</td>\n",
              "      <td>34.421333</td>\n",
              "      <td>156.804631</td>\n",
              "      <td>-0.996085</td>\n",
              "      <td>52.788770</td>\n",
              "      <td>147.237097</td>\n",
              "      <td>-10.483502</td>\n",
              "      <td>52.864645</td>\n",
              "      <td>161.850102</td>\n",
              "      <td>...</td>\n",
              "      <td>98.000363</td>\n",
              "      <td>-100.673949</td>\n",
              "      <td>-30.500347</td>\n",
              "      <td>-72.673170</td>\n",
              "      <td>-88.473434</td>\n",
              "      <td>-30.455098</td>\n",
              "      <td>-71.664444</td>\n",
              "      <td>67.206452</td>\n",
              "      <td>33.679707</td>\n",
              "      <td>95.859042</td>\n",
              "    </tr>\n",
              "    <tr>\n",
              "      <th>398</th>\n",
              "      <td>144.822964</td>\n",
              "      <td>30.707851</td>\n",
              "      <td>57.725794</td>\n",
              "      <td>-174.122997</td>\n",
              "      <td>47.373642</td>\n",
              "      <td>74.818035</td>\n",
              "      <td>-156.024064</td>\n",
              "      <td>33.054520</td>\n",
              "      <td>116.362659</td>\n",
              "      <td>-132.964345</td>\n",
              "      <td>...</td>\n",
              "      <td>91.200667</td>\n",
              "      <td>-106.541768</td>\n",
              "      <td>-51.174879</td>\n",
              "      <td>-68.090467</td>\n",
              "      <td>-90.323664</td>\n",
              "      <td>-60.710699</td>\n",
              "      <td>-70.750265</td>\n",
              "      <td>-75.846721</td>\n",
              "      <td>-59.326100</td>\n",
              "      <td>-76.396320</td>\n",
              "    </tr>\n",
              "    <tr>\n",
              "      <th>399</th>\n",
              "      <td>123.063759</td>\n",
              "      <td>5.177244</td>\n",
              "      <td>32.491455</td>\n",
              "      <td>155.252668</td>\n",
              "      <td>6.410441</td>\n",
              "      <td>46.603057</td>\n",
              "      <td>145.668439</td>\n",
              "      <td>-4.404037</td>\n",
              "      <td>44.977644</td>\n",
              "      <td>157.872921</td>\n",
              "      <td>...</td>\n",
              "      <td>-73.758231</td>\n",
              "      <td>-114.218169</td>\n",
              "      <td>-64.645665</td>\n",
              "      <td>-59.181514</td>\n",
              "      <td>-95.804275</td>\n",
              "      <td>-76.414563</td>\n",
              "      <td>-63.492381</td>\n",
              "      <td>-11.064287</td>\n",
              "      <td>71.413323</td>\n",
              "      <td>21.231674</td>\n",
              "    </tr>\n",
              "  </tbody>\n",
              "</table>\n",
              "<p>400 rows × 66 columns</p>\n",
              "</div>"
            ],
            "text/plain": [
              "             0          1          2           3          4          5   \\\n",
              "0    122.989521   5.031775  32.396511  154.947733   2.893299  48.086895   \n",
              "1    135.335277  22.762292  47.132208  171.382518  45.664967  57.643169   \n",
              "2    141.891296  28.615349  54.489470 -178.385441  47.452724  69.867222   \n",
              "3    141.153613  28.042486  53.670653 -179.465062  47.739280  68.566937   \n",
              "4    123.134389   5.315064  32.581669  155.111402   2.412084  48.602000   \n",
              "..          ...        ...        ...         ...        ...        ...   \n",
              "395  144.559904  30.531501  57.436467 -175.972231  38.421889  73.369061   \n",
              "396  122.329051   3.709277  31.546372  154.015381   2.574144  46.867517   \n",
              "397  124.592251   8.038458  34.421333  156.804631  -0.996085  52.788770   \n",
              "398  144.822964  30.707851  57.725794 -174.122997  47.373642  74.818035   \n",
              "399  123.063759   5.177244  32.491455  155.252668   6.410441  46.603057   \n",
              "\n",
              "             6          7           8           9   ...          56  \\\n",
              "0    145.477856  -8.119449   46.227878  159.286507  ...  -67.582787   \n",
              "1   -179.805451  40.565404   84.301659 -141.818159  ... -102.868148   \n",
              "2   -175.951196  39.809274   87.187351 -148.173224  ... -109.162265   \n",
              "3   -177.858053  40.358214   84.582835 -146.893964  ... -105.087837   \n",
              "4    145.787989  -9.715883   45.043492  160.383255  ...  -66.555146   \n",
              "..          ...        ...         ...         ...  ...         ...   \n",
              "395 -173.287146  30.167112   94.943759 -152.545570  ...   91.138306   \n",
              "396  144.710680  -9.949672   43.072004  159.003852  ...  -80.622246   \n",
              "397  147.237097 -10.483502   52.864645  161.850102  ...   98.000363   \n",
              "398 -156.024064  33.054520  116.362659 -132.964345  ...   91.200667   \n",
              "399  145.668439  -4.404037   44.977644  157.872921  ...  -73.758231   \n",
              "\n",
              "             57         58         59         60         61         62  \\\n",
              "0   -125.367848 -72.437172 -50.852973 -96.587422 -79.767570 -67.930081   \n",
              "1     83.136421  15.529929  90.343455  78.789987   5.173831  90.525847   \n",
              "2     82.213256  36.904574  89.425871  76.610167  22.542002  89.209393   \n",
              "3     83.791429   7.936759  89.145902  79.618323  -2.325866  93.411176   \n",
              "4   -124.152353 -72.004125 -51.785051 -94.026793 -73.783497 -70.421552   \n",
              "..          ...        ...        ...        ...        ...        ...   \n",
              "395  -97.140439  -3.777252 -76.862543 -87.475319 -29.036467 -69.979212   \n",
              "396 -111.452963 -62.597645 -64.120419 -93.659364 -71.270047 -67.264441   \n",
              "397 -100.673949 -30.500347 -72.673170 -88.473434 -30.455098 -71.664444   \n",
              "398 -106.541768 -51.174879 -68.090467 -90.323664 -60.710699 -70.750265   \n",
              "399 -114.218169 -64.645665 -59.181514 -95.804275 -76.414563 -63.492381   \n",
              "\n",
              "            63         64          65  \n",
              "0   -70.781021 -70.997175  -87.361629  \n",
              "1    72.386893  -4.364089  104.625646  \n",
              "2    73.080910  -3.183434  110.232384  \n",
              "3    73.203217 -12.320351  108.900585  \n",
              "4   -73.377815 -68.075547  -86.260239  \n",
              "..         ...        ...         ...  \n",
              "395 -78.152468 -38.457951  -68.814650  \n",
              "396  62.027796  51.356863   99.237729  \n",
              "397  67.206452  33.679707   95.859042  \n",
              "398 -75.846721 -59.326100  -76.396320  \n",
              "399 -11.064287  71.413323   21.231674  \n",
              "\n",
              "[400 rows x 66 columns]"
            ]
          },
          "execution_count": 3,
          "metadata": {},
          "output_type": "execute_result"
        }
      ],
      "source": [
        "fileNames = 'comp_rot'\n",
        "path = \"./data/\"\n",
        "labels, data = GetData(path=path, augment=False, loc=False, w_space=False)\n",
        "\n",
        "df = pd.DataFrame(data) # for visualising\n",
        "df"
      ]
    },
    {
      "cell_type": "code",
      "execution_count": 4,
      "metadata": {
        "id": "KAPMKNRsYO77"
      },
      "outputs": [],
      "source": [
        "from sklearn.model_selection import train_test_split\n",
        "X_train, X_test, y_train, y_test = train_test_split(data, labels, test_size=0.2, random_state=2, stratify=labels)"
      ]
    },
    {
      "cell_type": "code",
      "execution_count": 5,
      "metadata": {
        "colab": {
          "base_uri": "https://localhost:8080/",
          "height": 701
        },
        "id": "W6LNY3Rb3adE",
        "outputId": "45a4d9de-331f-4878-dd93-fa8bb8378cbe"
      },
      "outputs": [
        {
          "data": {
            "image/png": "[encoded data removed]",
            "text/plain": [
              "<Figure size 2000x827 with 1 Axes>"
            ]
          },
          "metadata": {},
          "output_type": "display_data"
        }
      ],
      "source": [
        "sns.set(rc={'figure.figsize':(20,8.27)})\n",
        "sns.set_style(\"ticks\")\n",
        "sns.color_palette(\"hls\", 8)\n",
        "cat = sns.countplot(x=y_train.reshape(-1))"
      ]
    },
    {
      "cell_type": "code",
      "execution_count": 6,
      "metadata": {
        "colab": {
          "base_uri": "https://localhost:8080/"
        },
        "id": "lBUN-OaGcCrK",
        "outputId": "af9b0390-e77c-4788-9df2-0e7192acad5c"
      },
      "outputs": [
        {
          "name": "stdout",
          "output_type": "stream",
          "text": [
            "X_train shape: (320, 66)\n",
            "y_train shape: (320, 1)\n",
            "\n",
            "X_test shape: (80, 66)\n",
            "y_test shape: (80, 1)\n"
          ]
        }
      ],
      "source": [
        "print(\"X_train shape: {}\".format(X_train.shape))\n",
        "print(\"y_train shape: {}\".format(y_train.shape))\n",
        "print(\"\")\n",
        "print(\"X_test shape: {}\".format(X_test.shape))\n",
        "print(\"y_test shape: {}\".format(y_test.shape))"
      ]
    },
    {
      "attachments": {},
      "cell_type": "markdown",
      "metadata": {
        "id": "qtvRGoAqq-45"
      },
      "source": [
        "Changing labels shape to categorical: "
      ]
    },
    {
      "cell_type": "code",
      "execution_count": 7,
      "metadata": {
        "colab": {
          "base_uri": "https://localhost:8080/"
        },
        "id": "mjHK2Ye-Lv6w",
        "outputId": "7c68aac4-8468-4e50-e1ac-2ed2abfcf5ab"
      },
      "outputs": [
        {
          "data": {
            "text/plain": [
              "array([3.])"
            ]
          },
          "execution_count": 7,
          "metadata": {},
          "output_type": "execute_result"
        }
      ],
      "source": [
        "y_train[0]"
      ]
    },
    {
      "cell_type": "code",
      "execution_count": 8,
      "metadata": {
        "id": "sBdIbjiHLlIl"
      },
      "outputs": [],
      "source": [
        "y_train = to_categorical(y_train)\n",
        "y_test = to_categorical(y_test)"
      ]
    },
    {
      "cell_type": "code",
      "execution_count": 9,
      "metadata": {
        "colab": {
          "base_uri": "https://localhost:8080/"
        },
        "id": "l08iFFEaMVFc",
        "outputId": "4966db94-f6e9-4d06-8b3d-d59887c0c5f4"
      },
      "outputs": [
        {
          "data": {
            "text/plain": [
              "array([0., 0., 0., 1., 0., 0., 0., 0.], dtype=float32)"
            ]
          },
          "execution_count": 9,
          "metadata": {},
          "output_type": "execute_result"
        }
      ],
      "source": [
        "y_train[0]"
      ]
    },
    {
      "cell_type": "code",
      "execution_count": 10,
      "metadata": {
        "colab": {
          "base_uri": "https://localhost:8080/"
        },
        "id": "kNdMwcxOcF75",
        "outputId": "7df00c38-1cb8-48ea-e6b2-a23680b2feb1"
      },
      "outputs": [
        {
          "name": "stdout",
          "output_type": "stream",
          "text": [
            "y_train shape: (320, 8)\n",
            "y_test shape: (80, 8)\n"
          ]
        }
      ],
      "source": [
        "print(\"y_train shape: {}\".format(y_train.shape))\n",
        "print(\"y_test shape: {}\".format(y_test.shape))"
      ]
    },
    {
      "cell_type": "code",
      "execution_count": 11,
      "metadata": {
        "id": "4-NqVgArxZpV"
      },
      "outputs": [],
      "source": [
        "X_train = np.expand_dims(X_train, -1)\n",
        "X_test = np.expand_dims(X_test, -1)"
      ]
    },
    {
      "cell_type": "code",
      "execution_count": 12,
      "metadata": {
        "colab": {
          "base_uri": "https://localhost:8080/"
        },
        "id": "qrDuwyqcxjcN",
        "outputId": "84ad19a3-772c-4944-d561-2920d6076ba7"
      },
      "outputs": [
        {
          "name": "stdout",
          "output_type": "stream",
          "text": [
            "X_train shape: (320, 66, 1)\n",
            "X_test shape: (80, 66, 1)\n"
          ]
        }
      ],
      "source": [
        "print(\"X_train shape: {}\".format(X_train.shape))\n",
        "print(\"X_test shape: {}\".format(X_test.shape))"
      ]
    },
    {
      "cell_type": "code",
      "execution_count": 13,
      "metadata": {
        "id": "DrdJlXc_6vYp"
      },
      "outputs": [],
      "source": [
        "class_mapping = ['thumbs_up','thumbs_down','ok','victory', 'horns', 'phone', 'one', 'point']\n",
        "num_classes = 8"
      ]
    },
    {
      "attachments": {},
      "cell_type": "markdown",
      "metadata": {
        "id": "pPltiJu5uwk5"
      },
      "source": [
        "#2. Creating and training CNN"
      ]
    },
    {
      "cell_type": "code",
      "execution_count": 14,
      "metadata": {
        "id": "kQQ_E9BDu22d"
      },
      "outputs": [],
      "source": [
        "import keras\n",
        "from keras import layers  \n",
        "from keras import models\n",
        "from keras import callbacks\n",
        "from sklearn.metrics import confusion_matrix\n",
        "from sklearn.metrics import classification_report"
      ]
    },
    {
      "cell_type": "code",
      "execution_count": 15,
      "metadata": {
        "id": "XB26lE4Cs2J6"
      },
      "outputs": [],
      "source": [
        "def create_1D_model():\n",
        "  model = models.Sequential()\n",
        "\n",
        "  model.add(layers.Conv1D(32, 3, input_shape=X_train.shape[1:3], activation='relu', ))\n",
        "  model.add(layers.Conv1D(16, 1, activation='relu', ))\n",
        "  model.add(layers.Dropout(0.2))\n",
        "  model.add(layers.MaxPooling1D(pool_size=2))\n",
        "\n",
        "  model.add(layers.Flatten())\n",
        "\n",
        "  model.add(layers.Dense(64, activation='relu'))\n",
        "  model.add(layers.Dense(num_classes, activation='softmax'))\n",
        "\n",
        "  return model"
      ]
    },
    {
      "cell_type": "code",
      "execution_count": 16,
      "metadata": {
        "id": "Z3we38y4uVO2"
      },
      "outputs": [
        {
          "name": "stdout",
          "output_type": "stream",
          "text": [
            "WARNING:tensorflow:From d:\\Repositories\\python-workspaces\\deep-learning-tests\\.venv\\Lib\\site-packages\\keras\\src\\backend.py:873: The name tf.get_default_graph is deprecated. Please use tf.compat.v1.get_default_graph instead.\n",
            "\n",
            "WARNING:tensorflow:From d:\\Repositories\\python-workspaces\\deep-learning-tests\\.venv\\Lib\\site-packages\\keras\\src\\backend.py:6642: The name tf.nn.max_pool is deprecated. Please use tf.nn.max_pool2d instead.\n",
            "\n"
          ]
        }
      ],
      "source": [
        "model = create_1D_model()\n",
        "model.compile(optimizer=keras.optimizers.SGD(),loss='categorical_crossentropy',metrics=['accuracy', 'Precision', 'Recall'])"
      ]
    },
    {
      "cell_type": "code",
      "execution_count": 17,
      "metadata": {
        "id": "-RqVuh2jxv6h"
      },
      "outputs": [],
      "source": [
        "MCP = keras.callbacks.ModelCheckpoint('./results/' + 'model_' + fileNames + '.h5',verbose=1,save_best_only=True,monitor='val_accuracy',mode='max')\n",
        "ES = keras.callbacks.EarlyStopping(monitor='val_accuracy',min_delta=0,verbose=0,restore_best_weights = True,patience=3,mode='max')\n",
        "RLP = keras.callbacks.ReduceLROnPlateau(monitor='val_loss',patience=3,factor=0.2,min_lr=0.0001)"
      ]
    },
    {
      "cell_type": "code",
      "execution_count": 18,
      "metadata": {
        "colab": {
          "base_uri": "https://localhost:8080/"
        },
        "id": "QFM4H7pfyDnq",
        "outputId": "b0bfb17a-ed85-43eb-d6bc-1deef3b0ceda"
      },
      "outputs": [
        {
          "name": "stdout",
          "output_type": "stream",
          "text": [
            "Epoch 1/100\n",
            "WARNING:tensorflow:From d:\\Repositories\\python-workspaces\\deep-learning-tests\\.venv\\Lib\\site-packages\\keras\\src\\utils\\tf_utils.py:492: The name tf.ragged.RaggedTensorValue is deprecated. Please use tf.compat.v1.ragged.RaggedTensorValue instead.\n",
            "\n",
            "WARNING:tensorflow:From d:\\Repositories\\python-workspaces\\deep-learning-tests\\.venv\\Lib\\site-packages\\keras\\src\\engine\\base_layer_utils.py:384: The name tf.executing_eagerly_outside_functions is deprecated. Please use tf.compat.v1.executing_eagerly_outside_functions instead.\n",
            "\n",
            " 1/10 [==>...........................] - ETA: 4s - loss: 29.8838 - accuracy: 0.0312 - precision: 0.0312 - recall: 0.0312\n",
            "Epoch 1: val_accuracy improved from -inf to 0.73750, saving model to ./results\\model_comp_rot.h5\n",
            "10/10 [==============================] - 1s 23ms/step - loss: 8.9727 - accuracy: 0.4000 - precision: 0.4241 - recall: 0.3406 - val_loss: 0.6384 - val_accuracy: 0.7375 - val_precision: 0.7971 - val_recall: 0.6875 - lr: 0.0100\n",
            "Epoch 2/100\n",
            " 1/10 [==>...........................] - ETA: 0s - loss: 0.7600 - accuracy: 0.7812 - precision: 0.8571 - recall: 0.7500\n",
            "Epoch 2: val_accuracy improved from 0.73750 to 0.92500, saving model to ./results\\model_comp_rot.h5\n",
            "10/10 [==============================] - 0s 6ms/step - loss: 0.6479 - accuracy: 0.7531 - precision: 0.8255 - recall: 0.7094 - val_loss: 0.3051 - val_accuracy: 0.9250 - val_precision: 0.9474 - val_recall: 0.9000 - lr: 0.0100\n",
            "Epoch 3/100\n",
            " 1/10 [==>...........................] - ETA: 0s - loss: 0.3676 - accuracy: 0.8438 - precision: 0.8621 - recall: 0.7812\n",
            "Epoch 3: val_accuracy improved from 0.92500 to 0.93750, saving model to ./results\\model_comp_rot.h5\n",
            "10/10 [==============================] - 0s 5ms/step - loss: 0.4254 - accuracy: 0.8562 - precision: 0.8805 - recall: 0.8062 - val_loss: 0.1615 - val_accuracy: 0.9375 - val_precision: 0.9494 - val_recall: 0.9375 - lr: 0.0100\n",
            "Epoch 4/100\n",
            " 1/10 [==>...........................] - ETA: 0s - loss: 0.1598 - accuracy: 0.9375 - precision: 0.9375 - recall: 0.9375\n",
            "Epoch 4: val_accuracy did not improve from 0.93750\n",
            "10/10 [==============================] - 0s 4ms/step - loss: 0.3910 - accuracy: 0.8719 - precision: 0.8734 - recall: 0.8625 - val_loss: 0.2382 - val_accuracy: 0.8625 - val_precision: 0.8718 - val_recall: 0.8500 - lr: 0.0100\n",
            "Epoch 5/100\n",
            " 1/10 [==>...........................] - ETA: 0s - loss: 0.2490 - accuracy: 0.9062 - precision: 0.9032 - recall: 0.8750"
          ]
        },
        {
          "name": "stderr",
          "output_type": "stream",
          "text": [
            "d:\\Repositories\\python-workspaces\\deep-learning-tests\\.venv\\Lib\\site-packages\\keras\\src\\engine\\training.py:3103: UserWarning: You are saving your model as an HDF5 file via `model.save()`. This file format is considered legacy. We recommend using instead the native Keras format, e.g. `model.save('my_model.keras')`.\n",
            "  saving_api.save_model(\n"
          ]
        },
        {
          "name": "stdout",
          "output_type": "stream",
          "text": [
            "\n",
            "Epoch 5: val_accuracy did not improve from 0.93750\n",
            "10/10 [==============================] - 0s 4ms/step - loss: 0.2216 - accuracy: 0.9250 - precision: 0.9295 - recall: 0.9062 - val_loss: 0.1994 - val_accuracy: 0.9000 - val_precision: 0.8987 - val_recall: 0.8875 - lr: 0.0100\n",
            "Epoch 6/100\n",
            " 1/10 [==>...........................] - ETA: 0s - loss: 0.1862 - accuracy: 0.9375 - precision: 0.9677 - recall: 0.9375\n",
            "Epoch 6: val_accuracy improved from 0.93750 to 0.98750, saving model to ./results\\model_comp_rot.h5\n",
            "10/10 [==============================] - 0s 5ms/step - loss: 0.2974 - accuracy: 0.8844 - precision: 0.8885 - recall: 0.8719 - val_loss: 0.0928 - val_accuracy: 0.9875 - val_precision: 0.9875 - val_recall: 0.9875 - lr: 0.0100\n",
            "Epoch 7/100\n",
            " 1/10 [==>...........................] - ETA: 0s - loss: 0.1939 - accuracy: 0.9688 - precision: 0.9677 - recall: 0.9375\n",
            "Epoch 7: val_accuracy did not improve from 0.98750\n",
            "10/10 [==============================] - 0s 4ms/step - loss: 0.2177 - accuracy: 0.9344 - precision: 0.9363 - recall: 0.9187 - val_loss: 0.0819 - val_accuracy: 0.9875 - val_precision: 0.9875 - val_recall: 0.9875 - lr: 0.0100\n",
            "Epoch 8/100\n",
            " 1/10 [==>...........................] - ETA: 0s - loss: 0.1275 - accuracy: 0.9375 - precision: 0.9667 - recall: 0.9062\n",
            "Epoch 8: val_accuracy improved from 0.98750 to 1.00000, saving model to ./results\\model_comp_rot.h5\n",
            "10/10 [==============================] - 0s 5ms/step - loss: 0.2511 - accuracy: 0.8969 - precision: 0.9016 - recall: 0.8875 - val_loss: 0.0625 - val_accuracy: 1.0000 - val_precision: 1.0000 - val_recall: 1.0000 - lr: 0.0100\n",
            "Epoch 9/100\n",
            " 1/10 [==>...........................] - ETA: 0s - loss: 0.0870 - accuracy: 0.9688 - precision: 0.9688 - recall: 0.9688\n",
            "Epoch 9: val_accuracy did not improve from 1.00000\n",
            "10/10 [==============================] - 0s 4ms/step - loss: 0.1991 - accuracy: 0.9250 - precision: 0.9302 - recall: 0.9156 - val_loss: 0.0704 - val_accuracy: 0.9875 - val_precision: 0.9875 - val_recall: 0.9875 - lr: 0.0100\n",
            "Epoch 10/100\n",
            " 1/10 [==>...........................] - ETA: 0s - loss: 0.1449 - accuracy: 0.9688 - precision: 0.9688 - recall: 0.9688\n",
            "Epoch 10: val_accuracy did not improve from 1.00000\n",
            "10/10 [==============================] - 0s 4ms/step - loss: 0.1325 - accuracy: 0.9563 - precision: 0.9591 - recall: 0.9531 - val_loss: 0.1282 - val_accuracy: 0.9375 - val_precision: 0.9375 - val_recall: 0.9375 - lr: 0.0100\n",
            "Epoch 11/100\n",
            " 1/10 [==>...........................] - ETA: 0s - loss: 0.1215 - accuracy: 0.9688 - precision: 0.9688 - recall: 0.9688\n",
            "Epoch 11: val_accuracy did not improve from 1.00000\n",
            "10/10 [==============================] - 0s 4ms/step - loss: 0.1678 - accuracy: 0.9281 - precision: 0.9340 - recall: 0.9281 - val_loss: 0.0531 - val_accuracy: 0.9875 - val_precision: 0.9875 - val_recall: 0.9875 - lr: 0.0100\n"
          ]
        }
      ],
      "source": [
        "history = model.fit(X_train, y_train, batch_size=32,epochs=100, validation_data=(X_test, y_test),callbacks=[MCP,ES,RLP],verbose=1)"
      ]
    },
    {
      "attachments": {},
      "cell_type": "markdown",
      "metadata": {
        "id": "-Dw9vP9R0rBC"
      },
      "source": [
        "#3. CNN evaluation"
      ]
    },
    {
      "cell_type": "code",
      "execution_count": 19,
      "metadata": {
        "colab": {
          "base_uri": "https://localhost:8080/"
        },
        "id": "MOBo5Kk8yt2S",
        "outputId": "98671496-5e1c-4f1b-84bb-2006251d8f1a"
      },
      "outputs": [
        {
          "name": "stdout",
          "output_type": "stream",
          "text": [
            "3/3 - 0s - loss: 0.0625 - accuracy: 1.0000 - precision: 1.0000 - recall: 1.0000 - 16ms/epoch - 5ms/step\n"
          ]
        },
        {
          "data": {
            "text/plain": [
              "[0.06246175616979599, 1.0, 1.0, 1.0]"
            ]
          },
          "execution_count": 19,
          "metadata": {},
          "output_type": "execute_result"
        }
      ],
      "source": [
        "model.evaluate(X_test, y_test, verbose=2)"
      ]
    },
    {
      "cell_type": "code",
      "execution_count": 20,
      "metadata": {
        "colab": {
          "base_uri": "https://localhost:8080/",
          "height": 790
        },
        "id": "ruqORYd_zRVD",
        "outputId": "f05c927e-6b9e-4591-eedd-f6741810cb0d"
      },
      "outputs": [
        {
          "data": {
            "image/png": "[encoded data removed]",
            "text/plain": [
              "<Figure size 1000x400 with 1 Axes>"
            ]
          },
          "metadata": {},
          "output_type": "display_data"
        },
        {
          "data": {
            "text/plain": [
              "<Figure size 2000x827 with 0 Axes>"
            ]
          },
          "metadata": {},
          "output_type": "display_data"
        },
        {
          "data": {
            "image/png": "[encoded data removed]",
            "text/plain": [
              "<Figure size 1000x400 with 1 Axes>"
            ]
          },
          "metadata": {},
          "output_type": "display_data"
        }
      ],
      "source": [
        "acc = history.history['accuracy']\n",
        "val_acc = history.history['val_accuracy']\n",
        "loss = history.history['loss']\n",
        "val_loss = history.history['val_loss']\n",
        "epochs = range(1, len(acc) + 1)\n",
        "\n",
        "plt.figure(figsize=(10, 4))\n",
        "plt.plot(epochs, acc, 'b', label='Training accuracy')\n",
        "plt.plot(epochs, val_acc, 'r', label='Validation accuracy')\n",
        "plt.title('Training and validation accuracy (' + fileNames + ')')\n",
        "plt.legend() \n",
        "plt.savefig('./results/acc_' + fileNames + '.png',dpi=200)\n",
        "plt.figure()\n",
        "\n",
        "plt.figure(figsize=(10, 4))\n",
        "plt.plot(epochs, loss, 'b', label='Training loss')\n",
        "plt.plot(epochs, val_loss, 'r', label='Validation loss')\n",
        "plt.title('Training and validation_loss (' + fileNames + ')')\n",
        "plt.savefig('./results/loss_' + fileNames + '.png',dpi=200)\n",
        "plt.legend()\n",
        "plt.show()"
      ]
    },
    {
      "cell_type": "code",
      "execution_count": 21,
      "metadata": {
        "colab": {
          "base_uri": "https://localhost:8080/"
        },
        "id": "EItlVQkF0RhD",
        "outputId": "dbac0ee1-f107-4894-b170-3da40e99a363"
      },
      "outputs": [
        {
          "name": "stdout",
          "output_type": "stream",
          "text": [
            "3/3 [==============================] - 0s 2ms/step\n"
          ]
        }
      ],
      "source": [
        "predictions = np.argmax(model.predict(X_test), axis=1)\n",
        "actual = np.argmax(y_test, axis=1)"
      ]
    },
    {
      "cell_type": "code",
      "execution_count": 22,
      "metadata": {
        "colab": {
          "base_uri": "https://localhost:8080/",
          "height": 688
        },
        "id": "4zGv7Y__z6ha",
        "outputId": "982279ea-2384-4c0e-ead8-dbba1469ec49"
      },
      "outputs": [
        {
          "data": {
            "image/png": "[encoded data removed]",
            "text/plain": [
              "<Figure size 800x800 with 2 Axes>"
            ]
          },
          "metadata": {},
          "output_type": "display_data"
        }
      ],
      "source": [
        "plt.figure(figsize=(8, 8))\n",
        "cm = confusion_matrix(actual, predictions)\n",
        "g = sns.heatmap(cm, annot=True, fmt='.0f')\n",
        "g.set_xticklabels(class_mapping)\n",
        "g.set_yticklabels(class_mapping)\n",
        "plt.title(fileNames)\n",
        "plt.savefig('./results/confusion_' + fileNames + '.png',dpi=200)\n",
        "plt.show()"
      ]
    },
    {
      "cell_type": "code",
      "execution_count": 23,
      "metadata": {
        "colab": {
          "base_uri": "https://localhost:8080/"
        },
        "id": "v8KlCwfc0RNT",
        "outputId": "bf2af898-550b-4ba2-b3d0-614ec0e2c8b7"
      },
      "outputs": [
        {
          "name": "stdout",
          "output_type": "stream",
          "text": [
            "              precision    recall  f1-score   support\n",
            "\n",
            "           0       1.00      1.00      1.00        12\n",
            "           1       1.00      1.00      1.00        11\n",
            "           2       1.00      1.00      1.00        16\n",
            "           3       1.00      1.00      1.00        15\n",
            "           4       1.00      1.00      1.00         7\n",
            "           5       1.00      1.00      1.00         6\n",
            "           6       1.00      1.00      1.00         6\n",
            "           7       1.00      1.00      1.00         7\n",
            "\n",
            "    accuracy                           1.00        80\n",
            "   macro avg       1.00      1.00      1.00        80\n",
            "weighted avg       1.00      1.00      1.00        80\n",
            "\n"
          ]
        }
      ],
      "source": [
        "y_test_temp = np.argmax(y_test, axis=1)\n",
        "print(classification_report(y_test_temp, predictions))"
      ]
    }
  ],
  "metadata": {
    "accelerator": "GPU",
    "colab": {
      "collapsed_sections": [
        "Di3bXlrt_2D7",
        "WLGuNvTetTsb",
        "3M6Y1qJxwevi",
        "5ZkFPdpzvufG",
        "RhPMGvdqL-66",
        "tamGRqsuV__t",
        "w1u2BW-8X__U",
        "IybSGAD-2iUh",
        "bh_mMRWype95"
      ],
      "gpuClass": "premium",
      "machine_shape": "hm",
      "provenance": []
    },
    "gpuClass": "premium",
    "kernelspec": {
      "display_name": "Python 3",
      "name": "python3"
    },
    "language_info": {
      "codemirror_mode": {
        "name": "ipython",
        "version": 3
      },
      "file_extension": ".py",
      "mimetype": "text/x-python",
      "name": "python",
      "nbconvert_exporter": "python",
      "pygments_lexer": "ipython3",
      "version": "3.11.7"
    }
  },
  "nbformat": 4,
  "nbformat_minor": 0
}
