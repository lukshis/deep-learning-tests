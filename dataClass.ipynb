{
 "cells": [
  {
   "cell_type": "code",
   "execution_count": null,
   "metadata": {},
   "outputs": [],
   "source": [
    "import torch\n",
    "from torch.utils.data import Dataset\n",
    "import numpy as np"
   ]
  },
  {
   "cell_type": "code",
   "execution_count": null,
   "metadata": {},
   "outputs": [],
   "source": [
    "class GestureData(Dataset):\n",
    "    def __init__(self, data):\n",
    "\n",
    "        self.data = data\n",
    "\n",
    "    def __len__(self):\n",
    "        return len(self.data)\n",
    "    \n",
    "    def __getitem__(self, ind):\n",
    "        data_point = self.data[ind]\n",
    "        gesture = data_point['rot']\n",
    "        gesture = np.array[gesture]\n",
    "        gesture = torch.from_numpy(gesture).float()\n",
    "        label = data_point['label']\n",
    "        hand = data_point['hand']\n",
    "        sample = {'gesture' : gesture, 'label' : label, 'hand' : hand}\n",
    "\n",
    "        return sample"
   ]
  }
 ],
 "metadata": {
  "language_info": {
   "name": "python"
  },
  "orig_nbformat": 4
 },
 "nbformat": 4,
 "nbformat_minor": 2
}
