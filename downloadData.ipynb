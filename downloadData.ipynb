{
 "cells": [
  {
   "cell_type": "code",
   "execution_count": 2,
   "metadata": {},
   "outputs": [],
   "source": [
    "import requests\n",
    "import json\n",
    "import os.path as path"
   ]
  },
  {
   "cell_type": "code",
   "execution_count": 3,
   "metadata": {},
   "outputs": [
    {
     "name": "stdout",
     "output_type": "stream",
     "text": [
      "[\"1684996699.json\",\"1684996706.json\",\"1684996712.json\",\"1684996718.json\",\"1684996724.json\",\"1684996730.json\",\"1684996736.json\",\"1684996742.json\",\"1684996749.json\",\"1684996755.json\",\"1684996761.json\",\"1684996768.json\",\"1684996774.json\",\"1684996780.json\",\"1684996787.json\",\"1684996793.json\",\"1684996799.json\",\"1684996813.json\",\"1684996819.json\",\"1684996841.json\",\"1684996847.json\",\"1684996854.json\",\"1684996860.json\",\"1684996867.json\",\"1684996873.json\",\"1684996879.json\",\"1684996885.json\",\"1684996891.json\",\"1684996898.json\",\"1684996904.json\",\"1684996911.json\",\"1684996917.json\",\"1684996923.json\",\"1684996929.json\",\"1684996935.json\",\"1684996941.json\",\"1684996947.json\",\"1684996954.json\",\"1684996960.json\",\"1684996966.json\",\"1684996972.json\",\"1684996979.json\",\"1684996985.json\",\"1684996991.json\",\"1684996997.json\",\"1684997009.json\"]\n"
     ]
    }
   ],
   "source": [
    "url = \"https://vrlab.lt/hands_ml/dataset/files.php\"\n",
    "headers = {'User-Agent': 'Mozilla/5.0 (Macintosh; Intel Mac OS X 10_11_5) AppleWebKit/537.36 (KHTML, like Gecko) Chrome/50.0.2661.102 Safari/537.36'}\n",
    "response = requests.get(url, headers=headers)\n",
    "\n",
    "print(response.content.decode())"
   ]
  },
  {
   "cell_type": "code",
   "execution_count": 4,
   "metadata": {},
   "outputs": [
    {
     "name": "stdout",
     "output_type": "stream",
     "text": [
      "['1684996699.json', '1684996706.json', '1684996712.json', '1684996718.json', '1684996724.json', '1684996730.json', '1684996736.json', '1684996742.json', '1684996749.json', '1684996755.json', '1684996761.json', '1684996768.json', '1684996774.json', '1684996780.json', '1684996787.json', '1684996793.json', '1684996799.json', '1684996813.json', '1684996819.json', '1684996841.json', '1684996847.json', '1684996854.json', '1684996860.json', '1684996867.json', '1684996873.json', '1684996879.json', '1684996885.json', '1684996891.json', '1684996898.json', '1684996904.json', '1684996911.json', '1684996917.json', '1684996923.json', '1684996929.json', '1684996935.json', '1684996941.json', '1684996947.json', '1684996954.json', '1684996960.json', '1684996966.json', '1684996972.json', '1684996979.json', '1684996985.json', '1684996991.json', '1684996997.json', '1684997009.json']\n"
     ]
    }
   ],
   "source": [
    "data = json.loads(response.content.decode())\n",
    "print(data)"
   ]
  },
  {
   "cell_type": "code",
   "execution_count": 26,
   "metadata": {},
   "outputs": [],
   "source": [
    "for file in data:\n",
    "    file_path = \"./data/\" + file\n",
    "    if not path.exists(file_path):\n",
    "        url_file = \"https://vrlab.lt/hands_ml/dataset/{}\".format(file)\n",
    "        file_response = requests.get(url_file, headers=headers)\n",
    "        open(file_path, \"w\").write(file_response.content.decode())"
   ]
  }
 ],
 "metadata": {
  "kernelspec": {
   "display_name": ".venv",
   "language": "python",
   "name": "python3"
  },
  "language_info": {
   "codemirror_mode": {
    "name": "ipython",
    "version": 3
   },
   "file_extension": ".py",
   "mimetype": "text/x-python",
   "name": "python",
   "nbconvert_exporter": "python",
   "pygments_lexer": "ipython3",
   "version": "3.11.3"
  },
  "orig_nbformat": 4
 },
 "nbformat": 4,
 "nbformat_minor": 2
}
