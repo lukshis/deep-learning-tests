{
 "cells": [
  {
   "cell_type": "code",
   "execution_count": 1,
   "metadata": {},
   "outputs": [],
   "source": [
    "import requests\n",
    "import json\n",
    "import os.path as path"
   ]
  },
  {
   "cell_type": "code",
   "execution_count": 2,
   "metadata": {},
   "outputs": [
    {
     "name": "stdout",
     "output_type": "stream",
     "text": [
      "[\"1684996699.json\",\"1684996706.json\",\"1684996712.json\",\"1684996718.json\",\"1684996724.json\",\"1684996730.json\",\"1684996736.json\",\"1684996742.json\",\"1684996749.json\",\"1684996755.json\",\"1684996761.json\",\"1684996768.json\",\"1684996774.json\",\"1684996780.json\",\"1684996787.json\",\"1684996793.json\",\"1684996799.json\",\"1684996813.json\",\"1684996819.json\",\"1684996841.json\",\"1684996847.json\",\"1684996854.json\",\"1684996860.json\",\"1684996867.json\",\"1684996873.json\",\"1684996879.json\",\"1684996885.json\",\"1684996891.json\",\"1684996898.json\",\"1684996904.json\",\"1684996911.json\",\"1684996917.json\",\"1684996923.json\",\"1684996929.json\",\"1684996935.json\",\"1684996941.json\",\"1684996947.json\",\"1684996954.json\",\"1684996960.json\",\"1684996966.json\",\"1684996972.json\",\"1684996979.json\",\"1684996985.json\",\"1684996991.json\",\"1684996997.json\",\"1684997009.json\",\"1685964747.json\",\"1685964754.json\",\"1685964760.json\",\"1685964766.json\",\"1685964773.json\",\"1685964779.json\",\"1685964785.json\",\"1685964791.json\",\"1685964798.json\",\"1685964804.json\",\"1685964810.json\",\"1685964817.json\",\"1685964823.json\",\"1685964829.json\",\"1685964837.json\",\"1685964845.json\",\"1685964852.json\",\"1685964858.json\",\"1685964864.json\",\"1685964871.json\",\"1685964878.json\",\"1685964884.json\",\"1685964891.json\",\"1685964897.json\",\"1685964903.json\",\"1685964909.json\",\"1685964916.json\",\"1685964922.json\",\"1685964928.json\",\"1685964935.json\",\"1685964941.json\",\"1685964947.json\",\"1685964954.json\",\"1685964960.json\",\"1685964966.json\",\"1685964972.json\",\"1685964979.json\",\"1685964985.json\",\"1685964991.json\",\"1685964998.json\",\"1685965004.json\",\"1685965010.json\",\"1685965016.json\",\"1685965022.json\",\"1685965029.json\",\"1685965035.json\",\"1685965041.json\",\"1685965047.json\",\"1685965054.json\",\"1685965060.json\",\"1685965066.json\",\"1685965073.json\",\"1685965079.json\",\"1685965085.json\",\"1685965091.json\",\"1685965097.json\",\"1685965113.json\",\"1685965119.json\",\"1685965132.json\",\"1685965139.json\",\"1685965145.json\",\"1685965151.json\",\"1685965158.json\",\"1685965164.json\",\"1685965170.json\",\"1685965176.json\",\"1685965182.json\",\"1685965189.json\",\"1685965195.json\",\"1685965203.json\",\"1685965210.json\",\"1685965216.json\",\"1685965222.json\",\"1685965236.json\",\"1685965243.json\",\"1685965249.json\",\"1685965257.json\",\"1685965263.json\",\"1685965269.json\",\"1685965276.json\",\"1685965289.json\",\"1685965297.json\",\"1685965303.json\",\"1685965304.json\",\"1685965310.json\",\"1685965318.json\",\"1685965326.json\",\"1685965334.json\",\"1685965343.json\",\"1685965351.json\",\"1685965358.json\",\"1685965364.json\",\"1685965371.json\",\"1685965377.json\",\"1685965383.json\"]\n"
     ]
    }
   ],
   "source": [
    "url = \"https://vrlab.lt/hands_ml/dataset/files.php\"\n",
    "headers = {'User-Agent': 'Mozilla/5.0 (Macintosh; Intel Mac OS X 10_11_5) AppleWebKit/537.36 (KHTML, like Gecko) Chrome/50.0.2661.102 Safari/537.36'}\n",
    "response = requests.get(url, headers=headers)"
   ]
  },
  {
   "cell_type": "code",
   "execution_count": 3,
   "metadata": {},
   "outputs": [
    {
     "name": "stdout",
     "output_type": "stream",
     "text": [
      "['1684996699.json', '1684996706.json', '1684996712.json', '1684996718.json', '1684996724.json', '1684996730.json', '1684996736.json', '1684996742.json', '1684996749.json', '1684996755.json', '1684996761.json', '1684996768.json', '1684996774.json', '1684996780.json', '1684996787.json', '1684996793.json', '1684996799.json', '1684996813.json', '1684996819.json', '1684996841.json', '1684996847.json', '1684996854.json', '1684996860.json', '1684996867.json', '1684996873.json', '1684996879.json', '1684996885.json', '1684996891.json', '1684996898.json', '1684996904.json', '1684996911.json', '1684996917.json', '1684996923.json', '1684996929.json', '1684996935.json', '1684996941.json', '1684996947.json', '1684996954.json', '1684996960.json', '1684996966.json', '1684996972.json', '1684996979.json', '1684996985.json', '1684996991.json', '1684996997.json', '1684997009.json', '1685964747.json', '1685964754.json', '1685964760.json', '1685964766.json', '1685964773.json', '1685964779.json', '1685964785.json', '1685964791.json', '1685964798.json', '1685964804.json', '1685964810.json', '1685964817.json', '1685964823.json', '1685964829.json', '1685964837.json', '1685964845.json', '1685964852.json', '1685964858.json', '1685964864.json', '1685964871.json', '1685964878.json', '1685964884.json', '1685964891.json', '1685964897.json', '1685964903.json', '1685964909.json', '1685964916.json', '1685964922.json', '1685964928.json', '1685964935.json', '1685964941.json', '1685964947.json', '1685964954.json', '1685964960.json', '1685964966.json', '1685964972.json', '1685964979.json', '1685964985.json', '1685964991.json', '1685964998.json', '1685965004.json', '1685965010.json', '1685965016.json', '1685965022.json', '1685965029.json', '1685965035.json', '1685965041.json', '1685965047.json', '1685965054.json', '1685965060.json', '1685965066.json', '1685965073.json', '1685965079.json', '1685965085.json', '1685965091.json', '1685965097.json', '1685965113.json', '1685965119.json', '1685965132.json', '1685965139.json', '1685965145.json', '1685965151.json', '1685965158.json', '1685965164.json', '1685965170.json', '1685965176.json', '1685965182.json', '1685965189.json', '1685965195.json', '1685965203.json', '1685965210.json', '1685965216.json', '1685965222.json', '1685965236.json', '1685965243.json', '1685965249.json', '1685965257.json', '1685965263.json', '1685965269.json', '1685965276.json', '1685965289.json', '1685965297.json', '1685965303.json', '1685965304.json', '1685965310.json', '1685965318.json', '1685965326.json', '1685965334.json', '1685965343.json', '1685965351.json', '1685965358.json', '1685965364.json', '1685965371.json', '1685965377.json', '1685965383.json']\n"
     ]
    }
   ],
   "source": [
    "data = json.loads(response.content.decode())"
   ]
  },
  {
   "cell_type": "code",
   "execution_count": 4,
   "metadata": {},
   "outputs": [],
   "source": [
    "for file in data:\n",
    "    file_path = \"./data/\" + file\n",
    "    if not path.exists(file_path):\n",
    "        url_file = \"https://vrlab.lt/hands_ml/dataset/{}\".format(file)\n",
    "        file_response = requests.get(url_file, headers=headers)\n",
    "        open(file_path, \"w\").write(file_response.content.decode())"
   ]
  }
 ],
 "metadata": {
  "kernelspec": {
   "display_name": ".venv",
   "language": "python",
   "name": "python3"
  },
  "language_info": {
   "codemirror_mode": {
    "name": "ipython",
    "version": 3
   },
   "file_extension": ".py",
   "mimetype": "text/x-python",
   "name": "python",
   "nbconvert_exporter": "python",
   "pygments_lexer": "ipython3",
   "version": "3.10.11"
  },
  "orig_nbformat": 4
 },
 "nbformat": 4,
 "nbformat_minor": 2
}
