{
  "cells": [
    {
      "attachments": {},
      "cell_type": "markdown",
      "metadata": {
        "id": "x40eFfHeGdJO"
      },
      "source": [
        "CNN using finger component rotations and world location"
      ]
    },
    {
      "cell_type": "code",
      "execution_count": 1,
      "metadata": {
        "id": "20xJTw8d0EJB"
      },
      "outputs": [
        {
          "name": "stdout",
          "output_type": "stream",
          "text": [
            "WARNING:tensorflow:From d:\\Repositories\\python-workspaces\\deep-learning-tests\\.venv\\Lib\\site-packages\\keras\\src\\losses.py:2976: The name tf.losses.sparse_softmax_cross_entropy is deprecated. Please use tf.compat.v1.losses.sparse_softmax_cross_entropy instead.\n",
            "\n"
          ]
        }
      ],
      "source": [
        "# Seed value\n",
        "seed_value = 1\n",
        "\n",
        "# 1. Set `PYTHONHASHSEED` environment variable at a fixed value\n",
        "import os\n",
        "os.environ['PYTHONHASHSEED']=str(seed_value)\n",
        "seed_value += 1\n",
        "\n",
        "# 2. Set `python` built-in pseudo-random generator at a fixed value\n",
        "import random\n",
        "random.seed(seed_value)\n",
        "seed_value += 1\n",
        "\n",
        "# 3. Set `numpy` pseudo-random generator at a fixed value\n",
        "import numpy as np\n",
        "np.random.seed(seed_value)\n",
        "seed_value += 1\n",
        "\n",
        "# 4. Set `tensorflow` pseudo-random generator at a fixed value\n",
        "import tensorflow as tf\n",
        "tf.random.set_seed(seed_value)"
      ]
    },
    {
      "cell_type": "code",
      "execution_count": 2,
      "metadata": {
        "id": "uPuRX3RTMQ3R"
      },
      "outputs": [],
      "source": [
        "import pandas as pd\n",
        "import matplotlib.pyplot as plt\n",
        "import seaborn as sns\n",
        "from keras.utils import to_categorical\n",
        "from utils.parseData import GetData"
      ]
    },
    {
      "cell_type": "code",
      "execution_count": 3,
      "metadata": {},
      "outputs": [
        {
          "data": {
            "text/html": [
              "<div>\n",
              "<style scoped>\n",
              "    .dataframe tbody tr th:only-of-type {\n",
              "        vertical-align: middle;\n",
              "    }\n",
              "\n",
              "    .dataframe tbody tr th {\n",
              "        vertical-align: top;\n",
              "    }\n",
              "\n",
              "    .dataframe thead th {\n",
              "        text-align: right;\n",
              "    }\n",
              "</style>\n",
              "<table border=\"1\" class=\"dataframe\">\n",
              "  <thead>\n",
              "    <tr style=\"text-align: right;\">\n",
              "      <th></th>\n",
              "      <th>0</th>\n",
              "      <th>1</th>\n",
              "      <th>2</th>\n",
              "      <th>3</th>\n",
              "      <th>4</th>\n",
              "      <th>5</th>\n",
              "      <th>6</th>\n",
              "      <th>7</th>\n",
              "      <th>8</th>\n",
              "      <th>9</th>\n",
              "      <th>...</th>\n",
              "      <th>122</th>\n",
              "      <th>123</th>\n",
              "      <th>124</th>\n",
              "      <th>125</th>\n",
              "      <th>126</th>\n",
              "      <th>127</th>\n",
              "      <th>128</th>\n",
              "      <th>129</th>\n",
              "      <th>130</th>\n",
              "      <th>131</th>\n",
              "    </tr>\n",
              "  </thead>\n",
              "  <tbody>\n",
              "    <tr>\n",
              "      <th>0</th>\n",
              "      <td>-0.038792</td>\n",
              "      <td>-2.016457</td>\n",
              "      <td>1.548195</td>\n",
              "      <td>122.989521</td>\n",
              "      <td>5.031775</td>\n",
              "      <td>32.396511</td>\n",
              "      <td>0.254041</td>\n",
              "      <td>-2.744818</td>\n",
              "      <td>3.906211</td>\n",
              "      <td>154.947733</td>\n",
              "      <td>...</td>\n",
              "      <td>1.000470</td>\n",
              "      <td>-96.587422</td>\n",
              "      <td>-79.767570</td>\n",
              "      <td>-67.930081</td>\n",
              "      <td>1.115558</td>\n",
              "      <td>-5.913628</td>\n",
              "      <td>-0.568773</td>\n",
              "      <td>-70.781021</td>\n",
              "      <td>-70.997175</td>\n",
              "      <td>-87.361629</td>\n",
              "    </tr>\n",
              "    <tr>\n",
              "      <th>1</th>\n",
              "      <td>0.232234</td>\n",
              "      <td>-1.786558</td>\n",
              "      <td>1.794098</td>\n",
              "      <td>135.335277</td>\n",
              "      <td>22.762292</td>\n",
              "      <td>47.132208</td>\n",
              "      <td>-0.049160</td>\n",
              "      <td>-3.767692</td>\n",
              "      <td>3.268012</td>\n",
              "      <td>171.382518</td>\n",
              "      <td>...</td>\n",
              "      <td>17.626094</td>\n",
              "      <td>78.789987</td>\n",
              "      <td>5.173831</td>\n",
              "      <td>90.525847</td>\n",
              "      <td>4.690181</td>\n",
              "      <td>2.759705</td>\n",
              "      <td>14.530376</td>\n",
              "      <td>72.386893</td>\n",
              "      <td>-4.364089</td>\n",
              "      <td>104.625646</td>\n",
              "    </tr>\n",
              "    <tr>\n",
              "      <th>2</th>\n",
              "      <td>0.960879</td>\n",
              "      <td>-1.866656</td>\n",
              "      <td>1.434160</td>\n",
              "      <td>141.891296</td>\n",
              "      <td>28.615349</td>\n",
              "      <td>54.489470</td>\n",
              "      <td>1.780113</td>\n",
              "      <td>-3.887133</td>\n",
              "      <td>2.627067</td>\n",
              "      <td>-178.385441</td>\n",
              "      <td>...</td>\n",
              "      <td>16.152362</td>\n",
              "      <td>76.610167</td>\n",
              "      <td>22.542002</td>\n",
              "      <td>89.209393</td>\n",
              "      <td>6.549100</td>\n",
              "      <td>2.815749</td>\n",
              "      <td>13.717877</td>\n",
              "      <td>73.080910</td>\n",
              "      <td>-3.183434</td>\n",
              "      <td>110.232384</td>\n",
              "    </tr>\n",
              "    <tr>\n",
              "      <th>3</th>\n",
              "      <td>0.500170</td>\n",
              "      <td>-2.093755</td>\n",
              "      <td>1.352971</td>\n",
              "      <td>141.153613</td>\n",
              "      <td>28.042486</td>\n",
              "      <td>53.670653</td>\n",
              "      <td>0.796779</td>\n",
              "      <td>-4.303637</td>\n",
              "      <td>2.450669</td>\n",
              "      <td>-179.465062</td>\n",
              "      <td>...</td>\n",
              "      <td>16.933560</td>\n",
              "      <td>79.618323</td>\n",
              "      <td>-2.325866</td>\n",
              "      <td>93.411176</td>\n",
              "      <td>6.138421</td>\n",
              "      <td>0.651709</td>\n",
              "      <td>14.172652</td>\n",
              "      <td>73.203217</td>\n",
              "      <td>-12.320351</td>\n",
              "      <td>108.900585</td>\n",
              "    </tr>\n",
              "    <tr>\n",
              "      <th>4</th>\n",
              "      <td>-0.390707</td>\n",
              "      <td>-2.060587</td>\n",
              "      <td>1.437303</td>\n",
              "      <td>123.134389</td>\n",
              "      <td>5.315064</td>\n",
              "      <td>32.581669</td>\n",
              "      <td>-0.351397</td>\n",
              "      <td>-2.934589</td>\n",
              "      <td>3.763474</td>\n",
              "      <td>155.111402</td>\n",
              "      <td>...</td>\n",
              "      <td>0.768828</td>\n",
              "      <td>-94.026793</td>\n",
              "      <td>-73.783497</td>\n",
              "      <td>-70.421552</td>\n",
              "      <td>0.241170</td>\n",
              "      <td>-5.745536</td>\n",
              "      <td>-0.884762</td>\n",
              "      <td>-73.377815</td>\n",
              "      <td>-68.075547</td>\n",
              "      <td>-86.260239</td>\n",
              "    </tr>\n",
              "    <tr>\n",
              "      <th>...</th>\n",
              "      <td>...</td>\n",
              "      <td>...</td>\n",
              "      <td>...</td>\n",
              "      <td>...</td>\n",
              "      <td>...</td>\n",
              "      <td>...</td>\n",
              "      <td>...</td>\n",
              "      <td>...</td>\n",
              "      <td>...</td>\n",
              "      <td>...</td>\n",
              "      <td>...</td>\n",
              "      <td>...</td>\n",
              "      <td>...</td>\n",
              "      <td>...</td>\n",
              "      <td>...</td>\n",
              "      <td>...</td>\n",
              "      <td>...</td>\n",
              "      <td>...</td>\n",
              "      <td>...</td>\n",
              "      <td>...</td>\n",
              "      <td>...</td>\n",
              "    </tr>\n",
              "    <tr>\n",
              "      <th>381</th>\n",
              "      <td>1.560408</td>\n",
              "      <td>-1.684768</td>\n",
              "      <td>1.091419</td>\n",
              "      <td>148.457278</td>\n",
              "      <td>32.934622</td>\n",
              "      <td>61.704457</td>\n",
              "      <td>3.245266</td>\n",
              "      <td>-3.291881</td>\n",
              "      <td>1.960292</td>\n",
              "      <td>-169.296869</td>\n",
              "      <td>...</td>\n",
              "      <td>3.862290</td>\n",
              "      <td>-86.168018</td>\n",
              "      <td>-21.924498</td>\n",
              "      <td>-69.311016</td>\n",
              "      <td>8.916274</td>\n",
              "      <td>1.854423</td>\n",
              "      <td>13.072296</td>\n",
              "      <td>73.211078</td>\n",
              "      <td>6.368497</td>\n",
              "      <td>110.566225</td>\n",
              "    </tr>\n",
              "    <tr>\n",
              "      <th>382</th>\n",
              "      <td>1.011716</td>\n",
              "      <td>-1.638853</td>\n",
              "      <td>1.659850</td>\n",
              "      <td>148.173342</td>\n",
              "      <td>32.774044</td>\n",
              "      <td>61.394765</td>\n",
              "      <td>2.147013</td>\n",
              "      <td>-3.321488</td>\n",
              "      <td>3.093845</td>\n",
              "      <td>-171.363101</td>\n",
              "      <td>...</td>\n",
              "      <td>4.529200</td>\n",
              "      <td>-89.995962</td>\n",
              "      <td>-56.594173</td>\n",
              "      <td>-71.078596</td>\n",
              "      <td>4.902442</td>\n",
              "      <td>-0.481437</td>\n",
              "      <td>4.034646</td>\n",
              "      <td>-75.804420</td>\n",
              "      <td>-53.043261</td>\n",
              "      <td>-76.332654</td>\n",
              "    </tr>\n",
              "    <tr>\n",
              "      <th>383</th>\n",
              "      <td>1.218250</td>\n",
              "      <td>-1.910551</td>\n",
              "      <td>1.153331</td>\n",
              "      <td>147.868398</td>\n",
              "      <td>32.599157</td>\n",
              "      <td>61.061963</td>\n",
              "      <td>2.568595</td>\n",
              "      <td>-3.773550</td>\n",
              "      <td>2.092638</td>\n",
              "      <td>-169.068472</td>\n",
              "      <td>...</td>\n",
              "      <td>4.322083</td>\n",
              "      <td>-86.434279</td>\n",
              "      <td>-28.165119</td>\n",
              "      <td>-72.721014</td>\n",
              "      <td>7.895126</td>\n",
              "      <td>-0.378020</td>\n",
              "      <td>13.804896</td>\n",
              "      <td>72.043068</td>\n",
              "      <td>9.470013</td>\n",
              "      <td>104.796324</td>\n",
              "    </tr>\n",
              "    <tr>\n",
              "      <th>384</th>\n",
              "      <td>0.979406</td>\n",
              "      <td>-1.904365</td>\n",
              "      <td>1.370644</td>\n",
              "      <td>150.887756</td>\n",
              "      <td>34.223492</td>\n",
              "      <td>64.348447</td>\n",
              "      <td>2.166683</td>\n",
              "      <td>-3.780167</td>\n",
              "      <td>2.487889</td>\n",
              "      <td>-168.145301</td>\n",
              "      <td>...</td>\n",
              "      <td>4.078692</td>\n",
              "      <td>-89.098956</td>\n",
              "      <td>-52.788756</td>\n",
              "      <td>-70.615061</td>\n",
              "      <td>5.226265</td>\n",
              "      <td>-1.397790</td>\n",
              "      <td>3.760512</td>\n",
              "      <td>-75.055462</td>\n",
              "      <td>-54.098864</td>\n",
              "      <td>-75.249048</td>\n",
              "    </tr>\n",
              "    <tr>\n",
              "      <th>385</th>\n",
              "      <td>0.659308</td>\n",
              "      <td>-1.895971</td>\n",
              "      <td>1.560486</td>\n",
              "      <td>126.060943</td>\n",
              "      <td>10.566515</td>\n",
              "      <td>36.236635</td>\n",
              "      <td>1.008929</td>\n",
              "      <td>-2.782686</td>\n",
              "      <td>3.855699</td>\n",
              "      <td>159.424753</td>\n",
              "      <td>...</td>\n",
              "      <td>1.352635</td>\n",
              "      <td>-91.529213</td>\n",
              "      <td>-55.029742</td>\n",
              "      <td>-68.714461</td>\n",
              "      <td>5.417830</td>\n",
              "      <td>-12.932608</td>\n",
              "      <td>-0.243446</td>\n",
              "      <td>37.882938</td>\n",
              "      <td>67.773619</td>\n",
              "      <td>71.910761</td>\n",
              "    </tr>\n",
              "  </tbody>\n",
              "</table>\n",
              "<p>386 rows × 132 columns</p>\n",
              "</div>"
            ],
            "text/plain": [
              "          0         1         2           3          4          5         6    \\\n",
              "0   -0.038792 -2.016457  1.548195  122.989521   5.031775  32.396511  0.254041   \n",
              "1    0.232234 -1.786558  1.794098  135.335277  22.762292  47.132208 -0.049160   \n",
              "2    0.960879 -1.866656  1.434160  141.891296  28.615349  54.489470  1.780113   \n",
              "3    0.500170 -2.093755  1.352971  141.153613  28.042486  53.670653  0.796779   \n",
              "4   -0.390707 -2.060587  1.437303  123.134389   5.315064  32.581669 -0.351397   \n",
              "..        ...       ...       ...         ...        ...        ...       ...   \n",
              "381  1.560408 -1.684768  1.091419  148.457278  32.934622  61.704457  3.245266   \n",
              "382  1.011716 -1.638853  1.659850  148.173342  32.774044  61.394765  2.147013   \n",
              "383  1.218250 -1.910551  1.153331  147.868398  32.599157  61.061963  2.568595   \n",
              "384  0.979406 -1.904365  1.370644  150.887756  34.223492  64.348447  2.166683   \n",
              "385  0.659308 -1.895971  1.560486  126.060943  10.566515  36.236635  1.008929   \n",
              "\n",
              "          7         8           9    ...        122        123        124  \\\n",
              "0   -2.744818  3.906211  154.947733  ...   1.000470 -96.587422 -79.767570   \n",
              "1   -3.767692  3.268012  171.382518  ...  17.626094  78.789987   5.173831   \n",
              "2   -3.887133  2.627067 -178.385441  ...  16.152362  76.610167  22.542002   \n",
              "3   -4.303637  2.450669 -179.465062  ...  16.933560  79.618323  -2.325866   \n",
              "4   -2.934589  3.763474  155.111402  ...   0.768828 -94.026793 -73.783497   \n",
              "..        ...       ...         ...  ...        ...        ...        ...   \n",
              "381 -3.291881  1.960292 -169.296869  ...   3.862290 -86.168018 -21.924498   \n",
              "382 -3.321488  3.093845 -171.363101  ...   4.529200 -89.995962 -56.594173   \n",
              "383 -3.773550  2.092638 -169.068472  ...   4.322083 -86.434279 -28.165119   \n",
              "384 -3.780167  2.487889 -168.145301  ...   4.078692 -89.098956 -52.788756   \n",
              "385 -2.782686  3.855699  159.424753  ...   1.352635 -91.529213 -55.029742   \n",
              "\n",
              "           125       126        127        128        129        130  \\\n",
              "0   -67.930081  1.115558  -5.913628  -0.568773 -70.781021 -70.997175   \n",
              "1    90.525847  4.690181   2.759705  14.530376  72.386893  -4.364089   \n",
              "2    89.209393  6.549100   2.815749  13.717877  73.080910  -3.183434   \n",
              "3    93.411176  6.138421   0.651709  14.172652  73.203217 -12.320351   \n",
              "4   -70.421552  0.241170  -5.745536  -0.884762 -73.377815 -68.075547   \n",
              "..         ...       ...        ...        ...        ...        ...   \n",
              "381 -69.311016  8.916274   1.854423  13.072296  73.211078   6.368497   \n",
              "382 -71.078596  4.902442  -0.481437   4.034646 -75.804420 -53.043261   \n",
              "383 -72.721014  7.895126  -0.378020  13.804896  72.043068   9.470013   \n",
              "384 -70.615061  5.226265  -1.397790   3.760512 -75.055462 -54.098864   \n",
              "385 -68.714461  5.417830 -12.932608  -0.243446  37.882938  67.773619   \n",
              "\n",
              "            131  \n",
              "0    -87.361629  \n",
              "1    104.625646  \n",
              "2    110.232384  \n",
              "3    108.900585  \n",
              "4    -86.260239  \n",
              "..          ...  \n",
              "381  110.566225  \n",
              "382  -76.332654  \n",
              "383  104.796324  \n",
              "384  -75.249048  \n",
              "385   71.910761  \n",
              "\n",
              "[386 rows x 132 columns]"
            ]
          },
          "execution_count": 3,
          "metadata": {},
          "output_type": "execute_result"
        }
      ],
      "source": [
        "fileNames = 'comp_rot_world_loc'\n",
        "path = \"./data/\"\n",
        "labels, data = GetData(path=path, augment=False, loc=True, w_space=True)\n",
        "\n",
        "df = pd.DataFrame(data) # for visualising\n",
        "df"
      ]
    },
    {
      "cell_type": "code",
      "execution_count": 4,
      "metadata": {
        "id": "KAPMKNRsYO77"
      },
      "outputs": [],
      "source": [
        "from sklearn.model_selection import train_test_split\n",
        "X_train, X_test, y_train, y_test = train_test_split(data, labels, test_size=0.2, random_state=2, stratify=labels)"
      ]
    },
    {
      "cell_type": "code",
      "execution_count": 5,
      "metadata": {
        "colab": {
          "base_uri": "https://localhost:8080/",
          "height": 701
        },
        "id": "W6LNY3Rb3adE",
        "outputId": "45a4d9de-331f-4878-dd93-fa8bb8378cbe"
      },
      "outputs": [
        {
          "data": {
            "image/png": "[encoded data removed]",
            "text/plain": [
              "<Figure size 2000x827 with 1 Axes>"
            ]
          },
          "metadata": {},
          "output_type": "display_data"
        }
      ],
      "source": [
        "sns.set(rc={'figure.figsize':(20,8.27)})\n",
        "sns.set_style(\"ticks\")\n",
        "sns.color_palette(\"hls\", 8)\n",
        "cat = sns.countplot(x=y_train.reshape(-1))"
      ]
    },
    {
      "cell_type": "code",
      "execution_count": 6,
      "metadata": {
        "colab": {
          "base_uri": "https://localhost:8080/"
        },
        "id": "lBUN-OaGcCrK",
        "outputId": "af9b0390-e77c-4788-9df2-0e7192acad5c"
      },
      "outputs": [
        {
          "name": "stdout",
          "output_type": "stream",
          "text": [
            "X_train shape: (308, 132)\n",
            "y_train shape: (308, 1)\n",
            "\n",
            "X_test shape: (78, 132)\n",
            "y_test shape: (78, 1)\n"
          ]
        }
      ],
      "source": [
        "print(\"X_train shape: {}\".format(X_train.shape))\n",
        "print(\"y_train shape: {}\".format(y_train.shape))\n",
        "print(\"\")\n",
        "print(\"X_test shape: {}\".format(X_test.shape))\n",
        "print(\"y_test shape: {}\".format(y_test.shape))"
      ]
    },
    {
      "attachments": {},
      "cell_type": "markdown",
      "metadata": {
        "id": "qtvRGoAqq-45"
      },
      "source": [
        "Changing labels shape to categorical: "
      ]
    },
    {
      "cell_type": "code",
      "execution_count": 7,
      "metadata": {
        "colab": {
          "base_uri": "https://localhost:8080/"
        },
        "id": "mjHK2Ye-Lv6w",
        "outputId": "7c68aac4-8468-4e50-e1ac-2ed2abfcf5ab"
      },
      "outputs": [
        {
          "data": {
            "text/plain": [
              "array([1.])"
            ]
          },
          "execution_count": 7,
          "metadata": {},
          "output_type": "execute_result"
        }
      ],
      "source": [
        "y_train[0]"
      ]
    },
    {
      "cell_type": "code",
      "execution_count": 8,
      "metadata": {
        "id": "sBdIbjiHLlIl"
      },
      "outputs": [],
      "source": [
        "y_train = to_categorical(y_train)\n",
        "y_test = to_categorical(y_test)"
      ]
    },
    {
      "cell_type": "code",
      "execution_count": 9,
      "metadata": {
        "colab": {
          "base_uri": "https://localhost:8080/"
        },
        "id": "l08iFFEaMVFc",
        "outputId": "4966db94-f6e9-4d06-8b3d-d59887c0c5f4"
      },
      "outputs": [
        {
          "data": {
            "text/plain": [
              "array([0., 1., 0., 0., 0., 0., 0., 0.], dtype=float32)"
            ]
          },
          "execution_count": 9,
          "metadata": {},
          "output_type": "execute_result"
        }
      ],
      "source": [
        "y_train[0]"
      ]
    },
    {
      "cell_type": "code",
      "execution_count": 10,
      "metadata": {
        "colab": {
          "base_uri": "https://localhost:8080/"
        },
        "id": "kNdMwcxOcF75",
        "outputId": "7df00c38-1cb8-48ea-e6b2-a23680b2feb1"
      },
      "outputs": [
        {
          "name": "stdout",
          "output_type": "stream",
          "text": [
            "y_train shape: (308, 8)\n",
            "y_test shape: (78, 8)\n"
          ]
        }
      ],
      "source": [
        "print(\"y_train shape: {}\".format(y_train.shape))\n",
        "print(\"y_test shape: {}\".format(y_test.shape))"
      ]
    },
    {
      "cell_type": "code",
      "execution_count": 11,
      "metadata": {
        "id": "4-NqVgArxZpV"
      },
      "outputs": [],
      "source": [
        "X_train = np.expand_dims(X_train, -1)\n",
        "X_test = np.expand_dims(X_test, -1)"
      ]
    },
    {
      "cell_type": "code",
      "execution_count": 12,
      "metadata": {
        "colab": {
          "base_uri": "https://localhost:8080/"
        },
        "id": "qrDuwyqcxjcN",
        "outputId": "84ad19a3-772c-4944-d561-2920d6076ba7"
      },
      "outputs": [
        {
          "name": "stdout",
          "output_type": "stream",
          "text": [
            "X_train shape: (308, 132, 1)\n",
            "X_test shape: (78, 132, 1)\n"
          ]
        }
      ],
      "source": [
        "print(\"X_train shape: {}\".format(X_train.shape))\n",
        "print(\"X_test shape: {}\".format(X_test.shape))"
      ]
    },
    {
      "cell_type": "code",
      "execution_count": 13,
      "metadata": {
        "id": "DrdJlXc_6vYp"
      },
      "outputs": [],
      "source": [
        "class_mapping = ['thumbs_up','thumbs_down','ok','victory', 'horns', 'phone', 'one', 'point']\n",
        "num_classes = 8"
      ]
    },
    {
      "attachments": {},
      "cell_type": "markdown",
      "metadata": {
        "id": "pPltiJu5uwk5"
      },
      "source": [
        "#2. Creating and training CNN"
      ]
    },
    {
      "cell_type": "code",
      "execution_count": 14,
      "metadata": {
        "id": "kQQ_E9BDu22d"
      },
      "outputs": [],
      "source": [
        "import keras\n",
        "from keras import layers  \n",
        "from keras import models\n",
        "from keras import callbacks\n",
        "from sklearn.metrics import confusion_matrix\n",
        "from sklearn.metrics import classification_report"
      ]
    },
    {
      "cell_type": "code",
      "execution_count": 15,
      "metadata": {
        "id": "XB26lE4Cs2J6"
      },
      "outputs": [],
      "source": [
        "def create_1D_model():\n",
        "  model = models.Sequential()\n",
        "\n",
        "  model.add(layers.Conv1D(32, 3, input_shape=X_train.shape[1:3], activation='relu', ))\n",
        "  model.add(layers.Conv1D(16, 1, activation='relu', ))\n",
        "  model.add(layers.Dropout(0.2))\n",
        "  model.add(layers.MaxPooling1D(pool_size=2))\n",
        "\n",
        "  model.add(layers.Flatten())\n",
        "\n",
        "  model.add(layers.Dense(64, activation='relu'))\n",
        "  model.add(layers.Dense(num_classes, activation='softmax'))\n",
        "\n",
        "  return model"
      ]
    },
    {
      "cell_type": "code",
      "execution_count": 16,
      "metadata": {
        "id": "Z3we38y4uVO2"
      },
      "outputs": [
        {
          "name": "stdout",
          "output_type": "stream",
          "text": [
            "WARNING:tensorflow:From d:\\Repositories\\python-workspaces\\deep-learning-tests\\.venv\\Lib\\site-packages\\keras\\src\\backend.py:873: The name tf.get_default_graph is deprecated. Please use tf.compat.v1.get_default_graph instead.\n",
            "\n",
            "WARNING:tensorflow:From d:\\Repositories\\python-workspaces\\deep-learning-tests\\.venv\\Lib\\site-packages\\keras\\src\\backend.py:6642: The name tf.nn.max_pool is deprecated. Please use tf.nn.max_pool2d instead.\n",
            "\n"
          ]
        }
      ],
      "source": [
        "model = create_1D_model()\n",
        "model.compile(optimizer=keras.optimizers.SGD(),loss='categorical_crossentropy',metrics=['accuracy', 'Precision', 'Recall'])"
      ]
    },
    {
      "cell_type": "code",
      "execution_count": 17,
      "metadata": {
        "id": "-RqVuh2jxv6h"
      },
      "outputs": [],
      "source": [
        "MCP = keras.callbacks.ModelCheckpoint('./results/' + 'model_' + fileNames + '.h5',verbose=1,save_best_only=True,monitor='val_accuracy',mode='max')\n",
        "ES = keras.callbacks.EarlyStopping(monitor='val_accuracy',min_delta=0,verbose=0,restore_best_weights = True,patience=3,mode='max')\n",
        "RLP = keras.callbacks.ReduceLROnPlateau(monitor='val_loss',patience=3,factor=0.2,min_lr=0.0001)"
      ]
    },
    {
      "cell_type": "code",
      "execution_count": 18,
      "metadata": {
        "colab": {
          "base_uri": "https://localhost:8080/"
        },
        "id": "QFM4H7pfyDnq",
        "outputId": "b0bfb17a-ed85-43eb-d6bc-1deef3b0ceda"
      },
      "outputs": [
        {
          "name": "stdout",
          "output_type": "stream",
          "text": [
            "Epoch 1/100\n",
            "WARNING:tensorflow:From d:\\Repositories\\python-workspaces\\deep-learning-tests\\.venv\\Lib\\site-packages\\keras\\src\\utils\\tf_utils.py:492: The name tf.ragged.RaggedTensorValue is deprecated. Please use tf.compat.v1.ragged.RaggedTensorValue instead.\n",
            "\n",
            "WARNING:tensorflow:From d:\\Repositories\\python-workspaces\\deep-learning-tests\\.venv\\Lib\\site-packages\\keras\\src\\engine\\base_layer_utils.py:384: The name tf.executing_eagerly_outside_functions is deprecated. Please use tf.compat.v1.executing_eagerly_outside_functions instead.\n",
            "\n",
            " 1/10 [==>...........................] - ETA: 4s - loss: 27.1446 - accuracy: 0.0312 - precision: 0.0312 - recall: 0.0312\n",
            "Epoch 1: val_accuracy improved from -inf to 0.50000, saving model to ./results\\model_comp_rot_world_loc.h5\n",
            "10/10 [==============================] - 1s 22ms/step - loss: 14.4505 - accuracy: 0.3506 - precision: 0.3641 - recall: 0.2175 - val_loss: 0.8973 - val_accuracy: 0.5000 - val_precision: 1.0000 - val_recall: 0.3974 - lr: 0.0100\n",
            "Epoch 2/100\n",
            " 1/10 [==>...........................] - ETA: 0s - loss: 1.0778 - accuracy: 0.6250 - precision: 0.8667 - recall: 0.4062\n",
            "Epoch 2: val_accuracy improved from 0.50000 to 0.88462, saving model to ./results\\model_comp_rot_world_loc.h5\n",
            "10/10 [==============================] - 0s 6ms/step - loss: 0.8319 - accuracy: 0.6883 - precision: 0.7857 - recall: 0.5714 - val_loss: 0.4249 - val_accuracy: 0.8846 - val_precision: 0.9683 - val_recall: 0.7821 - lr: 0.0100\n",
            "Epoch 3/100\n",
            " 1/10 [==>...........................] - ETA: 0s - loss: 0.5902 - accuracy: 0.7500 - precision: 0.7857 - recall: 0.6875\n",
            "Epoch 3: val_accuracy did not improve from 0.88462\n",
            "10/10 [==============================] - 0s 5ms/step - loss: 0.6047 - accuracy: 0.7922 - precision: 0.8269 - recall: 0.7597 - val_loss: 0.8047 - val_accuracy: 0.6282 - val_precision: 0.6528 - val_recall: 0.6026 - lr: 0.0100\n",
            "Epoch 4/100\n",
            " 1/10 [==>...........................] - ETA: 0s - loss: 0.6226 - accuracy: 0.7812 - precision: 0.8000 - recall: 0.7500\n",
            "Epoch 4: val_accuracy improved from 0.88462 to 0.97436, saving model to ./results\\model_comp_rot_world_loc.h5\n",
            "10/10 [==============================] - 0s 6ms/step - loss: 0.3511 - accuracy: 0.8701 - precision: 0.9010 - recall: 0.8571 - val_loss: 0.1400 - val_accuracy: 0.9744 - val_precision: 0.9870 - val_recall: 0.9744 - lr: 0.0100\n",
            "Epoch 5/100\n",
            " 1/10 [==>...........................] - ETA: 0s - loss: 0.2684 - accuracy: 0.9062 - precision: 0.9333 - recall: 0.8750"
          ]
        },
        {
          "name": "stderr",
          "output_type": "stream",
          "text": [
            "d:\\Repositories\\python-workspaces\\deep-learning-tests\\.venv\\Lib\\site-packages\\keras\\src\\engine\\training.py:3103: UserWarning: You are saving your model as an HDF5 file via `model.save()`. This file format is considered legacy. We recommend using instead the native Keras format, e.g. `model.save('my_model.keras')`.\n",
            "  saving_api.save_model(\n"
          ]
        },
        {
          "name": "stdout",
          "output_type": "stream",
          "text": [
            "\n",
            "Epoch 5: val_accuracy improved from 0.97436 to 1.00000, saving model to ./results\\model_comp_rot_world_loc.h5\n",
            "10/10 [==============================] - 0s 5ms/step - loss: 0.3163 - accuracy: 0.8701 - precision: 0.8966 - recall: 0.8442 - val_loss: 0.0926 - val_accuracy: 1.0000 - val_precision: 1.0000 - val_recall: 1.0000 - lr: 0.0100\n",
            "Epoch 6/100\n",
            " 1/10 [==>...........................] - ETA: 0s - loss: 0.1912 - accuracy: 0.9062 - precision: 0.9062 - recall: 0.9062\n",
            "Epoch 6: val_accuracy did not improve from 1.00000\n",
            "10/10 [==============================] - 0s 4ms/step - loss: 0.2277 - accuracy: 0.9156 - precision: 0.9180 - recall: 0.9091 - val_loss: 0.1984 - val_accuracy: 0.9231 - val_precision: 0.9351 - val_recall: 0.9231 - lr: 0.0100\n",
            "Epoch 7/100\n",
            " 1/10 [==>...........................] - ETA: 0s - loss: 0.2868 - accuracy: 0.8750 - precision: 0.8710 - recall: 0.8438\n",
            "Epoch 7: val_accuracy did not improve from 1.00000\n",
            "10/10 [==============================] - 0s 4ms/step - loss: 0.1680 - accuracy: 0.9318 - precision: 0.9408 - recall: 0.9286 - val_loss: 0.1181 - val_accuracy: 0.9615 - val_precision: 0.9615 - val_recall: 0.9615 - lr: 0.0100\n",
            "Epoch 8/100\n",
            " 1/10 [==>...........................] - ETA: 0s - loss: 0.3869 - accuracy: 0.7812 - precision: 0.7812 - recall: 0.7812\n",
            "Epoch 8: val_accuracy did not improve from 1.00000\n",
            "10/10 [==============================] - 0s 5ms/step - loss: 0.2160 - accuracy: 0.9123 - precision: 0.9180 - recall: 0.9091 - val_loss: 0.2556 - val_accuracy: 0.8846 - val_precision: 0.8846 - val_recall: 0.8846 - lr: 0.0100\n"
          ]
        }
      ],
      "source": [
        "history = model.fit(X_train, y_train, batch_size=32,epochs=100, validation_data=(X_test, y_test),callbacks=[MCP,ES,RLP],verbose=1)"
      ]
    },
    {
      "attachments": {},
      "cell_type": "markdown",
      "metadata": {
        "id": "-Dw9vP9R0rBC"
      },
      "source": [
        "#3. CNN evaluation"
      ]
    },
    {
      "cell_type": "code",
      "execution_count": 19,
      "metadata": {
        "colab": {
          "base_uri": "https://localhost:8080/"
        },
        "id": "MOBo5Kk8yt2S",
        "outputId": "98671496-5e1c-4f1b-84bb-2006251d8f1a"
      },
      "outputs": [
        {
          "name": "stdout",
          "output_type": "stream",
          "text": [
            "3/3 - 0s - loss: 0.0926 - accuracy: 1.0000 - precision: 1.0000 - recall: 1.0000 - 16ms/epoch - 5ms/step\n"
          ]
        },
        {
          "data": {
            "text/plain": [
              "[0.09259553998708725, 1.0, 1.0, 1.0]"
            ]
          },
          "execution_count": 19,
          "metadata": {},
          "output_type": "execute_result"
        }
      ],
      "source": [
        "model.evaluate(X_test, y_test, verbose=2)"
      ]
    },
    {
      "cell_type": "code",
      "execution_count": 20,
      "metadata": {
        "colab": {
          "base_uri": "https://localhost:8080/",
          "height": 790
        },
        "id": "ruqORYd_zRVD",
        "outputId": "f05c927e-6b9e-4591-eedd-f6741810cb0d"
      },
      "outputs": [
        {
          "data": {
            "image/png": "[encoded data removed]",
            "text/plain": [
              "<Figure size 1000x400 with 1 Axes>"
            ]
          },
          "metadata": {},
          "output_type": "display_data"
        },
        {
          "data": {
            "text/plain": [
              "<Figure size 2000x827 with 0 Axes>"
            ]
          },
          "metadata": {},
          "output_type": "display_data"
        },
        {
          "data": {
            "image/png": "[encoded data removed]",
            "text/plain": [
              "<Figure size 1000x400 with 1 Axes>"
            ]
          },
          "metadata": {},
          "output_type": "display_data"
        }
      ],
      "source": [
        "acc = history.history['accuracy']\n",
        "val_acc = history.history['val_accuracy']\n",
        "loss = history.history['loss']\n",
        "val_loss = history.history['val_loss']\n",
        "epochs = range(1, len(acc) + 1)\n",
        "\n",
        "plt.figure(figsize=(10, 4))\n",
        "plt.plot(epochs, acc, 'b', label='Training accuracy')\n",
        "plt.plot(epochs, val_acc, 'r', label='Validation accuracy')\n",
        "plt.title('Training and validation accuracy (' + fileNames + ')')\n",
        "plt.legend() \n",
        "plt.savefig('./results/acc_' + fileNames + '.png',dpi=200)\n",
        "plt.figure()\n",
        "\n",
        "plt.figure(figsize=(10, 4))\n",
        "plt.plot(epochs, loss, 'b', label='Training loss')\n",
        "plt.plot(epochs, val_loss, 'r', label='Validation loss')\n",
        "plt.title('Training and validation_loss (' + fileNames + ')')\n",
        "plt.savefig('./results/loss_' + fileNames + '.png',dpi=200)\n",
        "plt.legend()\n",
        "plt.show()"
      ]
    },
    {
      "cell_type": "code",
      "execution_count": 21,
      "metadata": {
        "colab": {
          "base_uri": "https://localhost:8080/"
        },
        "id": "EItlVQkF0RhD",
        "outputId": "dbac0ee1-f107-4894-b170-3da40e99a363"
      },
      "outputs": [
        {
          "name": "stdout",
          "output_type": "stream",
          "text": [
            "3/3 [==============================] - 0s 1ms/step\n"
          ]
        }
      ],
      "source": [
        "predictions = np.argmax(model.predict(X_test), axis=1)\n",
        "actual = np.argmax(y_test, axis=1)"
      ]
    },
    {
      "cell_type": "code",
      "execution_count": 22,
      "metadata": {
        "colab": {
          "base_uri": "https://localhost:8080/",
          "height": 688
        },
        "id": "4zGv7Y__z6ha",
        "outputId": "982279ea-2384-4c0e-ead8-dbba1469ec49"
      },
      "outputs": [
        {
          "data": {
            "image/png": "[encoded data removed]",
            "text/plain": [
              "<Figure size 800x800 with 2 Axes>"
            ]
          },
          "metadata": {},
          "output_type": "display_data"
        }
      ],
      "source": [
        "plt.figure(figsize=(8, 8))\n",
        "cm = confusion_matrix(actual, predictions)\n",
        "g = sns.heatmap(cm, annot=True, fmt='.0f')\n",
        "g.set_xticklabels(class_mapping)\n",
        "g.set_yticklabels(class_mapping)\n",
        "plt.title(fileNames)\n",
        "plt.savefig('./results/confusion_' + fileNames + '.png',dpi=200)\n",
        "plt.show()"
      ]
    },
    {
      "cell_type": "code",
      "execution_count": 23,
      "metadata": {
        "colab": {
          "base_uri": "https://localhost:8080/"
        },
        "id": "v8KlCwfc0RNT",
        "outputId": "bf2af898-550b-4ba2-b3d0-614ec0e2c8b7"
      },
      "outputs": [
        {
          "name": "stdout",
          "output_type": "stream",
          "text": [
            "              precision    recall  f1-score   support\n",
            "\n",
            "           0       1.00      1.00      1.00        12\n",
            "           1       1.00      1.00      1.00        11\n",
            "           2       1.00      1.00      1.00        16\n",
            "           3       1.00      1.00      1.00        15\n",
            "           4       1.00      1.00      1.00         6\n",
            "           5       1.00      1.00      1.00         6\n",
            "           6       1.00      1.00      1.00         6\n",
            "           7       1.00      1.00      1.00         6\n",
            "\n",
            "    accuracy                           1.00        78\n",
            "   macro avg       1.00      1.00      1.00        78\n",
            "weighted avg       1.00      1.00      1.00        78\n",
            "\n"
          ]
        }
      ],
      "source": [
        "y_test_temp = np.argmax(y_test, axis=1)\n",
        "print(classification_report(y_test_temp, predictions))"
      ]
    }
  ],
  "metadata": {
    "accelerator": "GPU",
    "colab": {
      "collapsed_sections": [
        "Di3bXlrt_2D7",
        "WLGuNvTetTsb",
        "3M6Y1qJxwevi",
        "5ZkFPdpzvufG",
        "RhPMGvdqL-66",
        "tamGRqsuV__t",
        "w1u2BW-8X__U",
        "IybSGAD-2iUh",
        "bh_mMRWype95"
      ],
      "gpuClass": "premium",
      "machine_shape": "hm",
      "provenance": []
    },
    "gpuClass": "premium",
    "kernelspec": {
      "display_name": "Python 3",
      "name": "python3"
    },
    "language_info": {
      "codemirror_mode": {
        "name": "ipython",
        "version": 3
      },
      "file_extension": ".py",
      "mimetype": "text/x-python",
      "name": "python",
      "nbconvert_exporter": "python",
      "pygments_lexer": "ipython3",
      "version": "3.11.7"
    }
  },
  "nbformat": 4,
  "nbformat_minor": 0
}
